{
 "cells": [
  {
   "cell_type": "markdown",
   "metadata": {},
   "source": [
    "# Machine Learning 2 - Final Project\n",
    "\n",
    "## Learning Team 8 - MSDS PT2025B\n",
    "\n",
    "* Borromeo, Chloe\n",
    "* Sison, Florence\n",
    "* Young, Daniel O.\n",
    "* Dorado, Joshua Renzo"
   ]
  },
  {
   "cell_type": "code",
   "metadata": {
    "ExecuteTime": {
     "end_time": "2024-11-27T03:42:42.149177Z",
     "start_time": "2024-11-27T03:42:42.139134Z"
    }
   },
   "source": [
    "# Import modules\n",
    "from sklearn.feature_selection import RFECV\n",
    "\n",
    "import pandas as pd\n",
    "import numpy as np\n",
    "import matplotlib.pyplot as plt\n",
    "import seaborn as sns\n",
    "import matplotlib.ticker as ticker\n",
    "plt.rcParams['figure.figsize'] = (8,6)\n",
    "\n",
    "from collections import Counter\n",
    "from sklearn.model_selection import KFold\n",
    "from sklearn.model_selection import cross_val_score\n",
    "import time\n",
    "from sklearn.model_selection import RepeatedKFold, cross_validate, train_test_split\n",
    "from sklearn.metrics import make_scorer, precision_score, recall_score, f1_score, roc_auc_score, matthews_corrcoef, classification_report, confusion_matrix, accuracy_score, ConfusionMatrixDisplay\n",
    "\n",
    "from sklearn.model_selection import cross_val_predict\n",
    "from sklearn.tree import DecisionTreeClassifier\n",
    "from sklearn.linear_model import LogisticRegression\n",
    "from sklearn.neighbors import KNeighborsClassifier\n",
    "from sklearn.ensemble import RandomForestClassifier\n",
    "from xgboost import XGBClassifier\n",
    "from lightgbm import LGBMClassifier\n",
    "from sklearn.neural_network import MLPClassifier\n",
    "\n",
    "from sklearn.naive_bayes import GaussianNB\n",
    "\n",
    "from sklearn import metrics\n",
    "from sklearn.pipeline import Pipeline\n",
    "\n",
    "from sklearn.model_selection import GridSearchCV\n"
   ],
   "outputs": [],
   "execution_count": 62
  },
  {
   "cell_type": "code",
   "metadata": {
    "ExecuteTime": {
     "end_time": "2024-11-27T03:42:45.200986Z",
     "start_time": "2024-11-27T03:42:45.195817Z"
    }
   },
   "source": [
    "# Suppress warnings\n",
    "import warnings\n",
    "warnings.filterwarnings('ignore')"
   ],
   "outputs": [],
   "execution_count": 63
  },
  {
   "cell_type": "markdown",
   "metadata": {},
   "source": [
    "## A. PREPROCESSING"
   ]
  },
  {
   "cell_type": "code",
   "metadata": {
    "ExecuteTime": {
     "end_time": "2024-11-27T03:42:55.209308Z",
     "start_time": "2024-11-27T03:42:45.203629Z"
    }
   },
   "source": [
    "# Read the Credit Card Balances data\n",
    "\n",
    "credit_card = (\n",
    "    pd.read_csv(\"./data/credit_card_balance.csv\")\n",
    "    # Keep only active contracts and with credit limit for upselling\n",
    "    .query('NAME_CONTRACT_STATUS == \"Active\"')\n",
    "    .sort_values(by=['SK_ID_CURR', 'MONTHS_BALANCE'], ascending=[False, False])\n",
    "    .drop(\"NAME_CONTRACT_STATUS\", axis=1)\n",
    "    .set_index('SK_ID_CURR', drop=True)\n",
    ")\n",
    "\n",
    "credit_card[\"AMT_INST_MIN_REGULARITY\"] = credit_card[\"AMT_INST_MIN_REGULARITY\"].fillna(0)\n",
    "\n",
    "credit_card.head()"
   ],
   "outputs": [
    {
     "data": {
      "text/plain": [
       "            SK_ID_PREV  MONTHS_BALANCE  AMT_BALANCE  AMT_CREDIT_LIMIT_ACTUAL  \\\n",
       "SK_ID_CURR                                                                     \n",
       "456250         1794451              -1   153832.725                   175500   \n",
       "456250         1794451              -2   158266.935                   175500   \n",
       "456250         1794451              -3   162425.565                   175500   \n",
       "456250         1794451              -4   166188.150                   180000   \n",
       "456250         1794451              -5   169443.855                   180000   \n",
       "\n",
       "            AMT_DRAWINGS_ATM_CURRENT  AMT_DRAWINGS_CURRENT  \\\n",
       "SK_ID_CURR                                                   \n",
       "456250                           0.0                   0.0   \n",
       "456250                           0.0                   0.0   \n",
       "456250                           0.0                   0.0   \n",
       "456250                           0.0                   0.0   \n",
       "456250                           0.0                   0.0   \n",
       "\n",
       "            AMT_DRAWINGS_OTHER_CURRENT  AMT_DRAWINGS_POS_CURRENT  \\\n",
       "SK_ID_CURR                                                         \n",
       "456250                             0.0                       0.0   \n",
       "456250                             0.0                       0.0   \n",
       "456250                             0.0                       0.0   \n",
       "456250                             0.0                       0.0   \n",
       "456250                             0.0                       0.0   \n",
       "\n",
       "            AMT_INST_MIN_REGULARITY  AMT_PAYMENT_CURRENT  ...  \\\n",
       "SK_ID_CURR                                                ...   \n",
       "456250                     8286.390               9675.0  ...   \n",
       "456250                     8477.730               9675.0  ...   \n",
       "456250                     8643.600               9000.0  ...   \n",
       "456250                     8804.565               9000.0  ...   \n",
       "456250                     8931.420               9000.0  ...   \n",
       "\n",
       "            AMT_RECEIVABLE_PRINCIPAL  AMT_RECIVABLE  AMT_TOTAL_RECEIVABLE  \\\n",
       "SK_ID_CURR                                                                  \n",
       "456250                    151808.220     153832.725            153832.725   \n",
       "456250                    156053.160     158266.935            158266.935   \n",
       "456250                    160554.375     162425.565            162425.565   \n",
       "456250                    163871.775     166188.150            166188.150   \n",
       "456250                    167091.345     169443.855            169443.855   \n",
       "\n",
       "            CNT_DRAWINGS_ATM_CURRENT  CNT_DRAWINGS_CURRENT  \\\n",
       "SK_ID_CURR                                                   \n",
       "456250                           0.0                     0   \n",
       "456250                           0.0                     0   \n",
       "456250                           0.0                     0   \n",
       "456250                           0.0                     0   \n",
       "456250                           0.0                     0   \n",
       "\n",
       "            CNT_DRAWINGS_OTHER_CURRENT  CNT_DRAWINGS_POS_CURRENT  \\\n",
       "SK_ID_CURR                                                         \n",
       "456250                             0.0                       0.0   \n",
       "456250                             0.0                       0.0   \n",
       "456250                             0.0                       0.0   \n",
       "456250                             0.0                       0.0   \n",
       "456250                             0.0                       0.0   \n",
       "\n",
       "            CNT_INSTALMENT_MATURE_CUM  SK_DPD  SK_DPD_DEF  \n",
       "SK_ID_CURR                                                 \n",
       "456250                           10.0       0           0  \n",
       "456250                            9.0       0           0  \n",
       "456250                            8.0       0           0  \n",
       "456250                            7.0       0           0  \n",
       "456250                            6.0       0           0  \n",
       "\n",
       "[5 rows x 21 columns]"
      ],
      "text/html": [
       "<div>\n",
       "<style scoped>\n",
       "    .dataframe tbody tr th:only-of-type {\n",
       "        vertical-align: middle;\n",
       "    }\n",
       "\n",
       "    .dataframe tbody tr th {\n",
       "        vertical-align: top;\n",
       "    }\n",
       "\n",
       "    .dataframe thead th {\n",
       "        text-align: right;\n",
       "    }\n",
       "</style>\n",
       "<table border=\"1\" class=\"dataframe\">\n",
       "  <thead>\n",
       "    <tr style=\"text-align: right;\">\n",
       "      <th></th>\n",
       "      <th>SK_ID_PREV</th>\n",
       "      <th>MONTHS_BALANCE</th>\n",
       "      <th>AMT_BALANCE</th>\n",
       "      <th>AMT_CREDIT_LIMIT_ACTUAL</th>\n",
       "      <th>AMT_DRAWINGS_ATM_CURRENT</th>\n",
       "      <th>AMT_DRAWINGS_CURRENT</th>\n",
       "      <th>AMT_DRAWINGS_OTHER_CURRENT</th>\n",
       "      <th>AMT_DRAWINGS_POS_CURRENT</th>\n",
       "      <th>AMT_INST_MIN_REGULARITY</th>\n",
       "      <th>AMT_PAYMENT_CURRENT</th>\n",
       "      <th>...</th>\n",
       "      <th>AMT_RECEIVABLE_PRINCIPAL</th>\n",
       "      <th>AMT_RECIVABLE</th>\n",
       "      <th>AMT_TOTAL_RECEIVABLE</th>\n",
       "      <th>CNT_DRAWINGS_ATM_CURRENT</th>\n",
       "      <th>CNT_DRAWINGS_CURRENT</th>\n",
       "      <th>CNT_DRAWINGS_OTHER_CURRENT</th>\n",
       "      <th>CNT_DRAWINGS_POS_CURRENT</th>\n",
       "      <th>CNT_INSTALMENT_MATURE_CUM</th>\n",
       "      <th>SK_DPD</th>\n",
       "      <th>SK_DPD_DEF</th>\n",
       "    </tr>\n",
       "    <tr>\n",
       "      <th>SK_ID_CURR</th>\n",
       "      <th></th>\n",
       "      <th></th>\n",
       "      <th></th>\n",
       "      <th></th>\n",
       "      <th></th>\n",
       "      <th></th>\n",
       "      <th></th>\n",
       "      <th></th>\n",
       "      <th></th>\n",
       "      <th></th>\n",
       "      <th></th>\n",
       "      <th></th>\n",
       "      <th></th>\n",
       "      <th></th>\n",
       "      <th></th>\n",
       "      <th></th>\n",
       "      <th></th>\n",
       "      <th></th>\n",
       "      <th></th>\n",
       "      <th></th>\n",
       "      <th></th>\n",
       "    </tr>\n",
       "  </thead>\n",
       "  <tbody>\n",
       "    <tr>\n",
       "      <th>456250</th>\n",
       "      <td>1794451</td>\n",
       "      <td>-1</td>\n",
       "      <td>153832.725</td>\n",
       "      <td>175500</td>\n",
       "      <td>0.0</td>\n",
       "      <td>0.0</td>\n",
       "      <td>0.0</td>\n",
       "      <td>0.0</td>\n",
       "      <td>8286.390</td>\n",
       "      <td>9675.0</td>\n",
       "      <td>...</td>\n",
       "      <td>151808.220</td>\n",
       "      <td>153832.725</td>\n",
       "      <td>153832.725</td>\n",
       "      <td>0.0</td>\n",
       "      <td>0</td>\n",
       "      <td>0.0</td>\n",
       "      <td>0.0</td>\n",
       "      <td>10.0</td>\n",
       "      <td>0</td>\n",
       "      <td>0</td>\n",
       "    </tr>\n",
       "    <tr>\n",
       "      <th>456250</th>\n",
       "      <td>1794451</td>\n",
       "      <td>-2</td>\n",
       "      <td>158266.935</td>\n",
       "      <td>175500</td>\n",
       "      <td>0.0</td>\n",
       "      <td>0.0</td>\n",
       "      <td>0.0</td>\n",
       "      <td>0.0</td>\n",
       "      <td>8477.730</td>\n",
       "      <td>9675.0</td>\n",
       "      <td>...</td>\n",
       "      <td>156053.160</td>\n",
       "      <td>158266.935</td>\n",
       "      <td>158266.935</td>\n",
       "      <td>0.0</td>\n",
       "      <td>0</td>\n",
       "      <td>0.0</td>\n",
       "      <td>0.0</td>\n",
       "      <td>9.0</td>\n",
       "      <td>0</td>\n",
       "      <td>0</td>\n",
       "    </tr>\n",
       "    <tr>\n",
       "      <th>456250</th>\n",
       "      <td>1794451</td>\n",
       "      <td>-3</td>\n",
       "      <td>162425.565</td>\n",
       "      <td>175500</td>\n",
       "      <td>0.0</td>\n",
       "      <td>0.0</td>\n",
       "      <td>0.0</td>\n",
       "      <td>0.0</td>\n",
       "      <td>8643.600</td>\n",
       "      <td>9000.0</td>\n",
       "      <td>...</td>\n",
       "      <td>160554.375</td>\n",
       "      <td>162425.565</td>\n",
       "      <td>162425.565</td>\n",
       "      <td>0.0</td>\n",
       "      <td>0</td>\n",
       "      <td>0.0</td>\n",
       "      <td>0.0</td>\n",
       "      <td>8.0</td>\n",
       "      <td>0</td>\n",
       "      <td>0</td>\n",
       "    </tr>\n",
       "    <tr>\n",
       "      <th>456250</th>\n",
       "      <td>1794451</td>\n",
       "      <td>-4</td>\n",
       "      <td>166188.150</td>\n",
       "      <td>180000</td>\n",
       "      <td>0.0</td>\n",
       "      <td>0.0</td>\n",
       "      <td>0.0</td>\n",
       "      <td>0.0</td>\n",
       "      <td>8804.565</td>\n",
       "      <td>9000.0</td>\n",
       "      <td>...</td>\n",
       "      <td>163871.775</td>\n",
       "      <td>166188.150</td>\n",
       "      <td>166188.150</td>\n",
       "      <td>0.0</td>\n",
       "      <td>0</td>\n",
       "      <td>0.0</td>\n",
       "      <td>0.0</td>\n",
       "      <td>7.0</td>\n",
       "      <td>0</td>\n",
       "      <td>0</td>\n",
       "    </tr>\n",
       "    <tr>\n",
       "      <th>456250</th>\n",
       "      <td>1794451</td>\n",
       "      <td>-5</td>\n",
       "      <td>169443.855</td>\n",
       "      <td>180000</td>\n",
       "      <td>0.0</td>\n",
       "      <td>0.0</td>\n",
       "      <td>0.0</td>\n",
       "      <td>0.0</td>\n",
       "      <td>8931.420</td>\n",
       "      <td>9000.0</td>\n",
       "      <td>...</td>\n",
       "      <td>167091.345</td>\n",
       "      <td>169443.855</td>\n",
       "      <td>169443.855</td>\n",
       "      <td>0.0</td>\n",
       "      <td>0</td>\n",
       "      <td>0.0</td>\n",
       "      <td>0.0</td>\n",
       "      <td>6.0</td>\n",
       "      <td>0</td>\n",
       "      <td>0</td>\n",
       "    </tr>\n",
       "  </tbody>\n",
       "</table>\n",
       "<p>5 rows × 21 columns</p>\n",
       "</div>"
      ]
     },
     "execution_count": 64,
     "metadata": {},
     "output_type": "execute_result"
    }
   ],
   "execution_count": 64
  },
  {
   "cell_type": "code",
   "metadata": {
    "ExecuteTime": {
     "end_time": "2024-11-27T03:42:55.218813Z",
     "start_time": "2024-11-27T03:42:55.214211Z"
    }
   },
   "source": [
    "print(credit_card.columns)"
   ],
   "outputs": [
    {
     "name": "stdout",
     "output_type": "stream",
     "text": [
      "Index(['SK_ID_PREV', 'MONTHS_BALANCE', 'AMT_BALANCE',\n",
      "       'AMT_CREDIT_LIMIT_ACTUAL', 'AMT_DRAWINGS_ATM_CURRENT',\n",
      "       'AMT_DRAWINGS_CURRENT', 'AMT_DRAWINGS_OTHER_CURRENT',\n",
      "       'AMT_DRAWINGS_POS_CURRENT', 'AMT_INST_MIN_REGULARITY',\n",
      "       'AMT_PAYMENT_CURRENT', 'AMT_PAYMENT_TOTAL_CURRENT',\n",
      "       'AMT_RECEIVABLE_PRINCIPAL', 'AMT_RECIVABLE', 'AMT_TOTAL_RECEIVABLE',\n",
      "       'CNT_DRAWINGS_ATM_CURRENT', 'CNT_DRAWINGS_CURRENT',\n",
      "       'CNT_DRAWINGS_OTHER_CURRENT', 'CNT_DRAWINGS_POS_CURRENT',\n",
      "       'CNT_INSTALMENT_MATURE_CUM', 'SK_DPD', 'SK_DPD_DEF'],\n",
      "      dtype='object')\n"
     ]
    }
   ],
   "execution_count": 65
  },
  {
   "cell_type": "code",
   "source": "df_info = pd.DataFrame()",
   "metadata": {
    "collapsed": false,
    "ExecuteTime": {
     "end_time": "2024-11-27T03:42:55.227252Z",
     "start_time": "2024-11-27T03:42:55.220384Z"
    }
   },
   "outputs": [],
   "execution_count": 66
  },
  {
   "cell_type": "code",
   "source": [
    "df_info = df_info = pd.concat([df_info, pd.DataFrame({'df_name': ['credit_card'], 'shape': [credit_card.shape]})], ignore_index=True)"
   ],
   "metadata": {
    "collapsed": false,
    "ExecuteTime": {
     "end_time": "2024-11-27T03:42:55.232153Z",
     "start_time": "2024-11-27T03:42:55.228632Z"
    }
   },
   "outputs": [],
   "execution_count": 67
  },
  {
   "cell_type": "code",
   "source": [
    "credit_card.index.nunique()"
   ],
   "metadata": {
    "collapsed": false,
    "ExecuteTime": {
     "end_time": "2024-11-27T03:42:55.278209Z",
     "start_time": "2024-11-27T03:42:55.234653Z"
    }
   },
   "outputs": [
    {
     "data": {
      "text/plain": [
       "103468"
      ]
     },
     "execution_count": 68,
     "metadata": {},
     "output_type": "execute_result"
    }
   ],
   "execution_count": 68
  },
  {
   "cell_type": "markdown",
   "metadata": {},
   "source": [
    "#### A.1. Add new features to the data\n",
    "\n",
    "With the help of some domain knowledge, we decided to engineer the following features here. "
   ]
  },
  {
   "cell_type": "code",
   "metadata": {
    "ExecuteTime": {
     "end_time": "2024-11-27T03:42:55.597999Z",
     "start_time": "2024-11-27T03:42:55.279696Z"
    }
   },
   "source": [
    "# Monthly utilization\n",
    "credit_card[\"Monthly_Utilization\"] = credit_card[\"AMT_BALANCE\"] / \\\n",
    "    credit_card[\"AMT_CREDIT_LIMIT_ACTUAL\"]\n",
    "\n",
    "# Tag if the customer paid in full\n",
    "credit_card[\"Fully_Paid\"] = (credit_card[\"AMT_BALANCE\"] == 0)\n",
    "\n",
    "# Ratio of the payment with the minimum payment\n",
    "credit_card[\"Payment_MinPayment_Ratio\"] = (\n",
    "    credit_card['AMT_PAYMENT_TOTAL_CURRENT'] / credit_card['AMT_INST_MIN_REGULARITY']).fillna(0)\n",
    "\n",
    "# Indicator if a client only paid the minimum amount\n",
    "credit_card['Paid_Minimum_Only'] = (credit_card['AMT_INST_MIN_REGULARITY'] ==\n",
    "                                    credit_card['AMT_PAYMENT_TOTAL_CURRENT']) & (credit_card['AMT_INST_MIN_REGULARITY'] > 0)\n",
    "\n",
    "# Ratio of drawings from 'Other', 'ATM', 'POS' with Total Current Drawings in terms of transaction values\n",
    "credit_card['AMT_Other_Ratio'] = (credit_card['AMT_DRAWINGS_OTHER_CURRENT'] /\n",
    "                                  credit_card['AMT_DRAWINGS_CURRENT']).fillna(0)  # Drawings from Other Channels Ratio\n",
    "credit_card['AMT_ATM_Ratio'] = (credit_card['AMT_DRAWINGS_ATM_CURRENT'] /\n",
    "                                credit_card['AMT_DRAWINGS_CURRENT']).fillna(0)  # Drawings from ATM Ratio\n",
    "credit_card['AMT_POS_Ratio'] = (credit_card['AMT_DRAWINGS_POS_CURRENT'] /\n",
    "                                credit_card['AMT_DRAWINGS_CURRENT']).fillna(0)  # Drawings or usage using POS Terminals\n",
    "\n",
    "# Ratio of drawings from 'Other', 'ATM', 'POS' with Total Current Drawings in terms of counts\n",
    "\n",
    "# Count of drawings from Other Channels Ratio\n",
    "credit_card['CNT_Other_Ratio'] = (\n",
    "    credit_card['CNT_DRAWINGS_OTHER_CURRENT'] / credit_card['CNT_DRAWINGS_CURRENT']).fillna(0)\n",
    "credit_card['CNT_ATM_Ratio'] = (credit_card['CNT_DRAWINGS_ATM_CURRENT'] /\n",
    "                                credit_card['CNT_DRAWINGS_CURRENT']).fillna(0)  # Count of drawings from ATM Ratio\n",
    "\n",
    "# Count of drawings or usage using POS Terminals\n",
    "credit_card['CNT_POS_Ratio'] = (\n",
    "    credit_card['CNT_DRAWINGS_POS_CURRENT'] / credit_card['CNT_DRAWINGS_CURRENT']).fillna(0)"
   ],
   "outputs": [],
   "execution_count": 69
  },
  {
   "cell_type": "code",
   "source": [
    "df_info = df_info = pd.concat([df_info, pd.DataFrame({'df_name': ['credit_card after feature'], 'shape': [credit_card.shape]})], ignore_index=True)"
   ],
   "metadata": {
    "collapsed": false,
    "ExecuteTime": {
     "end_time": "2024-11-27T03:42:55.611825Z",
     "start_time": "2024-11-27T03:42:55.600254Z"
    }
   },
   "outputs": [],
   "execution_count": 70
  },
  {
   "cell_type": "markdown",
   "metadata": {},
   "source": [
    "#### A.2. Client-Level Aggregations"
   ]
  },
  {
   "cell_type": "code",
   "metadata": {
    "ExecuteTime": {
     "end_time": "2024-11-27T03:42:59.263094Z",
     "start_time": "2024-11-27T03:42:55.617275Z"
    }
   },
   "source": [
    "# Get the latest credit limit \n",
    "latest_credit_limits = (\n",
    "    credit_card\n",
    "    .sort_values(['MONTHS_BALANCE'])\n",
    "    .groupby('SK_ID_CURR')\n",
    "    .last()[\"AMT_CREDIT_LIMIT_ACTUAL\"]\n",
    ")\n",
    "\n",
    "# Apply the aggregations\n",
    "agg_functions = {\n",
    "    'MONTHS_BALANCE': ['count'],\n",
    "    'AMT_BALANCE': ['mean'],\n",
    "    'Monthly_Utilization': ['mean', 'max'],\n",
    "    'Fully_Paid': ['mean', 'sum'],\n",
    "    'Paid_Minimum_Only': ['mean', 'sum'],\n",
    "    'Payment_MinPayment_Ratio': ['mean'],\n",
    "    'AMT_Other_Ratio': ['mean'],\n",
    "    'AMT_ATM_Ratio': ['mean'],\n",
    "    'AMT_POS_Ratio': ['mean'],\n",
    "    'CNT_Other_Ratio': ['mean'],\n",
    "    'CNT_ATM_Ratio': ['mean'],\n",
    "    'CNT_POS_Ratio': ['mean']\n",
    "}\n",
    "\n",
    "credit_card_agg = (\n",
    "    credit_card\n",
    "    .groupby(\"SK_ID_CURR\")\n",
    "    .agg(agg_functions)\n",
    "    .fillna(0)\n",
    "    .replace([np.inf, -np.inf], 0)\n",
    ")\n",
    "\n",
    "# Rename columns\n",
    "credit_card_agg.columns = [f'{col[0]}_{col[1]}' for col in credit_card_agg.columns]\n",
    "credit_card_agg = credit_card_agg.rename(columns={\n",
    "    'MONTHS_BALANCE_count': 'Tenure_Months', \n",
    "    'AMT_BALANCE_mean': 'Avg_Monthly_Balance',\n",
    "    'Monthly_Utilization_mean': 'Avg_Monthly_Utilization',\n",
    "    'Monthly_Utilization_max': 'Max_Monthly_Utilization',\n",
    "    'Fully_Paid_mean': 'Pct_Txns_Fully_Paid',\n",
    "    'Fully_Paid_sum': 'Months_Fully_Paid',\n",
    "    'Paid_Minimum_Only_mean': 'Pct_Txns_Minimum_Paid',\n",
    "    'Paid_Minimum_Only_sum': 'Months_Minimum_Paid',\n",
    "    'AMT_Other_Ratio_mean': 'Avg_AMT_Other_Ratio',\n",
    "    'AMT_ATM_Ratio_mean': 'Avg_AMT_ATM_Ratio',\n",
    "    'AMT_POS_Ratio_mean': 'Avg_AMT_POS_Ratio',\n",
    "    'CNT_Other_Ratio_mean': 'Avg_CNT_Other_Ratio',\n",
    "    'CNT_ATM_Ratio_mean': 'Avg_CNT_ATM_Ratio',\n",
    "    'CNT_POS_Ratio_mean': 'Avg_CNT_POS_Ratio'\n",
    "})\n",
    "\n",
    "# Incorporate the latest credit limit\n",
    "credit_card_agg = pd.merge(credit_card_agg, latest_credit_limits,\n",
    "                           how=\"inner\", \n",
    "                           left_index=True, right_index=True)\n",
    "credit_card_agg.head()\n"
   ],
   "outputs": [
    {
     "data": {
      "text/plain": [
       "            Tenure_Months  Avg_Monthly_Balance  Avg_Monthly_Utilization  \\\n",
       "SK_ID_CURR                                                                \n",
       "100006                  6             0.000000                 0.000000   \n",
       "100011                 74         54482.111149                 0.302678   \n",
       "100013                 96         18159.919219                 0.115301   \n",
       "100021                  7             0.000000                 0.000000   \n",
       "100023                  8             0.000000                 0.000000   \n",
       "\n",
       "            Max_Monthly_Utilization  Pct_Txns_Fully_Paid  Months_Fully_Paid  \\\n",
       "SK_ID_CURR                                                                    \n",
       "100006                      0.00000             1.000000                  6   \n",
       "100011                      1.05000             0.554054                 41   \n",
       "100013                      1.02489             0.770833                 74   \n",
       "100021                      0.00000             1.000000                  7   \n",
       "100023                      0.00000             1.000000                  8   \n",
       "\n",
       "            Pct_Txns_Minimum_Paid  Months_Minimum_Paid  \\\n",
       "SK_ID_CURR                                               \n",
       "100006                   0.000000                    0   \n",
       "100011                   0.418919                   31   \n",
       "100013                   0.000000                    0   \n",
       "100021                   0.000000                    0   \n",
       "100023                   0.000000                    0   \n",
       "\n",
       "            Payment_MinPayment_Ratio_mean  Avg_AMT_Other_Ratio  \\\n",
       "SK_ID_CURR                                                       \n",
       "100006                           0.000000                  0.0   \n",
       "100011                           0.502230                  0.0   \n",
       "100013                           0.865673                  0.0   \n",
       "100021                           0.000000                  0.0   \n",
       "100023                           0.000000                  0.0   \n",
       "\n",
       "            Avg_AMT_ATM_Ratio  Avg_AMT_POS_Ratio  Avg_CNT_Other_Ratio  \\\n",
       "SK_ID_CURR                                                              \n",
       "100006               0.000000                0.0                  0.0   \n",
       "100011               0.013514                0.0                  0.0   \n",
       "100013               0.052083                0.0                  0.0   \n",
       "100021               0.000000                0.0                  0.0   \n",
       "100023               0.000000                0.0                  0.0   \n",
       "\n",
       "            Avg_CNT_ATM_Ratio  Avg_CNT_POS_Ratio  AMT_CREDIT_LIMIT_ACTUAL  \n",
       "SK_ID_CURR                                                                 \n",
       "100006               0.000000                0.0                   270000  \n",
       "100011               0.013514                0.0                    90000  \n",
       "100013               0.052083                0.0                    45000  \n",
       "100021               0.000000                0.0                   675000  \n",
       "100023               0.000000                0.0                   225000  "
      ],
      "text/html": [
       "<div>\n",
       "<style scoped>\n",
       "    .dataframe tbody tr th:only-of-type {\n",
       "        vertical-align: middle;\n",
       "    }\n",
       "\n",
       "    .dataframe tbody tr th {\n",
       "        vertical-align: top;\n",
       "    }\n",
       "\n",
       "    .dataframe thead th {\n",
       "        text-align: right;\n",
       "    }\n",
       "</style>\n",
       "<table border=\"1\" class=\"dataframe\">\n",
       "  <thead>\n",
       "    <tr style=\"text-align: right;\">\n",
       "      <th></th>\n",
       "      <th>Tenure_Months</th>\n",
       "      <th>Avg_Monthly_Balance</th>\n",
       "      <th>Avg_Monthly_Utilization</th>\n",
       "      <th>Max_Monthly_Utilization</th>\n",
       "      <th>Pct_Txns_Fully_Paid</th>\n",
       "      <th>Months_Fully_Paid</th>\n",
       "      <th>Pct_Txns_Minimum_Paid</th>\n",
       "      <th>Months_Minimum_Paid</th>\n",
       "      <th>Payment_MinPayment_Ratio_mean</th>\n",
       "      <th>Avg_AMT_Other_Ratio</th>\n",
       "      <th>Avg_AMT_ATM_Ratio</th>\n",
       "      <th>Avg_AMT_POS_Ratio</th>\n",
       "      <th>Avg_CNT_Other_Ratio</th>\n",
       "      <th>Avg_CNT_ATM_Ratio</th>\n",
       "      <th>Avg_CNT_POS_Ratio</th>\n",
       "      <th>AMT_CREDIT_LIMIT_ACTUAL</th>\n",
       "    </tr>\n",
       "    <tr>\n",
       "      <th>SK_ID_CURR</th>\n",
       "      <th></th>\n",
       "      <th></th>\n",
       "      <th></th>\n",
       "      <th></th>\n",
       "      <th></th>\n",
       "      <th></th>\n",
       "      <th></th>\n",
       "      <th></th>\n",
       "      <th></th>\n",
       "      <th></th>\n",
       "      <th></th>\n",
       "      <th></th>\n",
       "      <th></th>\n",
       "      <th></th>\n",
       "      <th></th>\n",
       "      <th></th>\n",
       "    </tr>\n",
       "  </thead>\n",
       "  <tbody>\n",
       "    <tr>\n",
       "      <th>100006</th>\n",
       "      <td>6</td>\n",
       "      <td>0.000000</td>\n",
       "      <td>0.000000</td>\n",
       "      <td>0.00000</td>\n",
       "      <td>1.000000</td>\n",
       "      <td>6</td>\n",
       "      <td>0.000000</td>\n",
       "      <td>0</td>\n",
       "      <td>0.000000</td>\n",
       "      <td>0.0</td>\n",
       "      <td>0.000000</td>\n",
       "      <td>0.0</td>\n",
       "      <td>0.0</td>\n",
       "      <td>0.000000</td>\n",
       "      <td>0.0</td>\n",
       "      <td>270000</td>\n",
       "    </tr>\n",
       "    <tr>\n",
       "      <th>100011</th>\n",
       "      <td>74</td>\n",
       "      <td>54482.111149</td>\n",
       "      <td>0.302678</td>\n",
       "      <td>1.05000</td>\n",
       "      <td>0.554054</td>\n",
       "      <td>41</td>\n",
       "      <td>0.418919</td>\n",
       "      <td>31</td>\n",
       "      <td>0.502230</td>\n",
       "      <td>0.0</td>\n",
       "      <td>0.013514</td>\n",
       "      <td>0.0</td>\n",
       "      <td>0.0</td>\n",
       "      <td>0.013514</td>\n",
       "      <td>0.0</td>\n",
       "      <td>90000</td>\n",
       "    </tr>\n",
       "    <tr>\n",
       "      <th>100013</th>\n",
       "      <td>96</td>\n",
       "      <td>18159.919219</td>\n",
       "      <td>0.115301</td>\n",
       "      <td>1.02489</td>\n",
       "      <td>0.770833</td>\n",
       "      <td>74</td>\n",
       "      <td>0.000000</td>\n",
       "      <td>0</td>\n",
       "      <td>0.865673</td>\n",
       "      <td>0.0</td>\n",
       "      <td>0.052083</td>\n",
       "      <td>0.0</td>\n",
       "      <td>0.0</td>\n",
       "      <td>0.052083</td>\n",
       "      <td>0.0</td>\n",
       "      <td>45000</td>\n",
       "    </tr>\n",
       "    <tr>\n",
       "      <th>100021</th>\n",
       "      <td>7</td>\n",
       "      <td>0.000000</td>\n",
       "      <td>0.000000</td>\n",
       "      <td>0.00000</td>\n",
       "      <td>1.000000</td>\n",
       "      <td>7</td>\n",
       "      <td>0.000000</td>\n",
       "      <td>0</td>\n",
       "      <td>0.000000</td>\n",
       "      <td>0.0</td>\n",
       "      <td>0.000000</td>\n",
       "      <td>0.0</td>\n",
       "      <td>0.0</td>\n",
       "      <td>0.000000</td>\n",
       "      <td>0.0</td>\n",
       "      <td>675000</td>\n",
       "    </tr>\n",
       "    <tr>\n",
       "      <th>100023</th>\n",
       "      <td>8</td>\n",
       "      <td>0.000000</td>\n",
       "      <td>0.000000</td>\n",
       "      <td>0.00000</td>\n",
       "      <td>1.000000</td>\n",
       "      <td>8</td>\n",
       "      <td>0.000000</td>\n",
       "      <td>0</td>\n",
       "      <td>0.000000</td>\n",
       "      <td>0.0</td>\n",
       "      <td>0.000000</td>\n",
       "      <td>0.0</td>\n",
       "      <td>0.0</td>\n",
       "      <td>0.000000</td>\n",
       "      <td>0.0</td>\n",
       "      <td>225000</td>\n",
       "    </tr>\n",
       "  </tbody>\n",
       "</table>\n",
       "</div>"
      ]
     },
     "execution_count": 71,
     "metadata": {},
     "output_type": "execute_result"
    }
   ],
   "execution_count": 71
  },
  {
   "cell_type": "code",
   "source": [
    "credit_card_agg.index.nunique()"
   ],
   "metadata": {
    "collapsed": false,
    "ExecuteTime": {
     "end_time": "2024-11-27T03:42:59.285126Z",
     "start_time": "2024-11-27T03:42:59.273940Z"
    }
   },
   "outputs": [
    {
     "data": {
      "text/plain": [
       "103468"
      ]
     },
     "execution_count": 72,
     "metadata": {},
     "output_type": "execute_result"
    }
   ],
   "execution_count": 72
  },
  {
   "cell_type": "code",
   "source": [
    "df_info = df_info = pd.concat([df_info, pd.DataFrame({'df_name': ['latest_credit_limits'], 'shape': [latest_credit_limits.shape]})], ignore_index=True)\n",
    "df_info = df_info = pd.concat([df_info, pd.DataFrame({'df_name': ['credit_card_agg'], 'shape': [credit_card_agg.shape]})], ignore_index=True)\n",
    "df_info"
   ],
   "metadata": {
    "collapsed": false,
    "ExecuteTime": {
     "end_time": "2024-11-27T03:42:59.295543Z",
     "start_time": "2024-11-27T03:42:59.287539Z"
    }
   },
   "outputs": [
    {
     "data": {
      "text/plain": [
       "                     df_name          shape\n",
       "0                credit_card  (3698436, 21)\n",
       "1  credit_card after feature  (3698436, 31)\n",
       "2       latest_credit_limits      (103468,)\n",
       "3            credit_card_agg   (103468, 16)"
      ],
      "text/html": [
       "<div>\n",
       "<style scoped>\n",
       "    .dataframe tbody tr th:only-of-type {\n",
       "        vertical-align: middle;\n",
       "    }\n",
       "\n",
       "    .dataframe tbody tr th {\n",
       "        vertical-align: top;\n",
       "    }\n",
       "\n",
       "    .dataframe thead th {\n",
       "        text-align: right;\n",
       "    }\n",
       "</style>\n",
       "<table border=\"1\" class=\"dataframe\">\n",
       "  <thead>\n",
       "    <tr style=\"text-align: right;\">\n",
       "      <th></th>\n",
       "      <th>df_name</th>\n",
       "      <th>shape</th>\n",
       "    </tr>\n",
       "  </thead>\n",
       "  <tbody>\n",
       "    <tr>\n",
       "      <th>0</th>\n",
       "      <td>credit_card</td>\n",
       "      <td>(3698436, 21)</td>\n",
       "    </tr>\n",
       "    <tr>\n",
       "      <th>1</th>\n",
       "      <td>credit_card after feature</td>\n",
       "      <td>(3698436, 31)</td>\n",
       "    </tr>\n",
       "    <tr>\n",
       "      <th>2</th>\n",
       "      <td>latest_credit_limits</td>\n",
       "      <td>(103468,)</td>\n",
       "    </tr>\n",
       "    <tr>\n",
       "      <th>3</th>\n",
       "      <td>credit_card_agg</td>\n",
       "      <td>(103468, 16)</td>\n",
       "    </tr>\n",
       "  </tbody>\n",
       "</table>\n",
       "</div>"
      ]
     },
     "execution_count": 73,
     "metadata": {},
     "output_type": "execute_result"
    }
   ],
   "execution_count": 73
  },
  {
   "cell_type": "markdown",
   "metadata": {},
   "source": [
    "#### A.3. Merge with client-level information (e.g. Demographics and Properties Information)"
   ]
  },
  {
   "cell_type": "code",
   "metadata": {
    "ExecuteTime": {
     "end_time": "2024-11-27T03:43:03.131382Z",
     "start_time": "2024-11-27T03:42:59.298250Z"
    }
   },
   "source": [
    "# Read customer-related data\n",
    "\n",
    "customer_1 = pd.read_csv(\"./data/application_train.csv\")\n",
    "customer_2 = pd.read_csv(\"./data/application_test.csv\")\n",
    "\n",
    "# Concatenate the DataFrames and include all specified columns\n",
    "customer_info = (\n",
    "    pd.concat([customer_1, customer_2], axis=0)\n",
    "    # .set_index(\"SK_ID_CURR\")\n",
    "    .sort_index()\n",
    "    [['SK_ID_CURR',  # Customer ID\n",
    "      'TARGET',  # Tag with late payment\n",
    "      'CODE_GENDER',  # Gender\n",
    "      'FLAG_OWN_CAR',  # Owns a car\n",
    "      'FLAG_OWN_REALTY',  # Owns real property\n",
    "      'CNT_CHILDREN',  # Number of children\n",
    "      'AMT_INCOME_TOTAL',  # Total income\n",
    "      'NAME_INCOME_TYPE',  # Income type\n",
    "      'NAME_EDUCATION_TYPE',  # Education type\n",
    "      'NAME_FAMILY_STATUS',  # Family status\n",
    "      'NAME_HOUSING_TYPE',  # Housing type\n",
    "      'DAYS_BIRTH',  # Age\n",
    "      'DAYS_EMPLOYED',  # Employment duration in days\n",
    "      'OWN_CAR_AGE',  # Age of the car\n",
    "      'OCCUPATION_TYPE',  # Occupation type\n",
    "      'CNT_FAM_MEMBERS',  # Number of family members\n",
    "      'EXT_SOURCE_1',  # External source 1\n",
    "      'EXT_SOURCE_2',  # External source 2\n",
    "      'EXT_SOURCE_3'  # External source 3\n",
    "      ]]\n",
    ")\n",
    "\n",
    "# Rename column 'TARGET' with 'W_DEFAULT'\n",
    "customer_info.rename(columns={'TARGET': 'W_DEFAULT'}, inplace=True)\n",
    "\n",
    "customer_info.head()  \n"
   ],
   "outputs": [
    {
     "data": {
      "text/plain": [
       "   SK_ID_CURR  W_DEFAULT CODE_GENDER FLAG_OWN_CAR FLAG_OWN_REALTY  \\\n",
       "0      100002        1.0           M            N               Y   \n",
       "0      100001        NaN           F            N               Y   \n",
       "1      100005        NaN           M            N               Y   \n",
       "1      100003        0.0           F            N               N   \n",
       "2      100004        0.0           M            Y               Y   \n",
       "\n",
       "   CNT_CHILDREN  AMT_INCOME_TOTAL NAME_INCOME_TYPE  \\\n",
       "0             0          202500.0          Working   \n",
       "0             0          135000.0          Working   \n",
       "1             0           99000.0          Working   \n",
       "1             0          270000.0    State servant   \n",
       "2             0           67500.0          Working   \n",
       "\n",
       "             NAME_EDUCATION_TYPE    NAME_FAMILY_STATUS  NAME_HOUSING_TYPE  \\\n",
       "0  Secondary / secondary special  Single / not married  House / apartment   \n",
       "0               Higher education               Married  House / apartment   \n",
       "1  Secondary / secondary special               Married  House / apartment   \n",
       "1               Higher education               Married  House / apartment   \n",
       "2  Secondary / secondary special  Single / not married  House / apartment   \n",
       "\n",
       "   DAYS_BIRTH  DAYS_EMPLOYED  OWN_CAR_AGE     OCCUPATION_TYPE  \\\n",
       "0       -9461           -637          NaN            Laborers   \n",
       "0      -19241          -2329          NaN                 NaN   \n",
       "1      -18064          -4469          NaN  Low-skill Laborers   \n",
       "1      -16765          -1188          NaN          Core staff   \n",
       "2      -19046           -225         26.0            Laborers   \n",
       "\n",
       "   CNT_FAM_MEMBERS  EXT_SOURCE_1  EXT_SOURCE_2  EXT_SOURCE_3  \n",
       "0              1.0      0.083037      0.262949      0.139376  \n",
       "0              2.0      0.752614      0.789654      0.159520  \n",
       "1              2.0      0.564990      0.291656      0.432962  \n",
       "1              2.0      0.311267      0.622246           NaN  \n",
       "2              1.0           NaN      0.555912      0.729567  "
      ],
      "text/html": [
       "<div>\n",
       "<style scoped>\n",
       "    .dataframe tbody tr th:only-of-type {\n",
       "        vertical-align: middle;\n",
       "    }\n",
       "\n",
       "    .dataframe tbody tr th {\n",
       "        vertical-align: top;\n",
       "    }\n",
       "\n",
       "    .dataframe thead th {\n",
       "        text-align: right;\n",
       "    }\n",
       "</style>\n",
       "<table border=\"1\" class=\"dataframe\">\n",
       "  <thead>\n",
       "    <tr style=\"text-align: right;\">\n",
       "      <th></th>\n",
       "      <th>SK_ID_CURR</th>\n",
       "      <th>W_DEFAULT</th>\n",
       "      <th>CODE_GENDER</th>\n",
       "      <th>FLAG_OWN_CAR</th>\n",
       "      <th>FLAG_OWN_REALTY</th>\n",
       "      <th>CNT_CHILDREN</th>\n",
       "      <th>AMT_INCOME_TOTAL</th>\n",
       "      <th>NAME_INCOME_TYPE</th>\n",
       "      <th>NAME_EDUCATION_TYPE</th>\n",
       "      <th>NAME_FAMILY_STATUS</th>\n",
       "      <th>NAME_HOUSING_TYPE</th>\n",
       "      <th>DAYS_BIRTH</th>\n",
       "      <th>DAYS_EMPLOYED</th>\n",
       "      <th>OWN_CAR_AGE</th>\n",
       "      <th>OCCUPATION_TYPE</th>\n",
       "      <th>CNT_FAM_MEMBERS</th>\n",
       "      <th>EXT_SOURCE_1</th>\n",
       "      <th>EXT_SOURCE_2</th>\n",
       "      <th>EXT_SOURCE_3</th>\n",
       "    </tr>\n",
       "  </thead>\n",
       "  <tbody>\n",
       "    <tr>\n",
       "      <th>0</th>\n",
       "      <td>100002</td>\n",
       "      <td>1.0</td>\n",
       "      <td>M</td>\n",
       "      <td>N</td>\n",
       "      <td>Y</td>\n",
       "      <td>0</td>\n",
       "      <td>202500.0</td>\n",
       "      <td>Working</td>\n",
       "      <td>Secondary / secondary special</td>\n",
       "      <td>Single / not married</td>\n",
       "      <td>House / apartment</td>\n",
       "      <td>-9461</td>\n",
       "      <td>-637</td>\n",
       "      <td>NaN</td>\n",
       "      <td>Laborers</td>\n",
       "      <td>1.0</td>\n",
       "      <td>0.083037</td>\n",
       "      <td>0.262949</td>\n",
       "      <td>0.139376</td>\n",
       "    </tr>\n",
       "    <tr>\n",
       "      <th>0</th>\n",
       "      <td>100001</td>\n",
       "      <td>NaN</td>\n",
       "      <td>F</td>\n",
       "      <td>N</td>\n",
       "      <td>Y</td>\n",
       "      <td>0</td>\n",
       "      <td>135000.0</td>\n",
       "      <td>Working</td>\n",
       "      <td>Higher education</td>\n",
       "      <td>Married</td>\n",
       "      <td>House / apartment</td>\n",
       "      <td>-19241</td>\n",
       "      <td>-2329</td>\n",
       "      <td>NaN</td>\n",
       "      <td>NaN</td>\n",
       "      <td>2.0</td>\n",
       "      <td>0.752614</td>\n",
       "      <td>0.789654</td>\n",
       "      <td>0.159520</td>\n",
       "    </tr>\n",
       "    <tr>\n",
       "      <th>1</th>\n",
       "      <td>100005</td>\n",
       "      <td>NaN</td>\n",
       "      <td>M</td>\n",
       "      <td>N</td>\n",
       "      <td>Y</td>\n",
       "      <td>0</td>\n",
       "      <td>99000.0</td>\n",
       "      <td>Working</td>\n",
       "      <td>Secondary / secondary special</td>\n",
       "      <td>Married</td>\n",
       "      <td>House / apartment</td>\n",
       "      <td>-18064</td>\n",
       "      <td>-4469</td>\n",
       "      <td>NaN</td>\n",
       "      <td>Low-skill Laborers</td>\n",
       "      <td>2.0</td>\n",
       "      <td>0.564990</td>\n",
       "      <td>0.291656</td>\n",
       "      <td>0.432962</td>\n",
       "    </tr>\n",
       "    <tr>\n",
       "      <th>1</th>\n",
       "      <td>100003</td>\n",
       "      <td>0.0</td>\n",
       "      <td>F</td>\n",
       "      <td>N</td>\n",
       "      <td>N</td>\n",
       "      <td>0</td>\n",
       "      <td>270000.0</td>\n",
       "      <td>State servant</td>\n",
       "      <td>Higher education</td>\n",
       "      <td>Married</td>\n",
       "      <td>House / apartment</td>\n",
       "      <td>-16765</td>\n",
       "      <td>-1188</td>\n",
       "      <td>NaN</td>\n",
       "      <td>Core staff</td>\n",
       "      <td>2.0</td>\n",
       "      <td>0.311267</td>\n",
       "      <td>0.622246</td>\n",
       "      <td>NaN</td>\n",
       "    </tr>\n",
       "    <tr>\n",
       "      <th>2</th>\n",
       "      <td>100004</td>\n",
       "      <td>0.0</td>\n",
       "      <td>M</td>\n",
       "      <td>Y</td>\n",
       "      <td>Y</td>\n",
       "      <td>0</td>\n",
       "      <td>67500.0</td>\n",
       "      <td>Working</td>\n",
       "      <td>Secondary / secondary special</td>\n",
       "      <td>Single / not married</td>\n",
       "      <td>House / apartment</td>\n",
       "      <td>-19046</td>\n",
       "      <td>-225</td>\n",
       "      <td>26.0</td>\n",
       "      <td>Laborers</td>\n",
       "      <td>1.0</td>\n",
       "      <td>NaN</td>\n",
       "      <td>0.555912</td>\n",
       "      <td>0.729567</td>\n",
       "    </tr>\n",
       "  </tbody>\n",
       "</table>\n",
       "</div>"
      ]
     },
     "execution_count": 74,
     "metadata": {},
     "output_type": "execute_result"
    }
   ],
   "execution_count": 74
  },
  {
   "cell_type": "code",
   "source": [
    "customer_1.columns"
   ],
   "metadata": {
    "collapsed": false,
    "ExecuteTime": {
     "end_time": "2024-11-27T03:43:03.142147Z",
     "start_time": "2024-11-27T03:43:03.136348Z"
    }
   },
   "outputs": [
    {
     "data": {
      "text/plain": [
       "Index(['SK_ID_CURR', 'TARGET', 'NAME_CONTRACT_TYPE', 'CODE_GENDER',\n",
       "       'FLAG_OWN_CAR', 'FLAG_OWN_REALTY', 'CNT_CHILDREN', 'AMT_INCOME_TOTAL',\n",
       "       'AMT_CREDIT', 'AMT_ANNUITY',\n",
       "       ...\n",
       "       'FLAG_DOCUMENT_18', 'FLAG_DOCUMENT_19', 'FLAG_DOCUMENT_20',\n",
       "       'FLAG_DOCUMENT_21', 'AMT_REQ_CREDIT_BUREAU_HOUR',\n",
       "       'AMT_REQ_CREDIT_BUREAU_DAY', 'AMT_REQ_CREDIT_BUREAU_WEEK',\n",
       "       'AMT_REQ_CREDIT_BUREAU_MON', 'AMT_REQ_CREDIT_BUREAU_QRT',\n",
       "       'AMT_REQ_CREDIT_BUREAU_YEAR'],\n",
       "      dtype='object', length=122)"
      ]
     },
     "execution_count": 75,
     "metadata": {},
     "output_type": "execute_result"
    }
   ],
   "execution_count": 75
  },
  {
   "cell_type": "code",
   "source": [
    " customer_1['SK_ID_CURR'].nunique(dropna=False)"
   ],
   "metadata": {
    "collapsed": false,
    "ExecuteTime": {
     "end_time": "2024-11-27T03:43:03.152742Z",
     "start_time": "2024-11-27T03:43:03.145380Z"
    }
   },
   "outputs": [
    {
     "data": {
      "text/plain": [
       "307511"
      ]
     },
     "execution_count": 76,
     "metadata": {},
     "output_type": "execute_result"
    }
   ],
   "execution_count": 76
  },
  {
   "cell_type": "code",
   "source": [
    " customer_2['SK_ID_CURR'].nunique(dropna=False)"
   ],
   "metadata": {
    "collapsed": false,
    "ExecuteTime": {
     "end_time": "2024-11-27T03:43:03.160291Z",
     "start_time": "2024-11-27T03:43:03.153382Z"
    }
   },
   "outputs": [
    {
     "data": {
      "text/plain": [
       "48744"
      ]
     },
     "execution_count": 77,
     "metadata": {},
     "output_type": "execute_result"
    }
   ],
   "execution_count": 77
  },
  {
   "cell_type": "code",
   "source": [
    "customer_info['SK_ID_CURR'].nunique(dropna=False)"
   ],
   "metadata": {
    "collapsed": false,
    "ExecuteTime": {
     "end_time": "2024-11-27T03:43:03.171812Z",
     "start_time": "2024-11-27T03:43:03.162664Z"
    }
   },
   "outputs": [
    {
     "data": {
      "text/plain": [
       "356255"
      ]
     },
     "execution_count": 78,
     "metadata": {},
     "output_type": "execute_result"
    }
   ],
   "execution_count": 78
  },
  {
   "cell_type": "code",
   "source": [
    "df_info = df_info = pd.concat([df_info, pd.DataFrame({'df_name': ['customer_1 / apptrain'], 'shape': [customer_1.shape]})], ignore_index=True)\n",
    "df_info = df_info = pd.concat([df_info, pd.DataFrame({'df_name': ['customer_2 / apptest'], 'shape': [customer_2.shape]})], ignore_index=True)\n",
    "df_info = df_info = pd.concat([df_info, pd.DataFrame({'df_name': ['customer_info'], 'shape': [customer_info.shape]})], ignore_index=True)\n",
    "df_info"
   ],
   "metadata": {
    "collapsed": false,
    "ExecuteTime": {
     "end_time": "2024-11-27T03:43:03.178382Z",
     "start_time": "2024-11-27T03:43:03.172709Z"
    }
   },
   "outputs": [
    {
     "data": {
      "text/plain": [
       "                     df_name          shape\n",
       "0                credit_card  (3698436, 21)\n",
       "1  credit_card after feature  (3698436, 31)\n",
       "2       latest_credit_limits      (103468,)\n",
       "3            credit_card_agg   (103468, 16)\n",
       "4      customer_1 / apptrain  (307511, 122)\n",
       "5       customer_2 / apptest   (48744, 121)\n",
       "6              customer_info   (356255, 19)"
      ],
      "text/html": [
       "<div>\n",
       "<style scoped>\n",
       "    .dataframe tbody tr th:only-of-type {\n",
       "        vertical-align: middle;\n",
       "    }\n",
       "\n",
       "    .dataframe tbody tr th {\n",
       "        vertical-align: top;\n",
       "    }\n",
       "\n",
       "    .dataframe thead th {\n",
       "        text-align: right;\n",
       "    }\n",
       "</style>\n",
       "<table border=\"1\" class=\"dataframe\">\n",
       "  <thead>\n",
       "    <tr style=\"text-align: right;\">\n",
       "      <th></th>\n",
       "      <th>df_name</th>\n",
       "      <th>shape</th>\n",
       "    </tr>\n",
       "  </thead>\n",
       "  <tbody>\n",
       "    <tr>\n",
       "      <th>0</th>\n",
       "      <td>credit_card</td>\n",
       "      <td>(3698436, 21)</td>\n",
       "    </tr>\n",
       "    <tr>\n",
       "      <th>1</th>\n",
       "      <td>credit_card after feature</td>\n",
       "      <td>(3698436, 31)</td>\n",
       "    </tr>\n",
       "    <tr>\n",
       "      <th>2</th>\n",
       "      <td>latest_credit_limits</td>\n",
       "      <td>(103468,)</td>\n",
       "    </tr>\n",
       "    <tr>\n",
       "      <th>3</th>\n",
       "      <td>credit_card_agg</td>\n",
       "      <td>(103468, 16)</td>\n",
       "    </tr>\n",
       "    <tr>\n",
       "      <th>4</th>\n",
       "      <td>customer_1 / apptrain</td>\n",
       "      <td>(307511, 122)</td>\n",
       "    </tr>\n",
       "    <tr>\n",
       "      <th>5</th>\n",
       "      <td>customer_2 / apptest</td>\n",
       "      <td>(48744, 121)</td>\n",
       "    </tr>\n",
       "    <tr>\n",
       "      <th>6</th>\n",
       "      <td>customer_info</td>\n",
       "      <td>(356255, 19)</td>\n",
       "    </tr>\n",
       "  </tbody>\n",
       "</table>\n",
       "</div>"
      ]
     },
     "execution_count": 79,
     "metadata": {},
     "output_type": "execute_result"
    }
   ],
   "execution_count": 79
  },
  {
   "cell_type": "code",
   "metadata": {
    "ExecuteTime": {
     "end_time": "2024-11-27T03:45:47.747341Z",
     "start_time": "2024-11-27T03:45:41.940758Z"
    }
   },
   "source": [
    "# Join Credit Card data and Customer Information Dataframes\n",
    "\n",
    "df_joined = pd.merge(customer_info, credit_card_agg,  how=\"left\", on='SK_ID_CURR')\n",
    "\n",
    "# Express customer age in years\n",
    "df_joined[\"Age_Years\"] = abs(df_joined[\"DAYS_BIRTH\"]) / 365\n",
    "\n",
    "# Express customer age in years\n",
    "df_joined[\"Employed_Months\"] = abs(df_joined[\"DAYS_EMPLOYED\"]) / 30\n",
    "\n",
    "# Gender indicator\n",
    "df_joined[\"CODE_GENDER_M\"] = df_joined['CODE_GENDER'].map({'F': 0, 'M': 1})\n",
    "\n",
    "# Indicator if client owns a car\n",
    "df_joined[\"FLAG_OWN_CAR\"] = df_joined['FLAG_OWN_CAR'].map({'Y': 1, 'N': 0})\n",
    "\n",
    "# Indicator if client owns a real property\n",
    "df_joined[\"FLAG_OWN_REALTY\"] = df_joined['FLAG_OWN_REALTY'].map({\n",
    "                                                                'Y': 1, 'N': 0})\n",
    "\n",
    "# Drop redundant columns\n",
    "df_joined = df_joined.drop(['CODE_GENDER', 'DAYS_BIRTH'], axis=1)\n",
    "\n",
    "# Drop rows with no value on any EXT_SOURCE_1, EXT_SOURCE_2, and EXT_SOURCE_3\n",
    "external_sources = ['EXT_SOURCE_1', 'EXT_SOURCE_2', 'EXT_SOURCE_3']\n",
    "df_joined = df_joined[~df_joined[external_sources].isna().all(\n",
    "    axis=1)]  # Only one row has none of all\n",
    "\n",
    "# Create new columns to reflect best and worst scores from EXT_SOURCE_1, EXT_SOURCE_2, and EXT_SOURCE3\n",
    "df_joined['EXT_SOURCE_best'] = df_joined[external_sources].apply(\n",
    "    lambda row: row.max(skipna=True), axis=1)\n",
    "df_joined['EXT_SOURCE_worst'] = df_joined[external_sources].apply(\n",
    "    lambda row: row.min(skipna=True), axis=1)\n",
    "\n",
    "# Isolate columns EXT_SOURCE_1, EXT_SOURCE_2, and EXT_SOURCE_3\n",
    "df_joined = df_joined.drop(columns=external_sources)\n",
    "\n",
    "# Drop rows with 0 'AMT_CREDIT_LIMIT_ACTUAL' since they cannot be upsold with expanded limit (re-activation would be required instead)\n",
    "# we do this later\n",
    "# df_joined = df_joined[df_joined['AMT_CREDIT_LIMIT_ACTUAL'] != 0]"
   ],
   "outputs": [],
   "execution_count": 80
  },
  {
   "cell_type": "code",
   "metadata": {
    "ExecuteTime": {
     "end_time": "2024-11-27T03:45:53.904448Z",
     "start_time": "2024-11-27T03:45:53.879504Z"
    }
   },
   "source": [
    "# use mean to fill NA for own car age so that this data can be used without effect for the missing rows\n",
    "df_joined['OWN_CAR_AGE'].fillna(df_joined.OWN_CAR_AGE.mean(), inplace=True)\n",
    "\n",
    "# Create new feature credit limit to income ratio\n",
    "df_joined['credit_limit_income_ratio'] = df_joined['AMT_CREDIT_LIMIT_ACTUAL'] / df_joined['AMT_INCOME_TOTAL']"
   ],
   "outputs": [],
   "execution_count": 81
  },
  {
   "cell_type": "code",
   "metadata": {
    "ExecuteTime": {
     "end_time": "2024-11-27T03:45:56.679894Z",
     "start_time": "2024-11-27T03:45:56.481153Z"
    }
   },
   "source": [
    "# na_counts = df_joined['W_DEFAULT'].isna().sum()\n",
    "# print(f\"Number of NA values in W_DEFAULT column: {na_counts}\")\n",
    "\n",
    "df_joined['W_DEFAULT'].fillna(0, inplace=True)\n",
    "df_joined"
   ],
   "outputs": [
    {
     "data": {
      "text/plain": [
       "        SK_ID_CURR  W_DEFAULT  FLAG_OWN_CAR  FLAG_OWN_REALTY  CNT_CHILDREN  \\\n",
       "0           100002        1.0             0                1             0   \n",
       "1           100001        0.0             0                1             0   \n",
       "2           100005        0.0             0                1             0   \n",
       "3           100003        0.0             0                0             0   \n",
       "4           100004        0.0             1                1             0   \n",
       "...            ...        ...           ...              ...           ...   \n",
       "356250      456251        0.0             0                0             0   \n",
       "356251      456252        0.0             0                1             0   \n",
       "356252      456253        0.0             0                1             0   \n",
       "356253      456254        1.0             0                1             0   \n",
       "356254      456255        0.0             0                0             0   \n",
       "\n",
       "        AMT_INCOME_TOTAL      NAME_INCOME_TYPE            NAME_EDUCATION_TYPE  \\\n",
       "0               202500.0               Working  Secondary / secondary special   \n",
       "1               135000.0               Working               Higher education   \n",
       "2                99000.0               Working  Secondary / secondary special   \n",
       "3               270000.0         State servant               Higher education   \n",
       "4                67500.0               Working  Secondary / secondary special   \n",
       "...                  ...                   ...                            ...   \n",
       "356250          157500.0               Working  Secondary / secondary special   \n",
       "356251           72000.0             Pensioner  Secondary / secondary special   \n",
       "356252          153000.0               Working               Higher education   \n",
       "356253          171000.0  Commercial associate  Secondary / secondary special   \n",
       "356254          157500.0  Commercial associate               Higher education   \n",
       "\n",
       "          NAME_FAMILY_STATUS  NAME_HOUSING_TYPE  ...  Avg_CNT_Other_Ratio  \\\n",
       "0       Single / not married  House / apartment  ...                  NaN   \n",
       "1                    Married  House / apartment  ...                  NaN   \n",
       "2                    Married  House / apartment  ...                  NaN   \n",
       "3                    Married  House / apartment  ...                  NaN   \n",
       "4       Single / not married  House / apartment  ...                  NaN   \n",
       "...                      ...                ...  ...                  ...   \n",
       "356250             Separated       With parents  ...                  NaN   \n",
       "356251                 Widow  House / apartment  ...                  NaN   \n",
       "356252             Separated  House / apartment  ...                  NaN   \n",
       "356253               Married  House / apartment  ...                  NaN   \n",
       "356254               Married  House / apartment  ...                  NaN   \n",
       "\n",
       "        Avg_CNT_ATM_Ratio Avg_CNT_POS_Ratio  AMT_CREDIT_LIMIT_ACTUAL  \\\n",
       "0                     NaN               NaN                      NaN   \n",
       "1                     NaN               NaN                      NaN   \n",
       "2                     NaN               NaN                      NaN   \n",
       "3                     NaN               NaN                      NaN   \n",
       "4                     NaN               NaN                      NaN   \n",
       "...                   ...               ...                      ...   \n",
       "356250                NaN               NaN                      NaN   \n",
       "356251                NaN               NaN                      NaN   \n",
       "356252                NaN               NaN                      NaN   \n",
       "356253                NaN               NaN                      NaN   \n",
       "356254                NaN               NaN                      NaN   \n",
       "\n",
       "        Age_Years  Employed_Months  CODE_GENDER_M  EXT_SOURCE_best  \\\n",
       "0       25.920548        21.233333            1.0         0.262949   \n",
       "1       52.715068        77.633333            0.0         0.789654   \n",
       "2       49.490411       148.966667            1.0         0.564990   \n",
       "3       45.931507        39.600000            0.0         0.622246   \n",
       "4       52.180822         7.500000            1.0         0.729567   \n",
       "...           ...              ...            ...              ...   \n",
       "356250  25.553425         7.866667            1.0         0.681632   \n",
       "356251  56.917808     12174.766667            0.0         0.115992   \n",
       "356252  41.002740       264.033333            0.0         0.744026   \n",
       "356253  32.769863       159.533333            0.0         0.661024   \n",
       "356254  46.180822        42.066667            0.0         0.734460   \n",
       "\n",
       "        EXT_SOURCE_worst  credit_limit_income_ratio  \n",
       "0               0.083037                        NaN  \n",
       "1               0.159520                        NaN  \n",
       "2               0.291656                        NaN  \n",
       "3               0.311267                        NaN  \n",
       "4               0.555912                        NaN  \n",
       "...                  ...                        ...  \n",
       "356250          0.145570                        NaN  \n",
       "356251          0.115992                        NaN  \n",
       "356252          0.218859                        NaN  \n",
       "356253          0.514163                        NaN  \n",
       "356254          0.113922                        NaN  \n",
       "\n",
       "[356076 rows x 36 columns]"
      ],
      "text/html": [
       "<div>\n",
       "<style scoped>\n",
       "    .dataframe tbody tr th:only-of-type {\n",
       "        vertical-align: middle;\n",
       "    }\n",
       "\n",
       "    .dataframe tbody tr th {\n",
       "        vertical-align: top;\n",
       "    }\n",
       "\n",
       "    .dataframe thead th {\n",
       "        text-align: right;\n",
       "    }\n",
       "</style>\n",
       "<table border=\"1\" class=\"dataframe\">\n",
       "  <thead>\n",
       "    <tr style=\"text-align: right;\">\n",
       "      <th></th>\n",
       "      <th>SK_ID_CURR</th>\n",
       "      <th>W_DEFAULT</th>\n",
       "      <th>FLAG_OWN_CAR</th>\n",
       "      <th>FLAG_OWN_REALTY</th>\n",
       "      <th>CNT_CHILDREN</th>\n",
       "      <th>AMT_INCOME_TOTAL</th>\n",
       "      <th>NAME_INCOME_TYPE</th>\n",
       "      <th>NAME_EDUCATION_TYPE</th>\n",
       "      <th>NAME_FAMILY_STATUS</th>\n",
       "      <th>NAME_HOUSING_TYPE</th>\n",
       "      <th>...</th>\n",
       "      <th>Avg_CNT_Other_Ratio</th>\n",
       "      <th>Avg_CNT_ATM_Ratio</th>\n",
       "      <th>Avg_CNT_POS_Ratio</th>\n",
       "      <th>AMT_CREDIT_LIMIT_ACTUAL</th>\n",
       "      <th>Age_Years</th>\n",
       "      <th>Employed_Months</th>\n",
       "      <th>CODE_GENDER_M</th>\n",
       "      <th>EXT_SOURCE_best</th>\n",
       "      <th>EXT_SOURCE_worst</th>\n",
       "      <th>credit_limit_income_ratio</th>\n",
       "    </tr>\n",
       "  </thead>\n",
       "  <tbody>\n",
       "    <tr>\n",
       "      <th>0</th>\n",
       "      <td>100002</td>\n",
       "      <td>1.0</td>\n",
       "      <td>0</td>\n",
       "      <td>1</td>\n",
       "      <td>0</td>\n",
       "      <td>202500.0</td>\n",
       "      <td>Working</td>\n",
       "      <td>Secondary / secondary special</td>\n",
       "      <td>Single / not married</td>\n",
       "      <td>House / apartment</td>\n",
       "      <td>...</td>\n",
       "      <td>NaN</td>\n",
       "      <td>NaN</td>\n",
       "      <td>NaN</td>\n",
       "      <td>NaN</td>\n",
       "      <td>25.920548</td>\n",
       "      <td>21.233333</td>\n",
       "      <td>1.0</td>\n",
       "      <td>0.262949</td>\n",
       "      <td>0.083037</td>\n",
       "      <td>NaN</td>\n",
       "    </tr>\n",
       "    <tr>\n",
       "      <th>1</th>\n",
       "      <td>100001</td>\n",
       "      <td>0.0</td>\n",
       "      <td>0</td>\n",
       "      <td>1</td>\n",
       "      <td>0</td>\n",
       "      <td>135000.0</td>\n",
       "      <td>Working</td>\n",
       "      <td>Higher education</td>\n",
       "      <td>Married</td>\n",
       "      <td>House / apartment</td>\n",
       "      <td>...</td>\n",
       "      <td>NaN</td>\n",
       "      <td>NaN</td>\n",
       "      <td>NaN</td>\n",
       "      <td>NaN</td>\n",
       "      <td>52.715068</td>\n",
       "      <td>77.633333</td>\n",
       "      <td>0.0</td>\n",
       "      <td>0.789654</td>\n",
       "      <td>0.159520</td>\n",
       "      <td>NaN</td>\n",
       "    </tr>\n",
       "    <tr>\n",
       "      <th>2</th>\n",
       "      <td>100005</td>\n",
       "      <td>0.0</td>\n",
       "      <td>0</td>\n",
       "      <td>1</td>\n",
       "      <td>0</td>\n",
       "      <td>99000.0</td>\n",
       "      <td>Working</td>\n",
       "      <td>Secondary / secondary special</td>\n",
       "      <td>Married</td>\n",
       "      <td>House / apartment</td>\n",
       "      <td>...</td>\n",
       "      <td>NaN</td>\n",
       "      <td>NaN</td>\n",
       "      <td>NaN</td>\n",
       "      <td>NaN</td>\n",
       "      <td>49.490411</td>\n",
       "      <td>148.966667</td>\n",
       "      <td>1.0</td>\n",
       "      <td>0.564990</td>\n",
       "      <td>0.291656</td>\n",
       "      <td>NaN</td>\n",
       "    </tr>\n",
       "    <tr>\n",
       "      <th>3</th>\n",
       "      <td>100003</td>\n",
       "      <td>0.0</td>\n",
       "      <td>0</td>\n",
       "      <td>0</td>\n",
       "      <td>0</td>\n",
       "      <td>270000.0</td>\n",
       "      <td>State servant</td>\n",
       "      <td>Higher education</td>\n",
       "      <td>Married</td>\n",
       "      <td>House / apartment</td>\n",
       "      <td>...</td>\n",
       "      <td>NaN</td>\n",
       "      <td>NaN</td>\n",
       "      <td>NaN</td>\n",
       "      <td>NaN</td>\n",
       "      <td>45.931507</td>\n",
       "      <td>39.600000</td>\n",
       "      <td>0.0</td>\n",
       "      <td>0.622246</td>\n",
       "      <td>0.311267</td>\n",
       "      <td>NaN</td>\n",
       "    </tr>\n",
       "    <tr>\n",
       "      <th>4</th>\n",
       "      <td>100004</td>\n",
       "      <td>0.0</td>\n",
       "      <td>1</td>\n",
       "      <td>1</td>\n",
       "      <td>0</td>\n",
       "      <td>67500.0</td>\n",
       "      <td>Working</td>\n",
       "      <td>Secondary / secondary special</td>\n",
       "      <td>Single / not married</td>\n",
       "      <td>House / apartment</td>\n",
       "      <td>...</td>\n",
       "      <td>NaN</td>\n",
       "      <td>NaN</td>\n",
       "      <td>NaN</td>\n",
       "      <td>NaN</td>\n",
       "      <td>52.180822</td>\n",
       "      <td>7.500000</td>\n",
       "      <td>1.0</td>\n",
       "      <td>0.729567</td>\n",
       "      <td>0.555912</td>\n",
       "      <td>NaN</td>\n",
       "    </tr>\n",
       "    <tr>\n",
       "      <th>...</th>\n",
       "      <td>...</td>\n",
       "      <td>...</td>\n",
       "      <td>...</td>\n",
       "      <td>...</td>\n",
       "      <td>...</td>\n",
       "      <td>...</td>\n",
       "      <td>...</td>\n",
       "      <td>...</td>\n",
       "      <td>...</td>\n",
       "      <td>...</td>\n",
       "      <td>...</td>\n",
       "      <td>...</td>\n",
       "      <td>...</td>\n",
       "      <td>...</td>\n",
       "      <td>...</td>\n",
       "      <td>...</td>\n",
       "      <td>...</td>\n",
       "      <td>...</td>\n",
       "      <td>...</td>\n",
       "      <td>...</td>\n",
       "      <td>...</td>\n",
       "    </tr>\n",
       "    <tr>\n",
       "      <th>356250</th>\n",
       "      <td>456251</td>\n",
       "      <td>0.0</td>\n",
       "      <td>0</td>\n",
       "      <td>0</td>\n",
       "      <td>0</td>\n",
       "      <td>157500.0</td>\n",
       "      <td>Working</td>\n",
       "      <td>Secondary / secondary special</td>\n",
       "      <td>Separated</td>\n",
       "      <td>With parents</td>\n",
       "      <td>...</td>\n",
       "      <td>NaN</td>\n",
       "      <td>NaN</td>\n",
       "      <td>NaN</td>\n",
       "      <td>NaN</td>\n",
       "      <td>25.553425</td>\n",
       "      <td>7.866667</td>\n",
       "      <td>1.0</td>\n",
       "      <td>0.681632</td>\n",
       "      <td>0.145570</td>\n",
       "      <td>NaN</td>\n",
       "    </tr>\n",
       "    <tr>\n",
       "      <th>356251</th>\n",
       "      <td>456252</td>\n",
       "      <td>0.0</td>\n",
       "      <td>0</td>\n",
       "      <td>1</td>\n",
       "      <td>0</td>\n",
       "      <td>72000.0</td>\n",
       "      <td>Pensioner</td>\n",
       "      <td>Secondary / secondary special</td>\n",
       "      <td>Widow</td>\n",
       "      <td>House / apartment</td>\n",
       "      <td>...</td>\n",
       "      <td>NaN</td>\n",
       "      <td>NaN</td>\n",
       "      <td>NaN</td>\n",
       "      <td>NaN</td>\n",
       "      <td>56.917808</td>\n",
       "      <td>12174.766667</td>\n",
       "      <td>0.0</td>\n",
       "      <td>0.115992</td>\n",
       "      <td>0.115992</td>\n",
       "      <td>NaN</td>\n",
       "    </tr>\n",
       "    <tr>\n",
       "      <th>356252</th>\n",
       "      <td>456253</td>\n",
       "      <td>0.0</td>\n",
       "      <td>0</td>\n",
       "      <td>1</td>\n",
       "      <td>0</td>\n",
       "      <td>153000.0</td>\n",
       "      <td>Working</td>\n",
       "      <td>Higher education</td>\n",
       "      <td>Separated</td>\n",
       "      <td>House / apartment</td>\n",
       "      <td>...</td>\n",
       "      <td>NaN</td>\n",
       "      <td>NaN</td>\n",
       "      <td>NaN</td>\n",
       "      <td>NaN</td>\n",
       "      <td>41.002740</td>\n",
       "      <td>264.033333</td>\n",
       "      <td>0.0</td>\n",
       "      <td>0.744026</td>\n",
       "      <td>0.218859</td>\n",
       "      <td>NaN</td>\n",
       "    </tr>\n",
       "    <tr>\n",
       "      <th>356253</th>\n",
       "      <td>456254</td>\n",
       "      <td>1.0</td>\n",
       "      <td>0</td>\n",
       "      <td>1</td>\n",
       "      <td>0</td>\n",
       "      <td>171000.0</td>\n",
       "      <td>Commercial associate</td>\n",
       "      <td>Secondary / secondary special</td>\n",
       "      <td>Married</td>\n",
       "      <td>House / apartment</td>\n",
       "      <td>...</td>\n",
       "      <td>NaN</td>\n",
       "      <td>NaN</td>\n",
       "      <td>NaN</td>\n",
       "      <td>NaN</td>\n",
       "      <td>32.769863</td>\n",
       "      <td>159.533333</td>\n",
       "      <td>0.0</td>\n",
       "      <td>0.661024</td>\n",
       "      <td>0.514163</td>\n",
       "      <td>NaN</td>\n",
       "    </tr>\n",
       "    <tr>\n",
       "      <th>356254</th>\n",
       "      <td>456255</td>\n",
       "      <td>0.0</td>\n",
       "      <td>0</td>\n",
       "      <td>0</td>\n",
       "      <td>0</td>\n",
       "      <td>157500.0</td>\n",
       "      <td>Commercial associate</td>\n",
       "      <td>Higher education</td>\n",
       "      <td>Married</td>\n",
       "      <td>House / apartment</td>\n",
       "      <td>...</td>\n",
       "      <td>NaN</td>\n",
       "      <td>NaN</td>\n",
       "      <td>NaN</td>\n",
       "      <td>NaN</td>\n",
       "      <td>46.180822</td>\n",
       "      <td>42.066667</td>\n",
       "      <td>0.0</td>\n",
       "      <td>0.734460</td>\n",
       "      <td>0.113922</td>\n",
       "      <td>NaN</td>\n",
       "    </tr>\n",
       "  </tbody>\n",
       "</table>\n",
       "<p>356076 rows × 36 columns</p>\n",
       "</div>"
      ]
     },
     "execution_count": 82,
     "metadata": {},
     "output_type": "execute_result"
    }
   ],
   "execution_count": 82
  },
  {
   "cell_type": "code",
   "source": [
    "df_info = df_info = pd.concat([df_info, pd.DataFrame({'df_name': ['df_joined'], 'shape': [df_joined.shape]})], ignore_index=True)\n",
    "df_info"
   ],
   "metadata": {
    "collapsed": false,
    "ExecuteTime": {
     "end_time": "2024-11-27T03:45:56.688060Z",
     "start_time": "2024-11-27T03:45:56.680932Z"
    }
   },
   "outputs": [
    {
     "data": {
      "text/plain": [
       "                     df_name          shape\n",
       "0                credit_card  (3698436, 21)\n",
       "1  credit_card after feature  (3698436, 31)\n",
       "2       latest_credit_limits      (103468,)\n",
       "3            credit_card_agg   (103468, 16)\n",
       "4      customer_1 / apptrain  (307511, 122)\n",
       "5       customer_2 / apptest   (48744, 121)\n",
       "6              customer_info   (356255, 19)\n",
       "7                  df_joined   (356076, 36)"
      ],
      "text/html": [
       "<div>\n",
       "<style scoped>\n",
       "    .dataframe tbody tr th:only-of-type {\n",
       "        vertical-align: middle;\n",
       "    }\n",
       "\n",
       "    .dataframe tbody tr th {\n",
       "        vertical-align: top;\n",
       "    }\n",
       "\n",
       "    .dataframe thead th {\n",
       "        text-align: right;\n",
       "    }\n",
       "</style>\n",
       "<table border=\"1\" class=\"dataframe\">\n",
       "  <thead>\n",
       "    <tr style=\"text-align: right;\">\n",
       "      <th></th>\n",
       "      <th>df_name</th>\n",
       "      <th>shape</th>\n",
       "    </tr>\n",
       "  </thead>\n",
       "  <tbody>\n",
       "    <tr>\n",
       "      <th>0</th>\n",
       "      <td>credit_card</td>\n",
       "      <td>(3698436, 21)</td>\n",
       "    </tr>\n",
       "    <tr>\n",
       "      <th>1</th>\n",
       "      <td>credit_card after feature</td>\n",
       "      <td>(3698436, 31)</td>\n",
       "    </tr>\n",
       "    <tr>\n",
       "      <th>2</th>\n",
       "      <td>latest_credit_limits</td>\n",
       "      <td>(103468,)</td>\n",
       "    </tr>\n",
       "    <tr>\n",
       "      <th>3</th>\n",
       "      <td>credit_card_agg</td>\n",
       "      <td>(103468, 16)</td>\n",
       "    </tr>\n",
       "    <tr>\n",
       "      <th>4</th>\n",
       "      <td>customer_1 / apptrain</td>\n",
       "      <td>(307511, 122)</td>\n",
       "    </tr>\n",
       "    <tr>\n",
       "      <th>5</th>\n",
       "      <td>customer_2 / apptest</td>\n",
       "      <td>(48744, 121)</td>\n",
       "    </tr>\n",
       "    <tr>\n",
       "      <th>6</th>\n",
       "      <td>customer_info</td>\n",
       "      <td>(356255, 19)</td>\n",
       "    </tr>\n",
       "    <tr>\n",
       "      <th>7</th>\n",
       "      <td>df_joined</td>\n",
       "      <td>(356076, 36)</td>\n",
       "    </tr>\n",
       "  </tbody>\n",
       "</table>\n",
       "</div>"
      ]
     },
     "execution_count": 83,
     "metadata": {},
     "output_type": "execute_result"
    }
   ],
   "execution_count": 83
  },
  {
   "cell_type": "markdown",
   "metadata": {},
   "source": [
    "#### A.4 Merge with installments data"
   ]
  },
  {
   "cell_type": "code",
   "metadata": {
    "ExecuteTime": {
     "end_time": "2024-11-27T03:46:31.007509Z",
     "start_time": "2024-11-27T03:45:58.367632Z"
    }
   },
   "source": [
    "installments_info = (\n",
    "    pd.read_csv('./data/installments_payments.csv') \n",
    "    .sort_values(by=['SK_ID_CURR', 'NUM_INSTALMENT_NUMBER'], ascending=[False, False])\n",
    ")"
   ],
   "outputs": [],
   "execution_count": 84
  },
  {
   "cell_type": "code",
   "metadata": {
    "ExecuteTime": {
     "end_time": "2024-11-27T03:46:31.644202Z",
     "start_time": "2024-11-27T03:46:31.018478Z"
    }
   },
   "source": [
    "installments_info[\"LATE_PAYMENT\"] = installments_info[\"DAYS_ENTRY_PAYMENT\"] < installments_info[\"DAYS_INSTALMENT\"]\n",
    "installments_info[\"LATE_PAYMENT\"] = installments_info[\"LATE_PAYMENT\"].astype(int)\n",
    "\n",
    "installments_info[\"DAYS_LATE\"] = installments_info[\"DAYS_ENTRY_PAYMENT\"] - installments_info[\"DAYS_INSTALMENT\"]\n",
    "installments_info[\"DAYS_LATE\"] = np.abs(np.where(installments_info[\"DAYS_LATE\"] < 0, installments_info[\"DAYS_LATE\"], 0))\n",
    "\n",
    "installments_info[\"AMT_LESS\"] = np.abs(np.where(installments_info[\"AMT_PAYMENT\"] < installments_info[\"AMT_INSTALMENT\"], installments_info[\"AMT_PAYMENT\"] - installments_info[\"AMT_INSTALMENT\"], 0))"
   ],
   "outputs": [],
   "execution_count": 85
  },
  {
   "cell_type": "code",
   "metadata": {
    "ExecuteTime": {
     "end_time": "2024-11-27T03:46:37.396073Z",
     "start_time": "2024-11-27T03:46:31.649416Z"
    }
   },
   "source": [
    "latest_installment = (\n",
    "  installments_info\n",
    "  .sort_values(['SK_ID_CURR', 'NUM_INSTALMENT_NUMBER'])\n",
    "  .groupby('SK_ID_CURR')\n",
    "  .last()['SK_ID_PREV']\n",
    ")\n",
    "latest_installment.head()\n",
    "agg_functions = {\n",
    "    'LATE_PAYMENT': ['sum'],\n",
    "    'AMT_LESS': ['sum', 'max'],\n",
    "    'DAYS_LATE': ['mean', 'max']\n",
    "}\n",
    "\n",
    "installments_agg = (\n",
    "  installments_info\n",
    "  .groupby(\"SK_ID_CURR\")\n",
    "  .agg(agg_functions)\n",
    "  .fillna(0)\n",
    "  .replace([np.inf, -np.inf], 0)\n",
    ")\n",
    "installments_agg.columns = [f'{col[0]}_{col[1]}' for col in installments_agg.columns]\n",
    "installments_agg = installments_agg.rename(columns={\n",
    "    'LATE_PAYMENT_sum': 'LATE_PAYMENT_DAYS', \n",
    "    'AMT_LESS_sum': 'AMT_LESS_TOTAL',\n",
    "    'AMT_LESS_max': 'AMT_LESS_MAX',\n",
    "    'DAYS_LATE_mean': 'DAYS_LATE_AVG',\n",
    "    'DAYS_LATE_max': 'DAYS_LATE_MAX',\n",
    "})\n",
    "print(installments_agg.columns)\n",
    "\n",
    "installments_agg = pd.merge(installments_agg, latest_installment,\n",
    "                           how=\"inner\", \n",
    "                           left_index=True, right_index=True)\n",
    "installments_agg.head()"
   ],
   "outputs": [
    {
     "name": "stdout",
     "output_type": "stream",
     "text": [
      "Index(['LATE_PAYMENT_DAYS', 'AMT_LESS_TOTAL', 'AMT_LESS_MAX', 'DAYS_LATE_AVG',\n",
      "       'DAYS_LATE_MAX'],\n",
      "      dtype='object')\n"
     ]
    },
    {
     "data": {
      "text/plain": [
       "            LATE_PAYMENT_DAYS  AMT_LESS_TOTAL  AMT_LESS_MAX  DAYS_LATE_AVG  \\\n",
       "SK_ID_CURR                                                                   \n",
       "100001                      4             0.0           0.0       8.857143   \n",
       "100002                     19             0.0           0.0      20.421053   \n",
       "100003                     25             0.0           0.0       7.160000   \n",
       "100004                      3             0.0           0.0       7.666667   \n",
       "100005                      8             0.0           0.0      23.666667   \n",
       "\n",
       "            DAYS_LATE_MAX  SK_ID_PREV  \n",
       "SK_ID_CURR                             \n",
       "100001               36.0     1851984  \n",
       "100002               31.0     1038818  \n",
       "100003               14.0     2396755  \n",
       "100004               11.0     1564014  \n",
       "100005               37.0     2495675  "
      ],
      "text/html": [
       "<div>\n",
       "<style scoped>\n",
       "    .dataframe tbody tr th:only-of-type {\n",
       "        vertical-align: middle;\n",
       "    }\n",
       "\n",
       "    .dataframe tbody tr th {\n",
       "        vertical-align: top;\n",
       "    }\n",
       "\n",
       "    .dataframe thead th {\n",
       "        text-align: right;\n",
       "    }\n",
       "</style>\n",
       "<table border=\"1\" class=\"dataframe\">\n",
       "  <thead>\n",
       "    <tr style=\"text-align: right;\">\n",
       "      <th></th>\n",
       "      <th>LATE_PAYMENT_DAYS</th>\n",
       "      <th>AMT_LESS_TOTAL</th>\n",
       "      <th>AMT_LESS_MAX</th>\n",
       "      <th>DAYS_LATE_AVG</th>\n",
       "      <th>DAYS_LATE_MAX</th>\n",
       "      <th>SK_ID_PREV</th>\n",
       "    </tr>\n",
       "    <tr>\n",
       "      <th>SK_ID_CURR</th>\n",
       "      <th></th>\n",
       "      <th></th>\n",
       "      <th></th>\n",
       "      <th></th>\n",
       "      <th></th>\n",
       "      <th></th>\n",
       "    </tr>\n",
       "  </thead>\n",
       "  <tbody>\n",
       "    <tr>\n",
       "      <th>100001</th>\n",
       "      <td>4</td>\n",
       "      <td>0.0</td>\n",
       "      <td>0.0</td>\n",
       "      <td>8.857143</td>\n",
       "      <td>36.0</td>\n",
       "      <td>1851984</td>\n",
       "    </tr>\n",
       "    <tr>\n",
       "      <th>100002</th>\n",
       "      <td>19</td>\n",
       "      <td>0.0</td>\n",
       "      <td>0.0</td>\n",
       "      <td>20.421053</td>\n",
       "      <td>31.0</td>\n",
       "      <td>1038818</td>\n",
       "    </tr>\n",
       "    <tr>\n",
       "      <th>100003</th>\n",
       "      <td>25</td>\n",
       "      <td>0.0</td>\n",
       "      <td>0.0</td>\n",
       "      <td>7.160000</td>\n",
       "      <td>14.0</td>\n",
       "      <td>2396755</td>\n",
       "    </tr>\n",
       "    <tr>\n",
       "      <th>100004</th>\n",
       "      <td>3</td>\n",
       "      <td>0.0</td>\n",
       "      <td>0.0</td>\n",
       "      <td>7.666667</td>\n",
       "      <td>11.0</td>\n",
       "      <td>1564014</td>\n",
       "    </tr>\n",
       "    <tr>\n",
       "      <th>100005</th>\n",
       "      <td>8</td>\n",
       "      <td>0.0</td>\n",
       "      <td>0.0</td>\n",
       "      <td>23.666667</td>\n",
       "      <td>37.0</td>\n",
       "      <td>2495675</td>\n",
       "    </tr>\n",
       "  </tbody>\n",
       "</table>\n",
       "</div>"
      ]
     },
     "execution_count": 86,
     "metadata": {},
     "output_type": "execute_result"
    }
   ],
   "execution_count": 86
  },
  {
   "cell_type": "code",
   "metadata": {
    "ExecuteTime": {
     "end_time": "2024-11-27T03:46:37.886266Z",
     "start_time": "2024-11-27T03:46:37.398525Z"
    }
   },
   "source": [
    "df_joined = pd.merge(df_joined, installments_agg, how='inner', \n",
    "                     on='SK_ID_CURR')\n",
    "\n",
    "df_joined.drop(columns=['SK_ID_PREV'], inplace=True, axis=1)"
   ],
   "outputs": [],
   "execution_count": 87
  },
  {
   "cell_type": "code",
   "source": [
    "df_info = df_info = pd.concat([df_info, pd.DataFrame({'df_name': ['installments_info'], 'shape': [installments_info.shape]})], ignore_index=True)\n",
    "df_info = df_info = pd.concat([df_info, pd.DataFrame({'df_name': ['latest_installment'], 'shape': [latest_installment.shape]})], ignore_index=True)\n",
    "df_info = df_info = pd.concat([df_info, pd.DataFrame({'df_name': ['installments_agg'], 'shape': [installments_agg.shape]})], ignore_index=True)\n",
    "df_info = df_info = pd.concat([df_info, pd.DataFrame({'df_name': ['df_joined'], 'shape': [df_joined.shape]})], ignore_index=True)\n",
    "df_info"
   ],
   "metadata": {
    "collapsed": false,
    "ExecuteTime": {
     "end_time": "2024-11-27T03:46:37.898238Z",
     "start_time": "2024-11-27T03:46:37.887177Z"
    }
   },
   "outputs": [
    {
     "data": {
      "text/plain": [
       "                      df_name           shape\n",
       "0                 credit_card   (3698436, 21)\n",
       "1   credit_card after feature   (3698436, 31)\n",
       "2        latest_credit_limits       (103468,)\n",
       "3             credit_card_agg    (103468, 16)\n",
       "4       customer_1 / apptrain   (307511, 122)\n",
       "5        customer_2 / apptest    (48744, 121)\n",
       "6               customer_info    (356255, 19)\n",
       "7                   df_joined    (356076, 36)\n",
       "8           installments_info  (13605401, 11)\n",
       "9          latest_installment       (339587,)\n",
       "10           installments_agg     (339587, 6)\n",
       "11                  df_joined    (339483, 41)"
      ],
      "text/html": [
       "<div>\n",
       "<style scoped>\n",
       "    .dataframe tbody tr th:only-of-type {\n",
       "        vertical-align: middle;\n",
       "    }\n",
       "\n",
       "    .dataframe tbody tr th {\n",
       "        vertical-align: top;\n",
       "    }\n",
       "\n",
       "    .dataframe thead th {\n",
       "        text-align: right;\n",
       "    }\n",
       "</style>\n",
       "<table border=\"1\" class=\"dataframe\">\n",
       "  <thead>\n",
       "    <tr style=\"text-align: right;\">\n",
       "      <th></th>\n",
       "      <th>df_name</th>\n",
       "      <th>shape</th>\n",
       "    </tr>\n",
       "  </thead>\n",
       "  <tbody>\n",
       "    <tr>\n",
       "      <th>0</th>\n",
       "      <td>credit_card</td>\n",
       "      <td>(3698436, 21)</td>\n",
       "    </tr>\n",
       "    <tr>\n",
       "      <th>1</th>\n",
       "      <td>credit_card after feature</td>\n",
       "      <td>(3698436, 31)</td>\n",
       "    </tr>\n",
       "    <tr>\n",
       "      <th>2</th>\n",
       "      <td>latest_credit_limits</td>\n",
       "      <td>(103468,)</td>\n",
       "    </tr>\n",
       "    <tr>\n",
       "      <th>3</th>\n",
       "      <td>credit_card_agg</td>\n",
       "      <td>(103468, 16)</td>\n",
       "    </tr>\n",
       "    <tr>\n",
       "      <th>4</th>\n",
       "      <td>customer_1 / apptrain</td>\n",
       "      <td>(307511, 122)</td>\n",
       "    </tr>\n",
       "    <tr>\n",
       "      <th>5</th>\n",
       "      <td>customer_2 / apptest</td>\n",
       "      <td>(48744, 121)</td>\n",
       "    </tr>\n",
       "    <tr>\n",
       "      <th>6</th>\n",
       "      <td>customer_info</td>\n",
       "      <td>(356255, 19)</td>\n",
       "    </tr>\n",
       "    <tr>\n",
       "      <th>7</th>\n",
       "      <td>df_joined</td>\n",
       "      <td>(356076, 36)</td>\n",
       "    </tr>\n",
       "    <tr>\n",
       "      <th>8</th>\n",
       "      <td>installments_info</td>\n",
       "      <td>(13605401, 11)</td>\n",
       "    </tr>\n",
       "    <tr>\n",
       "      <th>9</th>\n",
       "      <td>latest_installment</td>\n",
       "      <td>(339587,)</td>\n",
       "    </tr>\n",
       "    <tr>\n",
       "      <th>10</th>\n",
       "      <td>installments_agg</td>\n",
       "      <td>(339587, 6)</td>\n",
       "    </tr>\n",
       "    <tr>\n",
       "      <th>11</th>\n",
       "      <td>df_joined</td>\n",
       "      <td>(339483, 41)</td>\n",
       "    </tr>\n",
       "  </tbody>\n",
       "</table>\n",
       "</div>"
      ]
     },
     "execution_count": 88,
     "metadata": {},
     "output_type": "execute_result"
    }
   ],
   "execution_count": 88
  },
  {
   "cell_type": "markdown",
   "metadata": {},
   "source": [
    "#### A.5 Merge with POS_CASH data"
   ]
  },
  {
   "cell_type": "code",
   "metadata": {
    "ExecuteTime": {
     "end_time": "2024-11-27T03:46:50.985944Z",
     "start_time": "2024-11-27T03:46:37.899281Z"
    }
   },
   "source": [
    "pos_cash = (\n",
    "    pd.read_csv('./data/POS_CASH_balance.csv') \n",
    "    .sort_values(by=['SK_ID_CURR'], ascending=[False])\n",
    ") "
   ],
   "outputs": [],
   "execution_count": 89
  },
  {
   "cell_type": "code",
   "metadata": {
    "ExecuteTime": {
     "end_time": "2024-11-27T03:46:51.868721Z",
     "start_time": "2024-11-27T03:46:51.001727Z"
    }
   },
   "source": [
    "\n",
    "pos_cash_agg = pos_cash.groupby('SK_ID_CURR')['SK_DPD_DEF'].sum().reset_index()\n",
    "\n",
    "df_joined = pd.merge(df_joined, pos_cash_agg, how='left', on='SK_ID_CURR')\n"
   ],
   "outputs": [],
   "execution_count": 90
  },
  {
   "cell_type": "code",
   "metadata": {
    "ExecuteTime": {
     "end_time": "2024-11-27T03:46:51.915273Z",
     "start_time": "2024-11-27T03:46:51.874340Z"
    }
   },
   "source": [
    "df_joined['SK_DPD_DEF'].fillna(0, inplace=True)"
   ],
   "outputs": [],
   "execution_count": 91
  },
  {
   "cell_type": "code",
   "source": [
    "df_info = df_info = pd.concat([df_info, pd.DataFrame({'df_name': ['pos_cash'], 'shape': [pos_cash.shape]})], ignore_index=True)\n",
    "df_info = df_info = pd.concat([df_info, pd.DataFrame({'df_name': ['pos_cash_agg'], 'shape': [pos_cash_agg.shape]})], ignore_index=True)\n",
    "df_info = df_info = pd.concat([df_info, pd.DataFrame({'df_name': ['df_joined'], 'shape': [df_joined.shape]})], ignore_index=True)\n",
    "df_info"
   ],
   "metadata": {
    "collapsed": false,
    "ExecuteTime": {
     "end_time": "2024-11-27T03:46:51.942732Z",
     "start_time": "2024-11-27T03:46:51.918521Z"
    }
   },
   "outputs": [
    {
     "data": {
      "text/plain": [
       "                      df_name           shape\n",
       "0                 credit_card   (3698436, 21)\n",
       "1   credit_card after feature   (3698436, 31)\n",
       "2        latest_credit_limits       (103468,)\n",
       "3             credit_card_agg    (103468, 16)\n",
       "4       customer_1 / apptrain   (307511, 122)\n",
       "5        customer_2 / apptest    (48744, 121)\n",
       "6               customer_info    (356255, 19)\n",
       "7                   df_joined    (356076, 36)\n",
       "8           installments_info  (13605401, 11)\n",
       "9          latest_installment       (339587,)\n",
       "10           installments_agg     (339587, 6)\n",
       "11                  df_joined    (339483, 41)\n",
       "12                   pos_cash   (10001358, 8)\n",
       "13               pos_cash_agg     (337252, 2)\n",
       "14                  df_joined    (339483, 42)"
      ],
      "text/html": [
       "<div>\n",
       "<style scoped>\n",
       "    .dataframe tbody tr th:only-of-type {\n",
       "        vertical-align: middle;\n",
       "    }\n",
       "\n",
       "    .dataframe tbody tr th {\n",
       "        vertical-align: top;\n",
       "    }\n",
       "\n",
       "    .dataframe thead th {\n",
       "        text-align: right;\n",
       "    }\n",
       "</style>\n",
       "<table border=\"1\" class=\"dataframe\">\n",
       "  <thead>\n",
       "    <tr style=\"text-align: right;\">\n",
       "      <th></th>\n",
       "      <th>df_name</th>\n",
       "      <th>shape</th>\n",
       "    </tr>\n",
       "  </thead>\n",
       "  <tbody>\n",
       "    <tr>\n",
       "      <th>0</th>\n",
       "      <td>credit_card</td>\n",
       "      <td>(3698436, 21)</td>\n",
       "    </tr>\n",
       "    <tr>\n",
       "      <th>1</th>\n",
       "      <td>credit_card after feature</td>\n",
       "      <td>(3698436, 31)</td>\n",
       "    </tr>\n",
       "    <tr>\n",
       "      <th>2</th>\n",
       "      <td>latest_credit_limits</td>\n",
       "      <td>(103468,)</td>\n",
       "    </tr>\n",
       "    <tr>\n",
       "      <th>3</th>\n",
       "      <td>credit_card_agg</td>\n",
       "      <td>(103468, 16)</td>\n",
       "    </tr>\n",
       "    <tr>\n",
       "      <th>4</th>\n",
       "      <td>customer_1 / apptrain</td>\n",
       "      <td>(307511, 122)</td>\n",
       "    </tr>\n",
       "    <tr>\n",
       "      <th>5</th>\n",
       "      <td>customer_2 / apptest</td>\n",
       "      <td>(48744, 121)</td>\n",
       "    </tr>\n",
       "    <tr>\n",
       "      <th>6</th>\n",
       "      <td>customer_info</td>\n",
       "      <td>(356255, 19)</td>\n",
       "    </tr>\n",
       "    <tr>\n",
       "      <th>7</th>\n",
       "      <td>df_joined</td>\n",
       "      <td>(356076, 36)</td>\n",
       "    </tr>\n",
       "    <tr>\n",
       "      <th>8</th>\n",
       "      <td>installments_info</td>\n",
       "      <td>(13605401, 11)</td>\n",
       "    </tr>\n",
       "    <tr>\n",
       "      <th>9</th>\n",
       "      <td>latest_installment</td>\n",
       "      <td>(339587,)</td>\n",
       "    </tr>\n",
       "    <tr>\n",
       "      <th>10</th>\n",
       "      <td>installments_agg</td>\n",
       "      <td>(339587, 6)</td>\n",
       "    </tr>\n",
       "    <tr>\n",
       "      <th>11</th>\n",
       "      <td>df_joined</td>\n",
       "      <td>(339483, 41)</td>\n",
       "    </tr>\n",
       "    <tr>\n",
       "      <th>12</th>\n",
       "      <td>pos_cash</td>\n",
       "      <td>(10001358, 8)</td>\n",
       "    </tr>\n",
       "    <tr>\n",
       "      <th>13</th>\n",
       "      <td>pos_cash_agg</td>\n",
       "      <td>(337252, 2)</td>\n",
       "    </tr>\n",
       "    <tr>\n",
       "      <th>14</th>\n",
       "      <td>df_joined</td>\n",
       "      <td>(339483, 42)</td>\n",
       "    </tr>\n",
       "  </tbody>\n",
       "</table>\n",
       "</div>"
      ]
     },
     "execution_count": 92,
     "metadata": {},
     "output_type": "execute_result"
    }
   ],
   "execution_count": 92
  },
  {
   "cell_type": "markdown",
   "metadata": {},
   "source": [
    "#### A.6 Merge with previous application data"
   ]
  },
  {
   "cell_type": "code",
   "metadata": {
    "ExecuteTime": {
     "end_time": "2024-11-27T03:47:03.794654Z",
     "start_time": "2024-11-27T03:46:51.950129Z"
    }
   },
   "source": [
    "prev_app_info = (\n",
    "  pd.read_csv('./data/previous_application.csv')\n",
    "  .sort_values(by=['SK_ID_CURR'], ascending=[False])\n",
    ")"
   ],
   "outputs": [],
   "execution_count": 93
  },
  {
   "cell_type": "code",
   "metadata": {
    "ExecuteTime": {
     "end_time": "2024-11-27T03:48:35.997065Z",
     "start_time": "2024-11-27T03:48:35.613157Z"
    }
   },
   "source": [
    "prev_app_info['LESS_GRANTED'] = prev_app_info['AMT_APPLICATION'] > prev_app_info['AMT_CREDIT']\n",
    "prev_app_info['REJECTED'] = prev_app_info['NAME_CONTRACT_STATUS'] == 'Refused'"
   ],
   "outputs": [],
   "execution_count": 94
  },
  {
   "cell_type": "code",
   "metadata": {
    "ExecuteTime": {
     "end_time": "2024-11-27T03:48:42.653738Z",
     "start_time": "2024-11-27T03:48:36.532808Z"
    }
   },
   "source": [
    "prev_app_latest = (\n",
    "  prev_app_info\n",
    "  .sort_values(['SK_ID_CURR'],ascending=[False])\n",
    "  .groupby('SK_ID_CURR')\n",
    "  .last()['NAME_CONTRACT_TYPE']\n",
    ")"
   ],
   "outputs": [],
   "execution_count": 95
  },
  {
   "cell_type": "code",
   "metadata": {
    "ExecuteTime": {
     "end_time": "2024-11-27T03:48:46.487361Z",
     "start_time": "2024-11-27T03:48:46.365857Z"
    }
   },
   "source": [
    "prev_app_agg = (\n",
    "  prev_app_info\n",
    "  .groupby('SK_ID_CURR')\n",
    "  .agg({\n",
    "      'LESS_GRANTED': ['sum'],\n",
    "      'REJECTED': ['sum'],\n",
    "  })\n",
    "  .fillna(0)\n",
    "  .replace([np.inf, -np.inf], 0)\n",
    ")\n",
    "\n",
    "prev_app_agg.columns = [f'{col[0]}_{col[1]}' for col in prev_app_agg.columns]\n",
    "prev_app_agg = prev_app_agg.rename(columns={\n",
    "    'LESS_GRANTED_sum': 'LESS_GRANTED',\n",
    "    'REJECTED_sum': 'REJECTED_APPLICATIONS'\n",
    "})\n",
    "prev_app_agg = pd.merge(prev_app_agg, prev_app_latest, how='inner', left_index=True, right_index=True)\n",
    "prev_app_agg.drop(columns=['NAME_CONTRACT_TYPE'], inplace=True, axis=1)\n"
   ],
   "outputs": [],
   "execution_count": 96
  },
  {
   "cell_type": "code",
   "metadata": {
    "ExecuteTime": {
     "end_time": "2024-11-27T03:49:35.881520Z",
     "start_time": "2024-11-27T03:49:35.401226Z"
    }
   },
   "source": [
    "df_joined = pd.merge(df_joined, prev_app_agg, how='inner', on='SK_ID_CURR')"
   ],
   "outputs": [],
   "execution_count": 97
  },
  {
   "cell_type": "code",
   "source": [
    "df_info = df_info = pd.concat([df_info, pd.DataFrame({'df_name': ['prev_app_info'], 'shape': [prev_app_info.shape]})], ignore_index=True)\n",
    "df_info = df_info = pd.concat([df_info, pd.DataFrame({'df_name': ['prev_app_agg'], 'shape': [prev_app_agg.shape]})], ignore_index=True)\n",
    "df_info = df_info = pd.concat([df_info, pd.DataFrame({'df_name': ['df_joined'], 'shape': [df_joined.shape]})], ignore_index=True)\n",
    "df_info"
   ],
   "metadata": {
    "collapsed": false,
    "ExecuteTime": {
     "end_time": "2024-11-27T03:49:36.025583Z",
     "start_time": "2024-11-27T03:49:36.008789Z"
    }
   },
   "outputs": [
    {
     "data": {
      "text/plain": [
       "                      df_name           shape\n",
       "0                 credit_card   (3698436, 21)\n",
       "1   credit_card after feature   (3698436, 31)\n",
       "2        latest_credit_limits       (103468,)\n",
       "3             credit_card_agg    (103468, 16)\n",
       "4       customer_1 / apptrain   (307511, 122)\n",
       "5        customer_2 / apptest    (48744, 121)\n",
       "6               customer_info    (356255, 19)\n",
       "7                   df_joined    (356076, 36)\n",
       "8           installments_info  (13605401, 11)\n",
       "9          latest_installment       (339587,)\n",
       "10           installments_agg     (339587, 6)\n",
       "11                  df_joined    (339483, 41)\n",
       "12                   pos_cash   (10001358, 8)\n",
       "13               pos_cash_agg     (337252, 2)\n",
       "14                  df_joined    (339483, 42)\n",
       "15              prev_app_info   (1670214, 39)\n",
       "16               prev_app_agg     (338857, 2)\n",
       "17                  df_joined    (337691, 44)"
      ],
      "text/html": [
       "<div>\n",
       "<style scoped>\n",
       "    .dataframe tbody tr th:only-of-type {\n",
       "        vertical-align: middle;\n",
       "    }\n",
       "\n",
       "    .dataframe tbody tr th {\n",
       "        vertical-align: top;\n",
       "    }\n",
       "\n",
       "    .dataframe thead th {\n",
       "        text-align: right;\n",
       "    }\n",
       "</style>\n",
       "<table border=\"1\" class=\"dataframe\">\n",
       "  <thead>\n",
       "    <tr style=\"text-align: right;\">\n",
       "      <th></th>\n",
       "      <th>df_name</th>\n",
       "      <th>shape</th>\n",
       "    </tr>\n",
       "  </thead>\n",
       "  <tbody>\n",
       "    <tr>\n",
       "      <th>0</th>\n",
       "      <td>credit_card</td>\n",
       "      <td>(3698436, 21)</td>\n",
       "    </tr>\n",
       "    <tr>\n",
       "      <th>1</th>\n",
       "      <td>credit_card after feature</td>\n",
       "      <td>(3698436, 31)</td>\n",
       "    </tr>\n",
       "    <tr>\n",
       "      <th>2</th>\n",
       "      <td>latest_credit_limits</td>\n",
       "      <td>(103468,)</td>\n",
       "    </tr>\n",
       "    <tr>\n",
       "      <th>3</th>\n",
       "      <td>credit_card_agg</td>\n",
       "      <td>(103468, 16)</td>\n",
       "    </tr>\n",
       "    <tr>\n",
       "      <th>4</th>\n",
       "      <td>customer_1 / apptrain</td>\n",
       "      <td>(307511, 122)</td>\n",
       "    </tr>\n",
       "    <tr>\n",
       "      <th>5</th>\n",
       "      <td>customer_2 / apptest</td>\n",
       "      <td>(48744, 121)</td>\n",
       "    </tr>\n",
       "    <tr>\n",
       "      <th>6</th>\n",
       "      <td>customer_info</td>\n",
       "      <td>(356255, 19)</td>\n",
       "    </tr>\n",
       "    <tr>\n",
       "      <th>7</th>\n",
       "      <td>df_joined</td>\n",
       "      <td>(356076, 36)</td>\n",
       "    </tr>\n",
       "    <tr>\n",
       "      <th>8</th>\n",
       "      <td>installments_info</td>\n",
       "      <td>(13605401, 11)</td>\n",
       "    </tr>\n",
       "    <tr>\n",
       "      <th>9</th>\n",
       "      <td>latest_installment</td>\n",
       "      <td>(339587,)</td>\n",
       "    </tr>\n",
       "    <tr>\n",
       "      <th>10</th>\n",
       "      <td>installments_agg</td>\n",
       "      <td>(339587, 6)</td>\n",
       "    </tr>\n",
       "    <tr>\n",
       "      <th>11</th>\n",
       "      <td>df_joined</td>\n",
       "      <td>(339483, 41)</td>\n",
       "    </tr>\n",
       "    <tr>\n",
       "      <th>12</th>\n",
       "      <td>pos_cash</td>\n",
       "      <td>(10001358, 8)</td>\n",
       "    </tr>\n",
       "    <tr>\n",
       "      <th>13</th>\n",
       "      <td>pos_cash_agg</td>\n",
       "      <td>(337252, 2)</td>\n",
       "    </tr>\n",
       "    <tr>\n",
       "      <th>14</th>\n",
       "      <td>df_joined</td>\n",
       "      <td>(339483, 42)</td>\n",
       "    </tr>\n",
       "    <tr>\n",
       "      <th>15</th>\n",
       "      <td>prev_app_info</td>\n",
       "      <td>(1670214, 39)</td>\n",
       "    </tr>\n",
       "    <tr>\n",
       "      <th>16</th>\n",
       "      <td>prev_app_agg</td>\n",
       "      <td>(338857, 2)</td>\n",
       "    </tr>\n",
       "    <tr>\n",
       "      <th>17</th>\n",
       "      <td>df_joined</td>\n",
       "      <td>(337691, 44)</td>\n",
       "    </tr>\n",
       "  </tbody>\n",
       "</table>\n",
       "</div>"
      ]
     },
     "execution_count": 98,
     "metadata": {},
     "output_type": "execute_result"
    }
   ],
   "execution_count": 98
  },
  {
   "cell_type": "markdown",
   "metadata": {},
   "source": [
    "#### A.7 Merge with bureau data"
   ]
  },
  {
   "cell_type": "code",
   "metadata": {
    "ExecuteTime": {
     "end_time": "2024-11-27T03:49:44.154869Z",
     "start_time": "2024-11-27T03:49:39.966658Z"
    }
   },
   "source": [
    "bureau_info = (\n",
    "  pd.read_csv('./data/bureau.csv')\n",
    "  .sort_values(by=['SK_ID_CURR'], ascending=[False])\n",
    ")\n",
    "bureau_info[['AMT_CREDIT_SUM', 'AMT_CREDIT_SUM_DEBT', \n",
    "       'AMT_CREDIT_SUM_LIMIT', 'AMT_CREDIT_SUM_OVERDUE']] = bureau_info[['AMT_CREDIT_SUM', \n",
    "       'AMT_CREDIT_SUM_DEBT', 'AMT_CREDIT_SUM_LIMIT', 'AMT_CREDIT_SUM_OVERDUE']].fillna(0)"
   ],
   "outputs": [],
   "execution_count": 99
  },
  {
   "cell_type": "code",
   "source": [
    "bureau_info"
   ],
   "metadata": {
    "collapsed": false,
    "ExecuteTime": {
     "end_time": "2024-11-27T03:41:22.960147Z",
     "start_time": "2024-11-27T03:41:22.943273Z"
    }
   },
   "outputs": [
    {
     "data": {
      "text/plain": [
       "         SK_ID_CURR  SK_ID_BUREAU CREDIT_ACTIVE CREDIT_CURRENCY  DAYS_CREDIT  \\\n",
       "1010009      456255       5126333        Active      currency 1         -363   \n",
       "1010011      456255       5126335        Closed      currency 1        -1512   \n",
       "1010003      456255       5126327        Closed      currency 1        -1022   \n",
       "1010010      456255       5126334        Active      currency 1         -451   \n",
       "1010013      456255       5126337        Closed      currency 1        -2337   \n",
       "...             ...           ...           ...             ...          ...   \n",
       "248487       100001       5896633        Closed      currency 1        -1572   \n",
       "248488       100001       5896634        Active      currency 1         -559   \n",
       "248489       100001       5896635        Active      currency 1          -49   \n",
       "248490       100001       5896636        Active      currency 1         -320   \n",
       "248486       100001       5896632        Closed      currency 1         -879   \n",
       "\n",
       "         CREDIT_DAY_OVERDUE  DAYS_CREDIT_ENDDATE  DAYS_ENDDATE_FACT  \\\n",
       "1010009                   0               1463.0                NaN   \n",
       "1010011                   0                315.0             -781.0   \n",
       "1010003                   0               -959.0             -958.0   \n",
       "1010010                   0                279.0                NaN   \n",
       "1010013                   0              -1243.0            -1621.0   \n",
       "...                     ...                  ...                ...   \n",
       "248487                    0              -1329.0            -1328.0   \n",
       "248488                    0                902.0                NaN   \n",
       "248489                    0               1778.0                NaN   \n",
       "248490                    0                411.0                NaN   \n",
       "248486                    0               -514.0             -544.0   \n",
       "\n",
       "         AMT_CREDIT_MAX_OVERDUE  CNT_CREDIT_PROLONG  AMT_CREDIT_SUM  \\\n",
       "1010009                   0.000                   0        436032.0   \n",
       "1010011               25578.000                   0        900000.0   \n",
       "1010003                     NaN                   0         22995.0   \n",
       "1010010               15439.905                   0        450000.0   \n",
       "1010013               16618.500                   0        450000.0   \n",
       "...                         ...                 ...             ...   \n",
       "248487                      NaN                   0         85500.0   \n",
       "248488                      NaN                   0        337680.0   \n",
       "248489                      NaN                   0        378000.0   \n",
       "248490                      NaN                   0        168345.0   \n",
       "248486                      NaN                   0         91620.0   \n",
       "\n",
       "         AMT_CREDIT_SUM_DEBT  AMT_CREDIT_SUM_LIMIT  AMT_CREDIT_SUM_OVERDUE  \\\n",
       "1010009            363573.54                   0.0                     0.0   \n",
       "1010011                 0.00                   0.0                     0.0   \n",
       "1010003                 0.00                   0.0                     0.0   \n",
       "1010010            191005.47                   0.0                     0.0   \n",
       "1010013                 0.00                   0.0                     0.0   \n",
       "...                      ...                   ...                     ...   \n",
       "248487                  0.00                   0.0                     0.0   \n",
       "248488             113166.00                   0.0                     0.0   \n",
       "248489             373239.00                   0.0                     0.0   \n",
       "248490             110281.50                   0.0                     0.0   \n",
       "248486                  0.00                   0.0                     0.0   \n",
       "\n",
       "             CREDIT_TYPE  DAYS_CREDIT_UPDATE  AMT_ANNUITY  \n",
       "1010009  Consumer credit                 -25          0.0  \n",
       "1010011  Consumer credit                -781          0.0  \n",
       "1010003  Consumer credit                -890          0.0  \n",
       "1010010  Consumer credit                 -55       3244.5  \n",
       "1010013  Consumer credit               -1621          0.0  \n",
       "...                  ...                 ...          ...  \n",
       "248487   Consumer credit                -155          0.0  \n",
       "248488   Consumer credit                  -6       4630.5  \n",
       "248489   Consumer credit                 -16      10822.5  \n",
       "248490   Consumer credit                 -10       9364.5  \n",
       "248486   Consumer credit                -155          0.0  \n",
       "\n",
       "[1716428 rows x 17 columns]"
      ],
      "text/html": [
       "<div>\n",
       "<style scoped>\n",
       "    .dataframe tbody tr th:only-of-type {\n",
       "        vertical-align: middle;\n",
       "    }\n",
       "\n",
       "    .dataframe tbody tr th {\n",
       "        vertical-align: top;\n",
       "    }\n",
       "\n",
       "    .dataframe thead th {\n",
       "        text-align: right;\n",
       "    }\n",
       "</style>\n",
       "<table border=\"1\" class=\"dataframe\">\n",
       "  <thead>\n",
       "    <tr style=\"text-align: right;\">\n",
       "      <th></th>\n",
       "      <th>SK_ID_CURR</th>\n",
       "      <th>SK_ID_BUREAU</th>\n",
       "      <th>CREDIT_ACTIVE</th>\n",
       "      <th>CREDIT_CURRENCY</th>\n",
       "      <th>DAYS_CREDIT</th>\n",
       "      <th>CREDIT_DAY_OVERDUE</th>\n",
       "      <th>DAYS_CREDIT_ENDDATE</th>\n",
       "      <th>DAYS_ENDDATE_FACT</th>\n",
       "      <th>AMT_CREDIT_MAX_OVERDUE</th>\n",
       "      <th>CNT_CREDIT_PROLONG</th>\n",
       "      <th>AMT_CREDIT_SUM</th>\n",
       "      <th>AMT_CREDIT_SUM_DEBT</th>\n",
       "      <th>AMT_CREDIT_SUM_LIMIT</th>\n",
       "      <th>AMT_CREDIT_SUM_OVERDUE</th>\n",
       "      <th>CREDIT_TYPE</th>\n",
       "      <th>DAYS_CREDIT_UPDATE</th>\n",
       "      <th>AMT_ANNUITY</th>\n",
       "    </tr>\n",
       "  </thead>\n",
       "  <tbody>\n",
       "    <tr>\n",
       "      <th>1010009</th>\n",
       "      <td>456255</td>\n",
       "      <td>5126333</td>\n",
       "      <td>Active</td>\n",
       "      <td>currency 1</td>\n",
       "      <td>-363</td>\n",
       "      <td>0</td>\n",
       "      <td>1463.0</td>\n",
       "      <td>NaN</td>\n",
       "      <td>0.000</td>\n",
       "      <td>0</td>\n",
       "      <td>436032.0</td>\n",
       "      <td>363573.54</td>\n",
       "      <td>0.0</td>\n",
       "      <td>0.0</td>\n",
       "      <td>Consumer credit</td>\n",
       "      <td>-25</td>\n",
       "      <td>0.0</td>\n",
       "    </tr>\n",
       "    <tr>\n",
       "      <th>1010011</th>\n",
       "      <td>456255</td>\n",
       "      <td>5126335</td>\n",
       "      <td>Closed</td>\n",
       "      <td>currency 1</td>\n",
       "      <td>-1512</td>\n",
       "      <td>0</td>\n",
       "      <td>315.0</td>\n",
       "      <td>-781.0</td>\n",
       "      <td>25578.000</td>\n",
       "      <td>0</td>\n",
       "      <td>900000.0</td>\n",
       "      <td>0.00</td>\n",
       "      <td>0.0</td>\n",
       "      <td>0.0</td>\n",
       "      <td>Consumer credit</td>\n",
       "      <td>-781</td>\n",
       "      <td>0.0</td>\n",
       "    </tr>\n",
       "    <tr>\n",
       "      <th>1010003</th>\n",
       "      <td>456255</td>\n",
       "      <td>5126327</td>\n",
       "      <td>Closed</td>\n",
       "      <td>currency 1</td>\n",
       "      <td>-1022</td>\n",
       "      <td>0</td>\n",
       "      <td>-959.0</td>\n",
       "      <td>-958.0</td>\n",
       "      <td>NaN</td>\n",
       "      <td>0</td>\n",
       "      <td>22995.0</td>\n",
       "      <td>0.00</td>\n",
       "      <td>0.0</td>\n",
       "      <td>0.0</td>\n",
       "      <td>Consumer credit</td>\n",
       "      <td>-890</td>\n",
       "      <td>0.0</td>\n",
       "    </tr>\n",
       "    <tr>\n",
       "      <th>1010010</th>\n",
       "      <td>456255</td>\n",
       "      <td>5126334</td>\n",
       "      <td>Active</td>\n",
       "      <td>currency 1</td>\n",
       "      <td>-451</td>\n",
       "      <td>0</td>\n",
       "      <td>279.0</td>\n",
       "      <td>NaN</td>\n",
       "      <td>15439.905</td>\n",
       "      <td>0</td>\n",
       "      <td>450000.0</td>\n",
       "      <td>191005.47</td>\n",
       "      <td>0.0</td>\n",
       "      <td>0.0</td>\n",
       "      <td>Consumer credit</td>\n",
       "      <td>-55</td>\n",
       "      <td>3244.5</td>\n",
       "    </tr>\n",
       "    <tr>\n",
       "      <th>1010013</th>\n",
       "      <td>456255</td>\n",
       "      <td>5126337</td>\n",
       "      <td>Closed</td>\n",
       "      <td>currency 1</td>\n",
       "      <td>-2337</td>\n",
       "      <td>0</td>\n",
       "      <td>-1243.0</td>\n",
       "      <td>-1621.0</td>\n",
       "      <td>16618.500</td>\n",
       "      <td>0</td>\n",
       "      <td>450000.0</td>\n",
       "      <td>0.00</td>\n",
       "      <td>0.0</td>\n",
       "      <td>0.0</td>\n",
       "      <td>Consumer credit</td>\n",
       "      <td>-1621</td>\n",
       "      <td>0.0</td>\n",
       "    </tr>\n",
       "    <tr>\n",
       "      <th>...</th>\n",
       "      <td>...</td>\n",
       "      <td>...</td>\n",
       "      <td>...</td>\n",
       "      <td>...</td>\n",
       "      <td>...</td>\n",
       "      <td>...</td>\n",
       "      <td>...</td>\n",
       "      <td>...</td>\n",
       "      <td>...</td>\n",
       "      <td>...</td>\n",
       "      <td>...</td>\n",
       "      <td>...</td>\n",
       "      <td>...</td>\n",
       "      <td>...</td>\n",
       "      <td>...</td>\n",
       "      <td>...</td>\n",
       "      <td>...</td>\n",
       "    </tr>\n",
       "    <tr>\n",
       "      <th>248487</th>\n",
       "      <td>100001</td>\n",
       "      <td>5896633</td>\n",
       "      <td>Closed</td>\n",
       "      <td>currency 1</td>\n",
       "      <td>-1572</td>\n",
       "      <td>0</td>\n",
       "      <td>-1329.0</td>\n",
       "      <td>-1328.0</td>\n",
       "      <td>NaN</td>\n",
       "      <td>0</td>\n",
       "      <td>85500.0</td>\n",
       "      <td>0.00</td>\n",
       "      <td>0.0</td>\n",
       "      <td>0.0</td>\n",
       "      <td>Consumer credit</td>\n",
       "      <td>-155</td>\n",
       "      <td>0.0</td>\n",
       "    </tr>\n",
       "    <tr>\n",
       "      <th>248488</th>\n",
       "      <td>100001</td>\n",
       "      <td>5896634</td>\n",
       "      <td>Active</td>\n",
       "      <td>currency 1</td>\n",
       "      <td>-559</td>\n",
       "      <td>0</td>\n",
       "      <td>902.0</td>\n",
       "      <td>NaN</td>\n",
       "      <td>NaN</td>\n",
       "      <td>0</td>\n",
       "      <td>337680.0</td>\n",
       "      <td>113166.00</td>\n",
       "      <td>0.0</td>\n",
       "      <td>0.0</td>\n",
       "      <td>Consumer credit</td>\n",
       "      <td>-6</td>\n",
       "      <td>4630.5</td>\n",
       "    </tr>\n",
       "    <tr>\n",
       "      <th>248489</th>\n",
       "      <td>100001</td>\n",
       "      <td>5896635</td>\n",
       "      <td>Active</td>\n",
       "      <td>currency 1</td>\n",
       "      <td>-49</td>\n",
       "      <td>0</td>\n",
       "      <td>1778.0</td>\n",
       "      <td>NaN</td>\n",
       "      <td>NaN</td>\n",
       "      <td>0</td>\n",
       "      <td>378000.0</td>\n",
       "      <td>373239.00</td>\n",
       "      <td>0.0</td>\n",
       "      <td>0.0</td>\n",
       "      <td>Consumer credit</td>\n",
       "      <td>-16</td>\n",
       "      <td>10822.5</td>\n",
       "    </tr>\n",
       "    <tr>\n",
       "      <th>248490</th>\n",
       "      <td>100001</td>\n",
       "      <td>5896636</td>\n",
       "      <td>Active</td>\n",
       "      <td>currency 1</td>\n",
       "      <td>-320</td>\n",
       "      <td>0</td>\n",
       "      <td>411.0</td>\n",
       "      <td>NaN</td>\n",
       "      <td>NaN</td>\n",
       "      <td>0</td>\n",
       "      <td>168345.0</td>\n",
       "      <td>110281.50</td>\n",
       "      <td>0.0</td>\n",
       "      <td>0.0</td>\n",
       "      <td>Consumer credit</td>\n",
       "      <td>-10</td>\n",
       "      <td>9364.5</td>\n",
       "    </tr>\n",
       "    <tr>\n",
       "      <th>248486</th>\n",
       "      <td>100001</td>\n",
       "      <td>5896632</td>\n",
       "      <td>Closed</td>\n",
       "      <td>currency 1</td>\n",
       "      <td>-879</td>\n",
       "      <td>0</td>\n",
       "      <td>-514.0</td>\n",
       "      <td>-544.0</td>\n",
       "      <td>NaN</td>\n",
       "      <td>0</td>\n",
       "      <td>91620.0</td>\n",
       "      <td>0.00</td>\n",
       "      <td>0.0</td>\n",
       "      <td>0.0</td>\n",
       "      <td>Consumer credit</td>\n",
       "      <td>-155</td>\n",
       "      <td>0.0</td>\n",
       "    </tr>\n",
       "  </tbody>\n",
       "</table>\n",
       "<p>1716428 rows × 17 columns</p>\n",
       "</div>"
      ]
     },
     "execution_count": 47,
     "metadata": {},
     "output_type": "execute_result"
    }
   ],
   "execution_count": 47
  },
  {
   "cell_type": "code",
   "metadata": {
    "ExecuteTime": {
     "end_time": "2024-11-27T03:41:22.983431Z",
     "start_time": "2024-11-27T03:41:22.961894Z"
    }
   },
   "source": [
    "bureau_info['AMT_CREDIT_SUM_DEBT'] = bureau_info['AMT_CREDIT_SUM_DEBT'].fillna(0)\n",
    "bureau_info['AMT_CREDIT_MAX_OVERDUE'] = bureau_info['AMT_CREDIT_MAX_OVERDUE'].fillna(0)"
   ],
   "outputs": [],
   "execution_count": 48
  },
  {
   "cell_type": "code",
   "metadata": {
    "ExecuteTime": {
     "end_time": "2024-11-27T03:41:23.666655Z",
     "start_time": "2024-11-27T03:41:22.984524Z"
    }
   },
   "source": [
    "bureau_latest = (\n",
    "  bureau_info\n",
    "  .sort_values(['SK_ID_CURR'],ascending=[False])\n",
    "  .groupby('SK_ID_CURR')\n",
    "  .last()['CREDIT_ACTIVE']\n",
    ")\n",
    "\n",
    "bureau_agg = (\n",
    "  bureau_info\n",
    "  .groupby('SK_ID_CURR')\n",
    "  .agg({\n",
    "      'AMT_CREDIT_SUM': ['sum'],\n",
    "      'AMT_CREDIT_SUM_DEBT': ['sum'],\n",
    "      'AMT_CREDIT_SUM_LIMIT': ['sum'],\n",
    "      'AMT_CREDIT_SUM_OVERDUE': ['sum'],\n",
    "  })\n",
    "  .fillna(0)\n",
    "  .replace([np.inf, -np.inf], 0)\n",
    ")\n",
    "\n",
    "# Check for columns with missing values\n",
    "bureau_agg.columns = [f'{col[0]}_{col[1]}' for col in bureau_agg.columns]\n",
    "bureau_agg = bureau_agg.rename(columns={\n",
    "    'AMT_CREDIT_SUM_sum': 'AMT_CREDIT_SUM_TOTAL',\n",
    "    'AMT_CREDIT_SUM_DEBT_sum': 'AMT_CREDIT_SUM_DEBT_TOTAL',\n",
    "    'AMT_CREDIT_SUM_LIMIT_sum': 'AMT_CREDIT_SUM_LIMIT_TOTAL',\n",
    "    'AMT_CREDIT_SUM_OVERDUE_sum': 'AMT_CREDIT_SUM_OVERDUE_TOTAL',\n",
    "})\n",
    "\n",
    "# bureau_agg.drop(columns=['CREDIT_ACTIVE'], inplace=True, axis=1)\n",
    "bureau_agg[['AMT_CREDIT_SUM_TOTAL', 'AMT_CREDIT_SUM_DEBT_TOTAL', \n",
    "            'AMT_CREDIT_SUM_LIMIT_TOTAL', 'AMT_CREDIT_SUM_OVERDUE_TOTAL']] = bureau_agg[['AMT_CREDIT_SUM_TOTAL', \n",
    "            'AMT_CREDIT_SUM_DEBT_TOTAL', 'AMT_CREDIT_SUM_LIMIT_TOTAL', 'AMT_CREDIT_SUM_OVERDUE_TOTAL']].fillna(0)\n",
    "\n",
    "# Check for columns with missing values"
   ],
   "outputs": [],
   "execution_count": 49
  },
  {
   "cell_type": "code",
   "metadata": {
    "ExecuteTime": {
     "end_time": "2024-11-27T03:41:31.109779Z",
     "start_time": "2024-11-27T03:41:30.929259Z"
    }
   },
   "source": [
    "df_joined = pd.merge(df_joined, bureau_agg, how='inner', on='SK_ID_CURR')"
   ],
   "outputs": [],
   "execution_count": 50
  },
  {
   "cell_type": "code",
   "source": [
    "#df_joined['debt_to_income_ratio'] = df_joined['AMT_CREDIT_SUM_DEBT_TOTAL'] / df_joined['AMT_INCOME_TOTAL']\n",
    "#df_joined['credit_utilization_ratio'] = df_joined['AMT_CREDIT_SUM_DEBT_TOTAL'] / df_joined['AMT_CREDIT_SUM_LIMIT_TOTAL']\n",
    "#df_joined['income_per_family_member'] = df_joined['AMT_INCOME_TOTAL'] / df_joined['CNT_FAM_MEMBERS']"
   ],
   "metadata": {
    "collapsed": false,
    "ExecuteTime": {
     "end_time": "2024-11-27T03:41:31.113384Z",
     "start_time": "2024-11-27T03:41:31.111650Z"
    }
   },
   "outputs": [],
   "execution_count": 51
  },
  {
   "cell_type": "code",
   "metadata": {
    "ExecuteTime": {
     "end_time": "2024-11-27T03:41:31.158275Z",
     "start_time": "2024-11-27T03:41:31.114301Z"
    }
   },
   "source": [
    "# Check for columns with missing values\n",
    "na_columns = df_joined.columns[df_joined.isna().any()].tolist()\n",
    "print(\"Columns with missing values:\", na_columns)"
   ],
   "outputs": [
    {
     "name": "stdout",
     "output_type": "stream",
     "text": [
      "Columns with missing values: ['OCCUPATION_TYPE', 'Tenure_Months', 'Avg_Monthly_Balance', 'Avg_Monthly_Utilization', 'Max_Monthly_Utilization', 'Pct_Txns_Fully_Paid', 'Months_Fully_Paid', 'Pct_Txns_Minimum_Paid', 'Months_Minimum_Paid', 'Payment_MinPayment_Ratio_mean', 'Avg_AMT_Other_Ratio', 'Avg_AMT_ATM_Ratio', 'Avg_AMT_POS_Ratio', 'Avg_CNT_Other_Ratio', 'Avg_CNT_ATM_Ratio', 'Avg_CNT_POS_Ratio', 'AMT_CREDIT_LIMIT_ACTUAL', 'CODE_GENDER_M', 'credit_limit_income_ratio']\n"
     ]
    }
   ],
   "execution_count": 52
  },
  {
   "cell_type": "code",
   "metadata": {
    "ExecuteTime": {
     "end_time": "2024-11-27T03:41:31.165437Z",
     "start_time": "2024-11-27T03:41:31.158919Z"
    }
   },
   "source": [
    "minority_ratio = df_joined['W_DEFAULT'].value_counts()[1] / \\\n",
    "    df_joined['W_DEFAULT'].value_counts()[0]\n",
    "\n",
    "print(f\"Ratio of minority class to majority: {minority_ratio:.2f}\")"
   ],
   "outputs": [
    {
     "name": "stdout",
     "output_type": "stream",
     "text": [
      "Ratio of minority class to majority: 0.07\n"
     ]
    }
   ],
   "execution_count": 53
  },
  {
   "cell_type": "code",
   "metadata": {
    "ExecuteTime": {
     "end_time": "2024-11-27T03:41:43.082629Z",
     "start_time": "2024-11-27T03:41:42.469503Z"
    }
   },
   "source": [
    "sns.countplot(data = df_joined, x = 'W_DEFAULT')"
   ],
   "outputs": [
    {
     "data": {
      "text/plain": [
       "<Axes: xlabel='W_DEFAULT', ylabel='count'>"
      ]
     },
     "execution_count": 54,
     "metadata": {},
     "output_type": "execute_result"
    },
    {
     "data": {
      "text/plain": [
       "<Figure size 800x600 with 1 Axes>"
      ],
      "image/png": "[encoded data removed]"
     },
     "metadata": {},
     "output_type": "display_data"
    }
   ],
   "execution_count": 54
  },
  {
   "cell_type": "code",
   "metadata": {
    "ExecuteTime": {
     "end_time": "2024-11-27T03:41:45.672183Z",
     "start_time": "2024-11-27T03:41:45.648098Z"
    }
   },
   "source": [
    "df_joined.head()"
   ],
   "outputs": [
    {
     "data": {
      "text/plain": [
       "   SK_ID_CURR  W_DEFAULT  FLAG_OWN_CAR  FLAG_OWN_REALTY  CNT_CHILDREN  \\\n",
       "0      100002        1.0             0                1             0   \n",
       "1      100001        0.0             0                1             0   \n",
       "2      100005        0.0             0                1             0   \n",
       "3      100003        0.0             0                0             0   \n",
       "4      100004        0.0             1                1             0   \n",
       "\n",
       "   AMT_INCOME_TOTAL NAME_INCOME_TYPE            NAME_EDUCATION_TYPE  \\\n",
       "0          202500.0          Working  Secondary / secondary special   \n",
       "1          135000.0          Working               Higher education   \n",
       "2           99000.0          Working  Secondary / secondary special   \n",
       "3          270000.0    State servant               Higher education   \n",
       "4           67500.0          Working  Secondary / secondary special   \n",
       "\n",
       "     NAME_FAMILY_STATUS  NAME_HOUSING_TYPE  ...  AMT_LESS_MAX  DAYS_LATE_AVG  \\\n",
       "0  Single / not married  House / apartment  ...           0.0      20.421053   \n",
       "1               Married  House / apartment  ...           0.0       8.857143   \n",
       "2               Married  House / apartment  ...           0.0      23.666667   \n",
       "3               Married  House / apartment  ...           0.0       7.160000   \n",
       "4  Single / not married  House / apartment  ...           0.0       7.666667   \n",
       "\n",
       "  DAYS_LATE_MAX  SK_DPD_DEF  LESS_GRANTED  REJECTED_APPLICATIONS  \\\n",
       "0          31.0         0.0             0                      0   \n",
       "1          36.0         7.0             1                      0   \n",
       "2          37.0         0.0             1                      0   \n",
       "3          14.0         0.0             1                      0   \n",
       "4          11.0         0.0             1                      0   \n",
       "\n",
       "   AMT_CREDIT_SUM_TOTAL  AMT_CREDIT_SUM_DEBT_TOTAL  \\\n",
       "0            865055.565                   245781.0   \n",
       "1           1453365.000                   596686.5   \n",
       "2            657126.000                   568408.5   \n",
       "3           1017400.500                        0.0   \n",
       "4            189037.800                        0.0   \n",
       "\n",
       "   AMT_CREDIT_SUM_LIMIT_TOTAL  AMT_CREDIT_SUM_OVERDUE_TOTAL  \n",
       "0                   31988.565                           0.0  \n",
       "1                       0.000                           0.0  \n",
       "2                       0.000                           0.0  \n",
       "3                  810000.000                           0.0  \n",
       "4                       0.000                           0.0  \n",
       "\n",
       "[5 rows x 48 columns]"
      ],
      "text/html": [
       "<div>\n",
       "<style scoped>\n",
       "    .dataframe tbody tr th:only-of-type {\n",
       "        vertical-align: middle;\n",
       "    }\n",
       "\n",
       "    .dataframe tbody tr th {\n",
       "        vertical-align: top;\n",
       "    }\n",
       "\n",
       "    .dataframe thead th {\n",
       "        text-align: right;\n",
       "    }\n",
       "</style>\n",
       "<table border=\"1\" class=\"dataframe\">\n",
       "  <thead>\n",
       "    <tr style=\"text-align: right;\">\n",
       "      <th></th>\n",
       "      <th>SK_ID_CURR</th>\n",
       "      <th>W_DEFAULT</th>\n",
       "      <th>FLAG_OWN_CAR</th>\n",
       "      <th>FLAG_OWN_REALTY</th>\n",
       "      <th>CNT_CHILDREN</th>\n",
       "      <th>AMT_INCOME_TOTAL</th>\n",
       "      <th>NAME_INCOME_TYPE</th>\n",
       "      <th>NAME_EDUCATION_TYPE</th>\n",
       "      <th>NAME_FAMILY_STATUS</th>\n",
       "      <th>NAME_HOUSING_TYPE</th>\n",
       "      <th>...</th>\n",
       "      <th>AMT_LESS_MAX</th>\n",
       "      <th>DAYS_LATE_AVG</th>\n",
       "      <th>DAYS_LATE_MAX</th>\n",
       "      <th>SK_DPD_DEF</th>\n",
       "      <th>LESS_GRANTED</th>\n",
       "      <th>REJECTED_APPLICATIONS</th>\n",
       "      <th>AMT_CREDIT_SUM_TOTAL</th>\n",
       "      <th>AMT_CREDIT_SUM_DEBT_TOTAL</th>\n",
       "      <th>AMT_CREDIT_SUM_LIMIT_TOTAL</th>\n",
       "      <th>AMT_CREDIT_SUM_OVERDUE_TOTAL</th>\n",
       "    </tr>\n",
       "  </thead>\n",
       "  <tbody>\n",
       "    <tr>\n",
       "      <th>0</th>\n",
       "      <td>100002</td>\n",
       "      <td>1.0</td>\n",
       "      <td>0</td>\n",
       "      <td>1</td>\n",
       "      <td>0</td>\n",
       "      <td>202500.0</td>\n",
       "      <td>Working</td>\n",
       "      <td>Secondary / secondary special</td>\n",
       "      <td>Single / not married</td>\n",
       "      <td>House / apartment</td>\n",
       "      <td>...</td>\n",
       "      <td>0.0</td>\n",
       "      <td>20.421053</td>\n",
       "      <td>31.0</td>\n",
       "      <td>0.0</td>\n",
       "      <td>0</td>\n",
       "      <td>0</td>\n",
       "      <td>865055.565</td>\n",
       "      <td>245781.0</td>\n",
       "      <td>31988.565</td>\n",
       "      <td>0.0</td>\n",
       "    </tr>\n",
       "    <tr>\n",
       "      <th>1</th>\n",
       "      <td>100001</td>\n",
       "      <td>0.0</td>\n",
       "      <td>0</td>\n",
       "      <td>1</td>\n",
       "      <td>0</td>\n",
       "      <td>135000.0</td>\n",
       "      <td>Working</td>\n",
       "      <td>Higher education</td>\n",
       "      <td>Married</td>\n",
       "      <td>House / apartment</td>\n",
       "      <td>...</td>\n",
       "      <td>0.0</td>\n",
       "      <td>8.857143</td>\n",
       "      <td>36.0</td>\n",
       "      <td>7.0</td>\n",
       "      <td>1</td>\n",
       "      <td>0</td>\n",
       "      <td>1453365.000</td>\n",
       "      <td>596686.5</td>\n",
       "      <td>0.000</td>\n",
       "      <td>0.0</td>\n",
       "    </tr>\n",
       "    <tr>\n",
       "      <th>2</th>\n",
       "      <td>100005</td>\n",
       "      <td>0.0</td>\n",
       "      <td>0</td>\n",
       "      <td>1</td>\n",
       "      <td>0</td>\n",
       "      <td>99000.0</td>\n",
       "      <td>Working</td>\n",
       "      <td>Secondary / secondary special</td>\n",
       "      <td>Married</td>\n",
       "      <td>House / apartment</td>\n",
       "      <td>...</td>\n",
       "      <td>0.0</td>\n",
       "      <td>23.666667</td>\n",
       "      <td>37.0</td>\n",
       "      <td>0.0</td>\n",
       "      <td>1</td>\n",
       "      <td>0</td>\n",
       "      <td>657126.000</td>\n",
       "      <td>568408.5</td>\n",
       "      <td>0.000</td>\n",
       "      <td>0.0</td>\n",
       "    </tr>\n",
       "    <tr>\n",
       "      <th>3</th>\n",
       "      <td>100003</td>\n",
       "      <td>0.0</td>\n",
       "      <td>0</td>\n",
       "      <td>0</td>\n",
       "      <td>0</td>\n",
       "      <td>270000.0</td>\n",
       "      <td>State servant</td>\n",
       "      <td>Higher education</td>\n",
       "      <td>Married</td>\n",
       "      <td>House / apartment</td>\n",
       "      <td>...</td>\n",
       "      <td>0.0</td>\n",
       "      <td>7.160000</td>\n",
       "      <td>14.0</td>\n",
       "      <td>0.0</td>\n",
       "      <td>1</td>\n",
       "      <td>0</td>\n",
       "      <td>1017400.500</td>\n",
       "      <td>0.0</td>\n",
       "      <td>810000.000</td>\n",
       "      <td>0.0</td>\n",
       "    </tr>\n",
       "    <tr>\n",
       "      <th>4</th>\n",
       "      <td>100004</td>\n",
       "      <td>0.0</td>\n",
       "      <td>1</td>\n",
       "      <td>1</td>\n",
       "      <td>0</td>\n",
       "      <td>67500.0</td>\n",
       "      <td>Working</td>\n",
       "      <td>Secondary / secondary special</td>\n",
       "      <td>Single / not married</td>\n",
       "      <td>House / apartment</td>\n",
       "      <td>...</td>\n",
       "      <td>0.0</td>\n",
       "      <td>7.666667</td>\n",
       "      <td>11.0</td>\n",
       "      <td>0.0</td>\n",
       "      <td>1</td>\n",
       "      <td>0</td>\n",
       "      <td>189037.800</td>\n",
       "      <td>0.0</td>\n",
       "      <td>0.000</td>\n",
       "      <td>0.0</td>\n",
       "    </tr>\n",
       "  </tbody>\n",
       "</table>\n",
       "<p>5 rows × 48 columns</p>\n",
       "</div>"
      ]
     },
     "execution_count": 55,
     "metadata": {},
     "output_type": "execute_result"
    }
   ],
   "execution_count": 55
  },
  {
   "cell_type": "code",
   "source": [
    "df_info = df_info = pd.concat([df_info, pd.DataFrame({'df_name': ['bureau_info'], 'shape': [bureau_info.shape]})], ignore_index=True)\n",
    "df_info = df_info = pd.concat([df_info, pd.DataFrame({'df_name': ['bureau_latest'], 'shape': [bureau_latest.shape]})], ignore_index=True)\n",
    "df_info = df_info = pd.concat([df_info, pd.DataFrame({'df_name': ['bureau_agg'], 'shape': [bureau_agg.shape]})], ignore_index=True)\n",
    "df_info = df_info = pd.concat([df_info, pd.DataFrame({'df_name': ['df_joined'], 'shape': [df_joined.shape]})], ignore_index=True)\n",
    "df_info"
   ],
   "metadata": {
    "collapsed": false,
    "ExecuteTime": {
     "end_time": "2024-11-27T03:41:48.624734Z",
     "start_time": "2024-11-27T03:41:48.606718Z"
    }
   },
   "outputs": [
    {
     "data": {
      "text/plain": [
       "                      df_name           shape\n",
       "0                 credit_card   (3698436, 21)\n",
       "1   credit_card after feature   (3698436, 31)\n",
       "2        latest_credit_limits       (103468,)\n",
       "3             credit_card_agg    (103468, 16)\n",
       "4       customer_1 / apptrain   (307511, 122)\n",
       "5        customer_2 / apptest    (48744, 121)\n",
       "6               customer_info    (356255, 19)\n",
       "7                   df_joined    (356076, 36)\n",
       "8           installments_info  (13605401, 11)\n",
       "9          latest_installment       (339587,)\n",
       "10           installments_agg     (339587, 6)\n",
       "11                  df_joined    (339483, 41)\n",
       "12                   pos_cash   (10001358, 8)\n",
       "13               pos_cash_agg     (337252, 2)\n",
       "14                  df_joined    (339483, 42)\n",
       "15                   pos_cash   (10001358, 8)\n",
       "16               pos_cash_agg     (337252, 2)\n",
       "17                  df_joined    (339483, 42)\n",
       "18              prev_app_info   (1670214, 39)\n",
       "19               prev_app_agg     (338857, 2)\n",
       "20                  df_joined    (337691, 44)\n",
       "21                bureau_info   (1716428, 17)\n",
       "22              bureau_latest       (305811,)\n",
       "23                 bureau_agg     (305811, 4)\n",
       "24                  df_joined    (290154, 48)"
      ],
      "text/html": [
       "<div>\n",
       "<style scoped>\n",
       "    .dataframe tbody tr th:only-of-type {\n",
       "        vertical-align: middle;\n",
       "    }\n",
       "\n",
       "    .dataframe tbody tr th {\n",
       "        vertical-align: top;\n",
       "    }\n",
       "\n",
       "    .dataframe thead th {\n",
       "        text-align: right;\n",
       "    }\n",
       "</style>\n",
       "<table border=\"1\" class=\"dataframe\">\n",
       "  <thead>\n",
       "    <tr style=\"text-align: right;\">\n",
       "      <th></th>\n",
       "      <th>df_name</th>\n",
       "      <th>shape</th>\n",
       "    </tr>\n",
       "  </thead>\n",
       "  <tbody>\n",
       "    <tr>\n",
       "      <th>0</th>\n",
       "      <td>credit_card</td>\n",
       "      <td>(3698436, 21)</td>\n",
       "    </tr>\n",
       "    <tr>\n",
       "      <th>1</th>\n",
       "      <td>credit_card after feature</td>\n",
       "      <td>(3698436, 31)</td>\n",
       "    </tr>\n",
       "    <tr>\n",
       "      <th>2</th>\n",
       "      <td>latest_credit_limits</td>\n",
       "      <td>(103468,)</td>\n",
       "    </tr>\n",
       "    <tr>\n",
       "      <th>3</th>\n",
       "      <td>credit_card_agg</td>\n",
       "      <td>(103468, 16)</td>\n",
       "    </tr>\n",
       "    <tr>\n",
       "      <th>4</th>\n",
       "      <td>customer_1 / apptrain</td>\n",
       "      <td>(307511, 122)</td>\n",
       "    </tr>\n",
       "    <tr>\n",
       "      <th>5</th>\n",
       "      <td>customer_2 / apptest</td>\n",
       "      <td>(48744, 121)</td>\n",
       "    </tr>\n",
       "    <tr>\n",
       "      <th>6</th>\n",
       "      <td>customer_info</td>\n",
       "      <td>(356255, 19)</td>\n",
       "    </tr>\n",
       "    <tr>\n",
       "      <th>7</th>\n",
       "      <td>df_joined</td>\n",
       "      <td>(356076, 36)</td>\n",
       "    </tr>\n",
       "    <tr>\n",
       "      <th>8</th>\n",
       "      <td>installments_info</td>\n",
       "      <td>(13605401, 11)</td>\n",
       "    </tr>\n",
       "    <tr>\n",
       "      <th>9</th>\n",
       "      <td>latest_installment</td>\n",
       "      <td>(339587,)</td>\n",
       "    </tr>\n",
       "    <tr>\n",
       "      <th>10</th>\n",
       "      <td>installments_agg</td>\n",
       "      <td>(339587, 6)</td>\n",
       "    </tr>\n",
       "    <tr>\n",
       "      <th>11</th>\n",
       "      <td>df_joined</td>\n",
       "      <td>(339483, 41)</td>\n",
       "    </tr>\n",
       "    <tr>\n",
       "      <th>12</th>\n",
       "      <td>pos_cash</td>\n",
       "      <td>(10001358, 8)</td>\n",
       "    </tr>\n",
       "    <tr>\n",
       "      <th>13</th>\n",
       "      <td>pos_cash_agg</td>\n",
       "      <td>(337252, 2)</td>\n",
       "    </tr>\n",
       "    <tr>\n",
       "      <th>14</th>\n",
       "      <td>df_joined</td>\n",
       "      <td>(339483, 42)</td>\n",
       "    </tr>\n",
       "    <tr>\n",
       "      <th>15</th>\n",
       "      <td>pos_cash</td>\n",
       "      <td>(10001358, 8)</td>\n",
       "    </tr>\n",
       "    <tr>\n",
       "      <th>16</th>\n",
       "      <td>pos_cash_agg</td>\n",
       "      <td>(337252, 2)</td>\n",
       "    </tr>\n",
       "    <tr>\n",
       "      <th>17</th>\n",
       "      <td>df_joined</td>\n",
       "      <td>(339483, 42)</td>\n",
       "    </tr>\n",
       "    <tr>\n",
       "      <th>18</th>\n",
       "      <td>prev_app_info</td>\n",
       "      <td>(1670214, 39)</td>\n",
       "    </tr>\n",
       "    <tr>\n",
       "      <th>19</th>\n",
       "      <td>prev_app_agg</td>\n",
       "      <td>(338857, 2)</td>\n",
       "    </tr>\n",
       "    <tr>\n",
       "      <th>20</th>\n",
       "      <td>df_joined</td>\n",
       "      <td>(337691, 44)</td>\n",
       "    </tr>\n",
       "    <tr>\n",
       "      <th>21</th>\n",
       "      <td>bureau_info</td>\n",
       "      <td>(1716428, 17)</td>\n",
       "    </tr>\n",
       "    <tr>\n",
       "      <th>22</th>\n",
       "      <td>bureau_latest</td>\n",
       "      <td>(305811,)</td>\n",
       "    </tr>\n",
       "    <tr>\n",
       "      <th>23</th>\n",
       "      <td>bureau_agg</td>\n",
       "      <td>(305811, 4)</td>\n",
       "    </tr>\n",
       "    <tr>\n",
       "      <th>24</th>\n",
       "      <td>df_joined</td>\n",
       "      <td>(290154, 48)</td>\n",
       "    </tr>\n",
       "  </tbody>\n",
       "</table>\n",
       "</div>"
      ]
     },
     "execution_count": 56,
     "metadata": {},
     "output_type": "execute_result"
    }
   ],
   "execution_count": 56
  },
  {
   "cell_type": "code",
   "metadata": {
    "ExecuteTime": {
     "end_time": "2024-11-27T03:41:56.159486Z",
     "start_time": "2024-11-27T03:41:55.832176Z"
    }
   },
   "source": [
    "# One-hot encode the specified columns\n",
    "columns_to_encode = ['NAME_INCOME_TYPE', 'NAME_EDUCATION_TYPE', 'NAME_FAMILY_STATUS', 'NAME_HOUSING_TYPE', 'OCCUPATION_TYPE']\n",
    "df_joined = pd.get_dummies(df_joined, columns=columns_to_encode, prefix=columns_to_encode, dtype=int)\n",
    "\n",
    "print(df_joined.columns)\n"
   ],
   "outputs": [
    {
     "name": "stdout",
     "output_type": "stream",
     "text": [
      "Index(['SK_ID_CURR', 'W_DEFAULT', 'FLAG_OWN_CAR', 'FLAG_OWN_REALTY',\n",
      "       'CNT_CHILDREN', 'AMT_INCOME_TOTAL', 'DAYS_EMPLOYED', 'OWN_CAR_AGE',\n",
      "       'CNT_FAM_MEMBERS', 'Tenure_Months', 'Avg_Monthly_Balance',\n",
      "       'Avg_Monthly_Utilization', 'Max_Monthly_Utilization',\n",
      "       'Pct_Txns_Fully_Paid', 'Months_Fully_Paid', 'Pct_Txns_Minimum_Paid',\n",
      "       'Months_Minimum_Paid', 'Payment_MinPayment_Ratio_mean',\n",
      "       'Avg_AMT_Other_Ratio', 'Avg_AMT_ATM_Ratio', 'Avg_AMT_POS_Ratio',\n",
      "       'Avg_CNT_Other_Ratio', 'Avg_CNT_ATM_Ratio', 'Avg_CNT_POS_Ratio',\n",
      "       'AMT_CREDIT_LIMIT_ACTUAL', 'Age_Years', 'Employed_Months',\n",
      "       'CODE_GENDER_M', 'EXT_SOURCE_best', 'EXT_SOURCE_worst',\n",
      "       'credit_limit_income_ratio', 'LATE_PAYMENT_DAYS', 'AMT_LESS_TOTAL',\n",
      "       'AMT_LESS_MAX', 'DAYS_LATE_AVG', 'DAYS_LATE_MAX', 'SK_DPD_DEF',\n",
      "       'LESS_GRANTED', 'REJECTED_APPLICATIONS', 'AMT_CREDIT_SUM_TOTAL',\n",
      "       'AMT_CREDIT_SUM_DEBT_TOTAL', 'AMT_CREDIT_SUM_LIMIT_TOTAL',\n",
      "       'AMT_CREDIT_SUM_OVERDUE_TOTAL', 'NAME_INCOME_TYPE_Commercial associate',\n",
      "       'NAME_INCOME_TYPE_Pensioner', 'NAME_INCOME_TYPE_State servant',\n",
      "       'NAME_INCOME_TYPE_Student', 'NAME_INCOME_TYPE_Unemployed',\n",
      "       'NAME_INCOME_TYPE_Working', 'NAME_EDUCATION_TYPE_Academic degree',\n",
      "       'NAME_EDUCATION_TYPE_Higher education',\n",
      "       'NAME_EDUCATION_TYPE_Incomplete higher',\n",
      "       'NAME_EDUCATION_TYPE_Lower secondary',\n",
      "       'NAME_EDUCATION_TYPE_Secondary / secondary special',\n",
      "       'NAME_FAMILY_STATUS_Civil marriage', 'NAME_FAMILY_STATUS_Married',\n",
      "       'NAME_FAMILY_STATUS_Separated',\n",
      "       'NAME_FAMILY_STATUS_Single / not married', 'NAME_FAMILY_STATUS_Widow',\n",
      "       'NAME_HOUSING_TYPE_Co-op apartment',\n",
      "       'NAME_HOUSING_TYPE_House / apartment',\n",
      "       'NAME_HOUSING_TYPE_Municipal apartment',\n",
      "       'NAME_HOUSING_TYPE_Office apartment',\n",
      "       'NAME_HOUSING_TYPE_Rented apartment', 'NAME_HOUSING_TYPE_With parents',\n",
      "       'OCCUPATION_TYPE_Accountants', 'OCCUPATION_TYPE_Cleaning staff',\n",
      "       'OCCUPATION_TYPE_Cooking staff', 'OCCUPATION_TYPE_Core staff',\n",
      "       'OCCUPATION_TYPE_Drivers', 'OCCUPATION_TYPE_HR staff',\n",
      "       'OCCUPATION_TYPE_High skill tech staff', 'OCCUPATION_TYPE_IT staff',\n",
      "       'OCCUPATION_TYPE_Laborers', 'OCCUPATION_TYPE_Low-skill Laborers',\n",
      "       'OCCUPATION_TYPE_Managers', 'OCCUPATION_TYPE_Medicine staff',\n",
      "       'OCCUPATION_TYPE_Private service staff',\n",
      "       'OCCUPATION_TYPE_Realty agents', 'OCCUPATION_TYPE_Sales staff',\n",
      "       'OCCUPATION_TYPE_Secretaries', 'OCCUPATION_TYPE_Security staff',\n",
      "       'OCCUPATION_TYPE_Waiters/barmen staff'],\n",
      "      dtype='object')\n"
     ]
    }
   ],
   "execution_count": 57
  },
  {
   "cell_type": "code",
   "source": [
    "df_info = df_info = pd.concat([df_info, pd.DataFrame({'df_name': ['df_joined after onehot encoding'], 'shape': [df_joined.shape]})], ignore_index=True)\n",
    "df_info"
   ],
   "metadata": {
    "collapsed": false,
    "ExecuteTime": {
     "end_time": "2024-11-27T03:41:57.533313Z",
     "start_time": "2024-11-27T03:41:57.524307Z"
    }
   },
   "outputs": [
    {
     "data": {
      "text/plain": [
       "                            df_name           shape\n",
       "0                       credit_card   (3698436, 21)\n",
       "1         credit_card after feature   (3698436, 31)\n",
       "2              latest_credit_limits       (103468,)\n",
       "3                   credit_card_agg    (103468, 16)\n",
       "4             customer_1 / apptrain   (307511, 122)\n",
       "5              customer_2 / apptest    (48744, 121)\n",
       "6                     customer_info    (356255, 19)\n",
       "7                         df_joined    (356076, 36)\n",
       "8                 installments_info  (13605401, 11)\n",
       "9                latest_installment       (339587,)\n",
       "10                 installments_agg     (339587, 6)\n",
       "11                        df_joined    (339483, 41)\n",
       "12                         pos_cash   (10001358, 8)\n",
       "13                     pos_cash_agg     (337252, 2)\n",
       "14                        df_joined    (339483, 42)\n",
       "15                         pos_cash   (10001358, 8)\n",
       "16                     pos_cash_agg     (337252, 2)\n",
       "17                        df_joined    (339483, 42)\n",
       "18                    prev_app_info   (1670214, 39)\n",
       "19                     prev_app_agg     (338857, 2)\n",
       "20                        df_joined    (337691, 44)\n",
       "21                      bureau_info   (1716428, 17)\n",
       "22                    bureau_latest       (305811,)\n",
       "23                       bureau_agg     (305811, 4)\n",
       "24                        df_joined    (290154, 48)\n",
       "25  df_joined after onehot encoding    (290154, 83)"
      ],
      "text/html": [
       "<div>\n",
       "<style scoped>\n",
       "    .dataframe tbody tr th:only-of-type {\n",
       "        vertical-align: middle;\n",
       "    }\n",
       "\n",
       "    .dataframe tbody tr th {\n",
       "        vertical-align: top;\n",
       "    }\n",
       "\n",
       "    .dataframe thead th {\n",
       "        text-align: right;\n",
       "    }\n",
       "</style>\n",
       "<table border=\"1\" class=\"dataframe\">\n",
       "  <thead>\n",
       "    <tr style=\"text-align: right;\">\n",
       "      <th></th>\n",
       "      <th>df_name</th>\n",
       "      <th>shape</th>\n",
       "    </tr>\n",
       "  </thead>\n",
       "  <tbody>\n",
       "    <tr>\n",
       "      <th>0</th>\n",
       "      <td>credit_card</td>\n",
       "      <td>(3698436, 21)</td>\n",
       "    </tr>\n",
       "    <tr>\n",
       "      <th>1</th>\n",
       "      <td>credit_card after feature</td>\n",
       "      <td>(3698436, 31)</td>\n",
       "    </tr>\n",
       "    <tr>\n",
       "      <th>2</th>\n",
       "      <td>latest_credit_limits</td>\n",
       "      <td>(103468,)</td>\n",
       "    </tr>\n",
       "    <tr>\n",
       "      <th>3</th>\n",
       "      <td>credit_card_agg</td>\n",
       "      <td>(103468, 16)</td>\n",
       "    </tr>\n",
       "    <tr>\n",
       "      <th>4</th>\n",
       "      <td>customer_1 / apptrain</td>\n",
       "      <td>(307511, 122)</td>\n",
       "    </tr>\n",
       "    <tr>\n",
       "      <th>5</th>\n",
       "      <td>customer_2 / apptest</td>\n",
       "      <td>(48744, 121)</td>\n",
       "    </tr>\n",
       "    <tr>\n",
       "      <th>6</th>\n",
       "      <td>customer_info</td>\n",
       "      <td>(356255, 19)</td>\n",
       "    </tr>\n",
       "    <tr>\n",
       "      <th>7</th>\n",
       "      <td>df_joined</td>\n",
       "      <td>(356076, 36)</td>\n",
       "    </tr>\n",
       "    <tr>\n",
       "      <th>8</th>\n",
       "      <td>installments_info</td>\n",
       "      <td>(13605401, 11)</td>\n",
       "    </tr>\n",
       "    <tr>\n",
       "      <th>9</th>\n",
       "      <td>latest_installment</td>\n",
       "      <td>(339587,)</td>\n",
       "    </tr>\n",
       "    <tr>\n",
       "      <th>10</th>\n",
       "      <td>installments_agg</td>\n",
       "      <td>(339587, 6)</td>\n",
       "    </tr>\n",
       "    <tr>\n",
       "      <th>11</th>\n",
       "      <td>df_joined</td>\n",
       "      <td>(339483, 41)</td>\n",
       "    </tr>\n",
       "    <tr>\n",
       "      <th>12</th>\n",
       "      <td>pos_cash</td>\n",
       "      <td>(10001358, 8)</td>\n",
       "    </tr>\n",
       "    <tr>\n",
       "      <th>13</th>\n",
       "      <td>pos_cash_agg</td>\n",
       "      <td>(337252, 2)</td>\n",
       "    </tr>\n",
       "    <tr>\n",
       "      <th>14</th>\n",
       "      <td>df_joined</td>\n",
       "      <td>(339483, 42)</td>\n",
       "    </tr>\n",
       "    <tr>\n",
       "      <th>15</th>\n",
       "      <td>pos_cash</td>\n",
       "      <td>(10001358, 8)</td>\n",
       "    </tr>\n",
       "    <tr>\n",
       "      <th>16</th>\n",
       "      <td>pos_cash_agg</td>\n",
       "      <td>(337252, 2)</td>\n",
       "    </tr>\n",
       "    <tr>\n",
       "      <th>17</th>\n",
       "      <td>df_joined</td>\n",
       "      <td>(339483, 42)</td>\n",
       "    </tr>\n",
       "    <tr>\n",
       "      <th>18</th>\n",
       "      <td>prev_app_info</td>\n",
       "      <td>(1670214, 39)</td>\n",
       "    </tr>\n",
       "    <tr>\n",
       "      <th>19</th>\n",
       "      <td>prev_app_agg</td>\n",
       "      <td>(338857, 2)</td>\n",
       "    </tr>\n",
       "    <tr>\n",
       "      <th>20</th>\n",
       "      <td>df_joined</td>\n",
       "      <td>(337691, 44)</td>\n",
       "    </tr>\n",
       "    <tr>\n",
       "      <th>21</th>\n",
       "      <td>bureau_info</td>\n",
       "      <td>(1716428, 17)</td>\n",
       "    </tr>\n",
       "    <tr>\n",
       "      <th>22</th>\n",
       "      <td>bureau_latest</td>\n",
       "      <td>(305811,)</td>\n",
       "    </tr>\n",
       "    <tr>\n",
       "      <th>23</th>\n",
       "      <td>bureau_agg</td>\n",
       "      <td>(305811, 4)</td>\n",
       "    </tr>\n",
       "    <tr>\n",
       "      <th>24</th>\n",
       "      <td>df_joined</td>\n",
       "      <td>(290154, 48)</td>\n",
       "    </tr>\n",
       "    <tr>\n",
       "      <th>25</th>\n",
       "      <td>df_joined after onehot encoding</td>\n",
       "      <td>(290154, 83)</td>\n",
       "    </tr>\n",
       "  </tbody>\n",
       "</table>\n",
       "</div>"
      ]
     },
     "execution_count": 58,
     "metadata": {},
     "output_type": "execute_result"
    }
   ],
   "execution_count": 58
  },
  {
   "cell_type": "code",
   "metadata": {
    "ExecuteTime": {
     "end_time": "2024-11-27T03:42:05.082024Z",
     "start_time": "2024-11-27T03:42:04.632673Z"
    }
   },
   "source": [
    "from imblearn.over_sampling import ADASYN\n",
    "from sklearn.model_selection import train_test_split\n",
    "\n",
    "from sklearn.preprocessing import MinMaxScaler\n",
    "\n",
    "# Initialize the scaler\n",
    "scaler = MinMaxScaler()\n",
    "df_joined[['Avg_Monthly_Balance','Months_Fully_Paid', \n",
    "           'Months_Minimum_Paid', 'Months_Minimum_Paid', \n",
    "           'AMT_INCOME_TOTAL', 'DAYS_EMPLOYED', 'OWN_CAR_AGE',\n",
    "           'Age_Years','Employed_Months', 'AMT_LESS_TOTAL',\n",
    "           'AMT_LESS_MAX', 'DAYS_LATE_MAX', 'SK_DPD_DEF',\n",
    "           'AMT_CREDIT_SUM_TOTAL', 'AMT_CREDIT_SUM_DEBT_TOTAL',\n",
    "           'AMT_CREDIT_SUM_LIMIT_TOTAL', 'AMT_CREDIT_SUM_OVERDUE_TOTAL','Tenure_Months']] = scaler.fit_transform(df_joined[['Avg_Monthly_Balance','Months_Fully_Paid', \n",
    "           'Months_Minimum_Paid', 'Months_Minimum_Paid', \n",
    "           'AMT_INCOME_TOTAL', 'DAYS_EMPLOYED', 'OWN_CAR_AGE',\n",
    "           'Age_Years','Employed_Months', 'AMT_LESS_TOTAL',\n",
    "           'AMT_LESS_MAX', 'DAYS_LATE_MAX', 'SK_DPD_DEF',\n",
    "           'AMT_CREDIT_SUM_TOTAL', 'AMT_CREDIT_SUM_DEBT_TOTAL',\n",
    "           'AMT_CREDIT_SUM_LIMIT_TOTAL', 'AMT_CREDIT_SUM_OVERDUE_TOTAL','Tenure_Months']])\n",
    "\n",
    "# Convert non-numeric columns later to flatten\n",
    "X = df_joined.drop(columns=['W_DEFAULT'])\n",
    "y = df_joined['W_DEFAULT']\n",
    "\n",
    "# Split the data into training and testing sets\n",
    "X_train, X_test, y_train, y_test = train_test_split(X, y, test_size=0.2, random_state=42)"
   ],
   "outputs": [],
   "execution_count": 59
  },
  {
   "cell_type": "code",
   "source": [
    "df_info = df_info = pd.concat([df_info, pd.DataFrame({'df_name': ['df_joined after scaler'], 'shape': [df_joined.shape]})], ignore_index=True)\n",
    "df_info"
   ],
   "metadata": {
    "collapsed": false,
    "ExecuteTime": {
     "end_time": "2024-11-27T03:42:06.488582Z",
     "start_time": "2024-11-27T03:42:06.473694Z"
    }
   },
   "outputs": [
    {
     "data": {
      "text/plain": [
       "                            df_name           shape\n",
       "0                       credit_card   (3698436, 21)\n",
       "1         credit_card after feature   (3698436, 31)\n",
       "2              latest_credit_limits       (103468,)\n",
       "3                   credit_card_agg    (103468, 16)\n",
       "4             customer_1 / apptrain   (307511, 122)\n",
       "5              customer_2 / apptest    (48744, 121)\n",
       "6                     customer_info    (356255, 19)\n",
       "7                         df_joined    (356076, 36)\n",
       "8                 installments_info  (13605401, 11)\n",
       "9                latest_installment       (339587,)\n",
       "10                 installments_agg     (339587, 6)\n",
       "11                        df_joined    (339483, 41)\n",
       "12                         pos_cash   (10001358, 8)\n",
       "13                     pos_cash_agg     (337252, 2)\n",
       "14                        df_joined    (339483, 42)\n",
       "15                         pos_cash   (10001358, 8)\n",
       "16                     pos_cash_agg     (337252, 2)\n",
       "17                        df_joined    (339483, 42)\n",
       "18                    prev_app_info   (1670214, 39)\n",
       "19                     prev_app_agg     (338857, 2)\n",
       "20                        df_joined    (337691, 44)\n",
       "21                      bureau_info   (1716428, 17)\n",
       "22                    bureau_latest       (305811,)\n",
       "23                       bureau_agg     (305811, 4)\n",
       "24                        df_joined    (290154, 48)\n",
       "25  df_joined after onehot encoding    (290154, 83)\n",
       "26           df_joined after scaler    (290154, 83)"
      ],
      "text/html": [
       "<div>\n",
       "<style scoped>\n",
       "    .dataframe tbody tr th:only-of-type {\n",
       "        vertical-align: middle;\n",
       "    }\n",
       "\n",
       "    .dataframe tbody tr th {\n",
       "        vertical-align: top;\n",
       "    }\n",
       "\n",
       "    .dataframe thead th {\n",
       "        text-align: right;\n",
       "    }\n",
       "</style>\n",
       "<table border=\"1\" class=\"dataframe\">\n",
       "  <thead>\n",
       "    <tr style=\"text-align: right;\">\n",
       "      <th></th>\n",
       "      <th>df_name</th>\n",
       "      <th>shape</th>\n",
       "    </tr>\n",
       "  </thead>\n",
       "  <tbody>\n",
       "    <tr>\n",
       "      <th>0</th>\n",
       "      <td>credit_card</td>\n",
       "      <td>(3698436, 21)</td>\n",
       "    </tr>\n",
       "    <tr>\n",
       "      <th>1</th>\n",
       "      <td>credit_card after feature</td>\n",
       "      <td>(3698436, 31)</td>\n",
       "    </tr>\n",
       "    <tr>\n",
       "      <th>2</th>\n",
       "      <td>latest_credit_limits</td>\n",
       "      <td>(103468,)</td>\n",
       "    </tr>\n",
       "    <tr>\n",
       "      <th>3</th>\n",
       "      <td>credit_card_agg</td>\n",
       "      <td>(103468, 16)</td>\n",
       "    </tr>\n",
       "    <tr>\n",
       "      <th>4</th>\n",
       "      <td>customer_1 / apptrain</td>\n",
       "      <td>(307511, 122)</td>\n",
       "    </tr>\n",
       "    <tr>\n",
       "      <th>5</th>\n",
       "      <td>customer_2 / apptest</td>\n",
       "      <td>(48744, 121)</td>\n",
       "    </tr>\n",
       "    <tr>\n",
       "      <th>6</th>\n",
       "      <td>customer_info</td>\n",
       "      <td>(356255, 19)</td>\n",
       "    </tr>\n",
       "    <tr>\n",
       "      <th>7</th>\n",
       "      <td>df_joined</td>\n",
       "      <td>(356076, 36)</td>\n",
       "    </tr>\n",
       "    <tr>\n",
       "      <th>8</th>\n",
       "      <td>installments_info</td>\n",
       "      <td>(13605401, 11)</td>\n",
       "    </tr>\n",
       "    <tr>\n",
       "      <th>9</th>\n",
       "      <td>latest_installment</td>\n",
       "      <td>(339587,)</td>\n",
       "    </tr>\n",
       "    <tr>\n",
       "      <th>10</th>\n",
       "      <td>installments_agg</td>\n",
       "      <td>(339587, 6)</td>\n",
       "    </tr>\n",
       "    <tr>\n",
       "      <th>11</th>\n",
       "      <td>df_joined</td>\n",
       "      <td>(339483, 41)</td>\n",
       "    </tr>\n",
       "    <tr>\n",
       "      <th>12</th>\n",
       "      <td>pos_cash</td>\n",
       "      <td>(10001358, 8)</td>\n",
       "    </tr>\n",
       "    <tr>\n",
       "      <th>13</th>\n",
       "      <td>pos_cash_agg</td>\n",
       "      <td>(337252, 2)</td>\n",
       "    </tr>\n",
       "    <tr>\n",
       "      <th>14</th>\n",
       "      <td>df_joined</td>\n",
       "      <td>(339483, 42)</td>\n",
       "    </tr>\n",
       "    <tr>\n",
       "      <th>15</th>\n",
       "      <td>pos_cash</td>\n",
       "      <td>(10001358, 8)</td>\n",
       "    </tr>\n",
       "    <tr>\n",
       "      <th>16</th>\n",
       "      <td>pos_cash_agg</td>\n",
       "      <td>(337252, 2)</td>\n",
       "    </tr>\n",
       "    <tr>\n",
       "      <th>17</th>\n",
       "      <td>df_joined</td>\n",
       "      <td>(339483, 42)</td>\n",
       "    </tr>\n",
       "    <tr>\n",
       "      <th>18</th>\n",
       "      <td>prev_app_info</td>\n",
       "      <td>(1670214, 39)</td>\n",
       "    </tr>\n",
       "    <tr>\n",
       "      <th>19</th>\n",
       "      <td>prev_app_agg</td>\n",
       "      <td>(338857, 2)</td>\n",
       "    </tr>\n",
       "    <tr>\n",
       "      <th>20</th>\n",
       "      <td>df_joined</td>\n",
       "      <td>(337691, 44)</td>\n",
       "    </tr>\n",
       "    <tr>\n",
       "      <th>21</th>\n",
       "      <td>bureau_info</td>\n",
       "      <td>(1716428, 17)</td>\n",
       "    </tr>\n",
       "    <tr>\n",
       "      <th>22</th>\n",
       "      <td>bureau_latest</td>\n",
       "      <td>(305811,)</td>\n",
       "    </tr>\n",
       "    <tr>\n",
       "      <th>23</th>\n",
       "      <td>bureau_agg</td>\n",
       "      <td>(305811, 4)</td>\n",
       "    </tr>\n",
       "    <tr>\n",
       "      <th>24</th>\n",
       "      <td>df_joined</td>\n",
       "      <td>(290154, 48)</td>\n",
       "    </tr>\n",
       "    <tr>\n",
       "      <th>25</th>\n",
       "      <td>df_joined after onehot encoding</td>\n",
       "      <td>(290154, 83)</td>\n",
       "    </tr>\n",
       "    <tr>\n",
       "      <th>26</th>\n",
       "      <td>df_joined after scaler</td>\n",
       "      <td>(290154, 83)</td>\n",
       "    </tr>\n",
       "  </tbody>\n",
       "</table>\n",
       "</div>"
      ]
     },
     "execution_count": 60,
     "metadata": {},
     "output_type": "execute_result"
    }
   ],
   "execution_count": 60
  },
  {
   "cell_type": "code",
   "metadata": {
    "ExecuteTime": {
     "end_time": "2024-11-27T03:42:09.516651Z",
     "start_time": "2024-11-27T03:42:08.854963Z"
    }
   },
   "source": [
    "adasyn = ADASYN(sampling_strategy='minority', random_state=42, n_neighbors=5)\n",
    "X_res, y_res = adasyn.fit_resample(X_train, y_train)\n",
    "\n",
    "# Combine the resampled features and target variable into a single DataFrame\n",
    "df_adasyn = pd.concat([X_res, y_res], axis=1)\n",
    "\n",
    "df_adasyn.head()\n"
   ],
   "outputs": [
    {
     "ename": "ValueError",
     "evalue": "Input X contains NaN.\nADASYN does not accept missing values encoded as NaN natively. For supervised learning, you might want to consider sklearn.ensemble.HistGradientBoostingClassifier and Regressor which accept missing values encoded as NaNs natively. Alternatively, it is possible to preprocess the data, for instance by using an imputer transformer in a pipeline or drop samples with missing values. See https://scikit-learn.org/stable/modules/impute.html You can find a list of all estimators that handle NaN values at the following page: https://scikit-learn.org/stable/modules/impute.html#estimators-that-handle-nan-values",
     "output_type": "error",
     "traceback": [
      "\u001B[0;31m---------------------------------------------------------------------------\u001B[0m",
      "\u001B[0;31mValueError\u001B[0m                                Traceback (most recent call last)",
      "Cell \u001B[0;32mIn[61], line 2\u001B[0m\n\u001B[1;32m      1\u001B[0m adasyn \u001B[38;5;241m=\u001B[39m ADASYN(sampling_strategy\u001B[38;5;241m=\u001B[39m\u001B[38;5;124m'\u001B[39m\u001B[38;5;124mminority\u001B[39m\u001B[38;5;124m'\u001B[39m, random_state\u001B[38;5;241m=\u001B[39m\u001B[38;5;241m42\u001B[39m, n_neighbors\u001B[38;5;241m=\u001B[39m\u001B[38;5;241m5\u001B[39m)\n\u001B[0;32m----> 2\u001B[0m X_res, y_res \u001B[38;5;241m=\u001B[39m \u001B[43madasyn\u001B[49m\u001B[38;5;241;43m.\u001B[39;49m\u001B[43mfit_resample\u001B[49m\u001B[43m(\u001B[49m\u001B[43mX_train\u001B[49m\u001B[43m,\u001B[49m\u001B[43m \u001B[49m\u001B[43my_train\u001B[49m\u001B[43m)\u001B[49m\n\u001B[1;32m      4\u001B[0m \u001B[38;5;66;03m# Combine the resampled features and target variable into a single DataFrame\u001B[39;00m\n\u001B[1;32m      5\u001B[0m df_adasyn \u001B[38;5;241m=\u001B[39m pd\u001B[38;5;241m.\u001B[39mconcat([X_res, y_res], axis\u001B[38;5;241m=\u001B[39m\u001B[38;5;241m1\u001B[39m)\n",
      "File \u001B[0;32m~/PycharmProjects/pythonProject/.venv/lib/python3.12/site-packages/imblearn/base.py:208\u001B[0m, in \u001B[0;36mBaseSampler.fit_resample\u001B[0;34m(self, X, y)\u001B[0m\n\u001B[1;32m    187\u001B[0m \u001B[38;5;250m\u001B[39m\u001B[38;5;124;03m\"\"\"Resample the dataset.\u001B[39;00m\n\u001B[1;32m    188\u001B[0m \n\u001B[1;32m    189\u001B[0m \u001B[38;5;124;03mParameters\u001B[39;00m\n\u001B[0;32m   (...)\u001B[0m\n\u001B[1;32m    205\u001B[0m \u001B[38;5;124;03m    The corresponding label of `X_resampled`.\u001B[39;00m\n\u001B[1;32m    206\u001B[0m \u001B[38;5;124;03m\"\"\"\u001B[39;00m\n\u001B[1;32m    207\u001B[0m \u001B[38;5;28mself\u001B[39m\u001B[38;5;241m.\u001B[39m_validate_params()\n\u001B[0;32m--> 208\u001B[0m \u001B[38;5;28;01mreturn\u001B[39;00m \u001B[38;5;28;43msuper\u001B[39;49m\u001B[43m(\u001B[49m\u001B[43m)\u001B[49m\u001B[38;5;241;43m.\u001B[39;49m\u001B[43mfit_resample\u001B[49m\u001B[43m(\u001B[49m\u001B[43mX\u001B[49m\u001B[43m,\u001B[49m\u001B[43m \u001B[49m\u001B[43my\u001B[49m\u001B[43m)\u001B[49m\n",
      "File \u001B[0;32m~/PycharmProjects/pythonProject/.venv/lib/python3.12/site-packages/imblearn/base.py:106\u001B[0m, in \u001B[0;36mSamplerMixin.fit_resample\u001B[0;34m(self, X, y)\u001B[0m\n\u001B[1;32m    104\u001B[0m check_classification_targets(y)\n\u001B[1;32m    105\u001B[0m arrays_transformer \u001B[38;5;241m=\u001B[39m ArraysTransformer(X, y)\n\u001B[0;32m--> 106\u001B[0m X, y, binarize_y \u001B[38;5;241m=\u001B[39m \u001B[38;5;28;43mself\u001B[39;49m\u001B[38;5;241;43m.\u001B[39;49m\u001B[43m_check_X_y\u001B[49m\u001B[43m(\u001B[49m\u001B[43mX\u001B[49m\u001B[43m,\u001B[49m\u001B[43m \u001B[49m\u001B[43my\u001B[49m\u001B[43m)\u001B[49m\n\u001B[1;32m    108\u001B[0m \u001B[38;5;28mself\u001B[39m\u001B[38;5;241m.\u001B[39msampling_strategy_ \u001B[38;5;241m=\u001B[39m check_sampling_strategy(\n\u001B[1;32m    109\u001B[0m     \u001B[38;5;28mself\u001B[39m\u001B[38;5;241m.\u001B[39msampling_strategy, y, \u001B[38;5;28mself\u001B[39m\u001B[38;5;241m.\u001B[39m_sampling_type\n\u001B[1;32m    110\u001B[0m )\n\u001B[1;32m    112\u001B[0m output \u001B[38;5;241m=\u001B[39m \u001B[38;5;28mself\u001B[39m\u001B[38;5;241m.\u001B[39m_fit_resample(X, y)\n",
      "File \u001B[0;32m~/PycharmProjects/pythonProject/.venv/lib/python3.12/site-packages/imblearn/base.py:161\u001B[0m, in \u001B[0;36mBaseSampler._check_X_y\u001B[0;34m(self, X, y, accept_sparse)\u001B[0m\n\u001B[1;32m    159\u001B[0m     accept_sparse \u001B[38;5;241m=\u001B[39m [\u001B[38;5;124m\"\u001B[39m\u001B[38;5;124mcsr\u001B[39m\u001B[38;5;124m\"\u001B[39m, \u001B[38;5;124m\"\u001B[39m\u001B[38;5;124mcsc\u001B[39m\u001B[38;5;124m\"\u001B[39m]\n\u001B[1;32m    160\u001B[0m y, binarize_y \u001B[38;5;241m=\u001B[39m check_target_type(y, indicate_one_vs_all\u001B[38;5;241m=\u001B[39m\u001B[38;5;28;01mTrue\u001B[39;00m)\n\u001B[0;32m--> 161\u001B[0m X, y \u001B[38;5;241m=\u001B[39m \u001B[38;5;28;43mself\u001B[39;49m\u001B[38;5;241;43m.\u001B[39;49m\u001B[43m_validate_data\u001B[49m\u001B[43m(\u001B[49m\u001B[43mX\u001B[49m\u001B[43m,\u001B[49m\u001B[43m \u001B[49m\u001B[43my\u001B[49m\u001B[43m,\u001B[49m\u001B[43m \u001B[49m\u001B[43mreset\u001B[49m\u001B[38;5;241;43m=\u001B[39;49m\u001B[38;5;28;43;01mTrue\u001B[39;49;00m\u001B[43m,\u001B[49m\u001B[43m \u001B[49m\u001B[43maccept_sparse\u001B[49m\u001B[38;5;241;43m=\u001B[39;49m\u001B[43maccept_sparse\u001B[49m\u001B[43m)\u001B[49m\n\u001B[1;32m    162\u001B[0m \u001B[38;5;28;01mreturn\u001B[39;00m X, y, binarize_y\n",
      "File \u001B[0;32m~/PycharmProjects/pythonProject/.venv/lib/python3.12/site-packages/sklearn/base.py:650\u001B[0m, in \u001B[0;36mBaseEstimator._validate_data\u001B[0;34m(self, X, y, reset, validate_separately, cast_to_ndarray, **check_params)\u001B[0m\n\u001B[1;32m    648\u001B[0m         y \u001B[38;5;241m=\u001B[39m check_array(y, input_name\u001B[38;5;241m=\u001B[39m\u001B[38;5;124m\"\u001B[39m\u001B[38;5;124my\u001B[39m\u001B[38;5;124m\"\u001B[39m, \u001B[38;5;241m*\u001B[39m\u001B[38;5;241m*\u001B[39mcheck_y_params)\n\u001B[1;32m    649\u001B[0m     \u001B[38;5;28;01melse\u001B[39;00m:\n\u001B[0;32m--> 650\u001B[0m         X, y \u001B[38;5;241m=\u001B[39m \u001B[43mcheck_X_y\u001B[49m\u001B[43m(\u001B[49m\u001B[43mX\u001B[49m\u001B[43m,\u001B[49m\u001B[43m \u001B[49m\u001B[43my\u001B[49m\u001B[43m,\u001B[49m\u001B[43m \u001B[49m\u001B[38;5;241;43m*\u001B[39;49m\u001B[38;5;241;43m*\u001B[39;49m\u001B[43mcheck_params\u001B[49m\u001B[43m)\u001B[49m\n\u001B[1;32m    651\u001B[0m     out \u001B[38;5;241m=\u001B[39m X, y\n\u001B[1;32m    653\u001B[0m \u001B[38;5;28;01mif\u001B[39;00m \u001B[38;5;129;01mnot\u001B[39;00m no_val_X \u001B[38;5;129;01mand\u001B[39;00m check_params\u001B[38;5;241m.\u001B[39mget(\u001B[38;5;124m\"\u001B[39m\u001B[38;5;124mensure_2d\u001B[39m\u001B[38;5;124m\"\u001B[39m, \u001B[38;5;28;01mTrue\u001B[39;00m):\n",
      "File \u001B[0;32m~/PycharmProjects/pythonProject/.venv/lib/python3.12/site-packages/sklearn/utils/validation.py:1301\u001B[0m, in \u001B[0;36mcheck_X_y\u001B[0;34m(X, y, accept_sparse, accept_large_sparse, dtype, order, copy, force_writeable, force_all_finite, ensure_2d, allow_nd, multi_output, ensure_min_samples, ensure_min_features, y_numeric, estimator)\u001B[0m\n\u001B[1;32m   1296\u001B[0m         estimator_name \u001B[38;5;241m=\u001B[39m _check_estimator_name(estimator)\n\u001B[1;32m   1297\u001B[0m     \u001B[38;5;28;01mraise\u001B[39;00m \u001B[38;5;167;01mValueError\u001B[39;00m(\n\u001B[1;32m   1298\u001B[0m         \u001B[38;5;124mf\u001B[39m\u001B[38;5;124m\"\u001B[39m\u001B[38;5;132;01m{\u001B[39;00mestimator_name\u001B[38;5;132;01m}\u001B[39;00m\u001B[38;5;124m requires y to be passed, but the target y is None\u001B[39m\u001B[38;5;124m\"\u001B[39m\n\u001B[1;32m   1299\u001B[0m     )\n\u001B[0;32m-> 1301\u001B[0m X \u001B[38;5;241m=\u001B[39m \u001B[43mcheck_array\u001B[49m\u001B[43m(\u001B[49m\n\u001B[1;32m   1302\u001B[0m \u001B[43m    \u001B[49m\u001B[43mX\u001B[49m\u001B[43m,\u001B[49m\n\u001B[1;32m   1303\u001B[0m \u001B[43m    \u001B[49m\u001B[43maccept_sparse\u001B[49m\u001B[38;5;241;43m=\u001B[39;49m\u001B[43maccept_sparse\u001B[49m\u001B[43m,\u001B[49m\n\u001B[1;32m   1304\u001B[0m \u001B[43m    \u001B[49m\u001B[43maccept_large_sparse\u001B[49m\u001B[38;5;241;43m=\u001B[39;49m\u001B[43maccept_large_sparse\u001B[49m\u001B[43m,\u001B[49m\n\u001B[1;32m   1305\u001B[0m \u001B[43m    \u001B[49m\u001B[43mdtype\u001B[49m\u001B[38;5;241;43m=\u001B[39;49m\u001B[43mdtype\u001B[49m\u001B[43m,\u001B[49m\n\u001B[1;32m   1306\u001B[0m \u001B[43m    \u001B[49m\u001B[43morder\u001B[49m\u001B[38;5;241;43m=\u001B[39;49m\u001B[43morder\u001B[49m\u001B[43m,\u001B[49m\n\u001B[1;32m   1307\u001B[0m \u001B[43m    \u001B[49m\u001B[43mcopy\u001B[49m\u001B[38;5;241;43m=\u001B[39;49m\u001B[43mcopy\u001B[49m\u001B[43m,\u001B[49m\n\u001B[1;32m   1308\u001B[0m \u001B[43m    \u001B[49m\u001B[43mforce_writeable\u001B[49m\u001B[38;5;241;43m=\u001B[39;49m\u001B[43mforce_writeable\u001B[49m\u001B[43m,\u001B[49m\n\u001B[1;32m   1309\u001B[0m \u001B[43m    \u001B[49m\u001B[43mforce_all_finite\u001B[49m\u001B[38;5;241;43m=\u001B[39;49m\u001B[43mforce_all_finite\u001B[49m\u001B[43m,\u001B[49m\n\u001B[1;32m   1310\u001B[0m \u001B[43m    \u001B[49m\u001B[43mensure_2d\u001B[49m\u001B[38;5;241;43m=\u001B[39;49m\u001B[43mensure_2d\u001B[49m\u001B[43m,\u001B[49m\n\u001B[1;32m   1311\u001B[0m \u001B[43m    \u001B[49m\u001B[43mallow_nd\u001B[49m\u001B[38;5;241;43m=\u001B[39;49m\u001B[43mallow_nd\u001B[49m\u001B[43m,\u001B[49m\n\u001B[1;32m   1312\u001B[0m \u001B[43m    \u001B[49m\u001B[43mensure_min_samples\u001B[49m\u001B[38;5;241;43m=\u001B[39;49m\u001B[43mensure_min_samples\u001B[49m\u001B[43m,\u001B[49m\n\u001B[1;32m   1313\u001B[0m \u001B[43m    \u001B[49m\u001B[43mensure_min_features\u001B[49m\u001B[38;5;241;43m=\u001B[39;49m\u001B[43mensure_min_features\u001B[49m\u001B[43m,\u001B[49m\n\u001B[1;32m   1314\u001B[0m \u001B[43m    \u001B[49m\u001B[43mestimator\u001B[49m\u001B[38;5;241;43m=\u001B[39;49m\u001B[43mestimator\u001B[49m\u001B[43m,\u001B[49m\n\u001B[1;32m   1315\u001B[0m \u001B[43m    \u001B[49m\u001B[43minput_name\u001B[49m\u001B[38;5;241;43m=\u001B[39;49m\u001B[38;5;124;43m\"\u001B[39;49m\u001B[38;5;124;43mX\u001B[39;49m\u001B[38;5;124;43m\"\u001B[39;49m\u001B[43m,\u001B[49m\n\u001B[1;32m   1316\u001B[0m \u001B[43m\u001B[49m\u001B[43m)\u001B[49m\n\u001B[1;32m   1318\u001B[0m y \u001B[38;5;241m=\u001B[39m _check_y(y, multi_output\u001B[38;5;241m=\u001B[39mmulti_output, y_numeric\u001B[38;5;241m=\u001B[39my_numeric, estimator\u001B[38;5;241m=\u001B[39mestimator)\n\u001B[1;32m   1320\u001B[0m check_consistent_length(X, y)\n",
      "File \u001B[0;32m~/PycharmProjects/pythonProject/.venv/lib/python3.12/site-packages/sklearn/utils/validation.py:1064\u001B[0m, in \u001B[0;36mcheck_array\u001B[0;34m(array, accept_sparse, accept_large_sparse, dtype, order, copy, force_writeable, force_all_finite, ensure_2d, allow_nd, ensure_min_samples, ensure_min_features, estimator, input_name)\u001B[0m\n\u001B[1;32m   1058\u001B[0m     \u001B[38;5;28;01mraise\u001B[39;00m \u001B[38;5;167;01mValueError\u001B[39;00m(\n\u001B[1;32m   1059\u001B[0m         \u001B[38;5;124m\"\u001B[39m\u001B[38;5;124mFound array with dim \u001B[39m\u001B[38;5;132;01m%d\u001B[39;00m\u001B[38;5;124m. \u001B[39m\u001B[38;5;132;01m%s\u001B[39;00m\u001B[38;5;124m expected <= 2.\u001B[39m\u001B[38;5;124m\"\u001B[39m\n\u001B[1;32m   1060\u001B[0m         \u001B[38;5;241m%\u001B[39m (array\u001B[38;5;241m.\u001B[39mndim, estimator_name)\n\u001B[1;32m   1061\u001B[0m     )\n\u001B[1;32m   1063\u001B[0m \u001B[38;5;28;01mif\u001B[39;00m force_all_finite:\n\u001B[0;32m-> 1064\u001B[0m     \u001B[43m_assert_all_finite\u001B[49m\u001B[43m(\u001B[49m\n\u001B[1;32m   1065\u001B[0m \u001B[43m        \u001B[49m\u001B[43marray\u001B[49m\u001B[43m,\u001B[49m\n\u001B[1;32m   1066\u001B[0m \u001B[43m        \u001B[49m\u001B[43minput_name\u001B[49m\u001B[38;5;241;43m=\u001B[39;49m\u001B[43minput_name\u001B[49m\u001B[43m,\u001B[49m\n\u001B[1;32m   1067\u001B[0m \u001B[43m        \u001B[49m\u001B[43mestimator_name\u001B[49m\u001B[38;5;241;43m=\u001B[39;49m\u001B[43mestimator_name\u001B[49m\u001B[43m,\u001B[49m\n\u001B[1;32m   1068\u001B[0m \u001B[43m        \u001B[49m\u001B[43mallow_nan\u001B[49m\u001B[38;5;241;43m=\u001B[39;49m\u001B[43mforce_all_finite\u001B[49m\u001B[43m \u001B[49m\u001B[38;5;241;43m==\u001B[39;49m\u001B[43m \u001B[49m\u001B[38;5;124;43m\"\u001B[39;49m\u001B[38;5;124;43mallow-nan\u001B[39;49m\u001B[38;5;124;43m\"\u001B[39;49m\u001B[43m,\u001B[49m\n\u001B[1;32m   1069\u001B[0m \u001B[43m    \u001B[49m\u001B[43m)\u001B[49m\n\u001B[1;32m   1071\u001B[0m \u001B[38;5;28;01mif\u001B[39;00m copy:\n\u001B[1;32m   1072\u001B[0m     \u001B[38;5;28;01mif\u001B[39;00m _is_numpy_namespace(xp):\n\u001B[1;32m   1073\u001B[0m         \u001B[38;5;66;03m# only make a copy if `array` and `array_orig` may share memory`\u001B[39;00m\n",
      "File \u001B[0;32m~/PycharmProjects/pythonProject/.venv/lib/python3.12/site-packages/sklearn/utils/validation.py:123\u001B[0m, in \u001B[0;36m_assert_all_finite\u001B[0;34m(X, allow_nan, msg_dtype, estimator_name, input_name)\u001B[0m\n\u001B[1;32m    120\u001B[0m \u001B[38;5;28;01mif\u001B[39;00m first_pass_isfinite:\n\u001B[1;32m    121\u001B[0m     \u001B[38;5;28;01mreturn\u001B[39;00m\n\u001B[0;32m--> 123\u001B[0m \u001B[43m_assert_all_finite_element_wise\u001B[49m\u001B[43m(\u001B[49m\n\u001B[1;32m    124\u001B[0m \u001B[43m    \u001B[49m\u001B[43mX\u001B[49m\u001B[43m,\u001B[49m\n\u001B[1;32m    125\u001B[0m \u001B[43m    \u001B[49m\u001B[43mxp\u001B[49m\u001B[38;5;241;43m=\u001B[39;49m\u001B[43mxp\u001B[49m\u001B[43m,\u001B[49m\n\u001B[1;32m    126\u001B[0m \u001B[43m    \u001B[49m\u001B[43mallow_nan\u001B[49m\u001B[38;5;241;43m=\u001B[39;49m\u001B[43mallow_nan\u001B[49m\u001B[43m,\u001B[49m\n\u001B[1;32m    127\u001B[0m \u001B[43m    \u001B[49m\u001B[43mmsg_dtype\u001B[49m\u001B[38;5;241;43m=\u001B[39;49m\u001B[43mmsg_dtype\u001B[49m\u001B[43m,\u001B[49m\n\u001B[1;32m    128\u001B[0m \u001B[43m    \u001B[49m\u001B[43mestimator_name\u001B[49m\u001B[38;5;241;43m=\u001B[39;49m\u001B[43mestimator_name\u001B[49m\u001B[43m,\u001B[49m\n\u001B[1;32m    129\u001B[0m \u001B[43m    \u001B[49m\u001B[43minput_name\u001B[49m\u001B[38;5;241;43m=\u001B[39;49m\u001B[43minput_name\u001B[49m\u001B[43m,\u001B[49m\n\u001B[1;32m    130\u001B[0m \u001B[43m\u001B[49m\u001B[43m)\u001B[49m\n",
      "File \u001B[0;32m~/PycharmProjects/pythonProject/.venv/lib/python3.12/site-packages/sklearn/utils/validation.py:172\u001B[0m, in \u001B[0;36m_assert_all_finite_element_wise\u001B[0;34m(X, xp, allow_nan, msg_dtype, estimator_name, input_name)\u001B[0m\n\u001B[1;32m    155\u001B[0m \u001B[38;5;28;01mif\u001B[39;00m estimator_name \u001B[38;5;129;01mand\u001B[39;00m input_name \u001B[38;5;241m==\u001B[39m \u001B[38;5;124m\"\u001B[39m\u001B[38;5;124mX\u001B[39m\u001B[38;5;124m\"\u001B[39m \u001B[38;5;129;01mand\u001B[39;00m has_nan_error:\n\u001B[1;32m    156\u001B[0m     \u001B[38;5;66;03m# Improve the error message on how to handle missing values in\u001B[39;00m\n\u001B[1;32m    157\u001B[0m     \u001B[38;5;66;03m# scikit-learn.\u001B[39;00m\n\u001B[1;32m    158\u001B[0m     msg_err \u001B[38;5;241m+\u001B[39m\u001B[38;5;241m=\u001B[39m (\n\u001B[1;32m    159\u001B[0m         \u001B[38;5;124mf\u001B[39m\u001B[38;5;124m\"\u001B[39m\u001B[38;5;130;01m\\n\u001B[39;00m\u001B[38;5;132;01m{\u001B[39;00mestimator_name\u001B[38;5;132;01m}\u001B[39;00m\u001B[38;5;124m does not accept missing values\u001B[39m\u001B[38;5;124m\"\u001B[39m\n\u001B[1;32m    160\u001B[0m         \u001B[38;5;124m\"\u001B[39m\u001B[38;5;124m encoded as NaN natively. For supervised learning, you might want\u001B[39m\u001B[38;5;124m\"\u001B[39m\n\u001B[0;32m   (...)\u001B[0m\n\u001B[1;32m    170\u001B[0m         \u001B[38;5;124m\"\u001B[39m\u001B[38;5;124m#estimators-that-handle-nan-values\u001B[39m\u001B[38;5;124m\"\u001B[39m\n\u001B[1;32m    171\u001B[0m     )\n\u001B[0;32m--> 172\u001B[0m \u001B[38;5;28;01mraise\u001B[39;00m \u001B[38;5;167;01mValueError\u001B[39;00m(msg_err)\n",
      "\u001B[0;31mValueError\u001B[0m: Input X contains NaN.\nADASYN does not accept missing values encoded as NaN natively. For supervised learning, you might want to consider sklearn.ensemble.HistGradientBoostingClassifier and Regressor which accept missing values encoded as NaNs natively. Alternatively, it is possible to preprocess the data, for instance by using an imputer transformer in a pipeline or drop samples with missing values. See https://scikit-learn.org/stable/modules/impute.html You can find a list of all estimators that handle NaN values at the following page: https://scikit-learn.org/stable/modules/impute.html#estimators-that-handle-nan-values"
     ]
    }
   ],
   "execution_count": 61
  },
  {
   "cell_type": "code",
   "execution_count": 207,
   "metadata": {
    "ExecuteTime": {
     "end_time": "2024-11-26T14:54:54.063884Z",
     "start_time": "2024-11-26T14:54:53.801608Z"
    }
   },
   "outputs": [
    {
     "name": "stdout",
     "output_type": "stream",
     "text": [
      "Ratio of minority class to majority: 1.00\n"
     ]
    },
    {
     "data": {
      "text/plain": "Text(0.5, 1.0, 'ADASYN Balanced')"
     },
     "execution_count": 207,
     "metadata": {},
     "output_type": "execute_result"
    },
    {
     "data": {
      "text/plain": "<Figure size 800x600 with 1 Axes>",
      "image/png": "[encoded data removed]"
     },
     "metadata": {},
     "output_type": "display_data"
    }
   ],
   "source": [
    "minority_ratio = df_adasyn['W_DEFAULT'].value_counts()[1] / \\\n",
    "    df_adasyn['W_DEFAULT'].value_counts()[0]\n",
    "\n",
    "print(f\"Ratio of minority class to majority: {minority_ratio:.2f}\")\n",
    "\n",
    "sns.countplot(data=df_adasyn, x='W_DEFAULT').set_title('ADASYN Balanced')"
   ]
  },
  {
   "cell_type": "code",
   "outputs": [
    {
     "data": {
      "text/plain": "Index(['SK_ID_CURR', 'Tenure_Months', 'Avg_Monthly_Balance',\n       'Avg_Monthly_Utilization', 'Max_Monthly_Utilization',\n       'Pct_Txns_Fully_Paid', 'Months_Fully_Paid', 'Pct_Txns_Minimum_Paid',\n       'Months_Minimum_Paid', 'Payment_MinPayment_Ratio_mean',\n       'Avg_AMT_Other_Ratio', 'Avg_AMT_ATM_Ratio', 'Avg_AMT_POS_Ratio',\n       'Avg_CNT_Other_Ratio', 'Avg_CNT_ATM_Ratio', 'Avg_CNT_POS_Ratio',\n       'AMT_CREDIT_LIMIT_ACTUAL', 'W_DEFAULT', 'FLAG_OWN_CAR',\n       'FLAG_OWN_REALTY', 'CNT_CHILDREN', 'AMT_INCOME_TOTAL', 'DAYS_EMPLOYED',\n       'OWN_CAR_AGE', 'CNT_FAM_MEMBERS', 'Age_Years', 'Employed_Months',\n       'CODE_GENDER_M', 'EXT_SOURCE_best', 'EXT_SOURCE_worst',\n       'credit_limit_income_ratio', 'LATE_PAYMENT_DAYS', 'AMT_LESS_TOTAL',\n       'AMT_LESS_MAX', 'DAYS_LATE_AVG', 'DAYS_LATE_MAX', 'SK_DPD_DEF',\n       'LESS_GRANTED', 'REJECTED_APPLICATIONS', 'AMT_CREDIT_SUM_TOTAL',\n       'AMT_CREDIT_SUM_DEBT_TOTAL', 'AMT_CREDIT_SUM_LIMIT_TOTAL',\n       'AMT_CREDIT_SUM_OVERDUE_TOTAL', 'NAME_INCOME_TYPE_Commercial associate',\n       'NAME_INCOME_TYPE_Pensioner', 'NAME_INCOME_TYPE_State servant',\n       'NAME_INCOME_TYPE_Student', 'NAME_INCOME_TYPE_Working',\n       'NAME_EDUCATION_TYPE_Academic degree',\n       'NAME_EDUCATION_TYPE_Higher education',\n       'NAME_EDUCATION_TYPE_Incomplete higher',\n       'NAME_EDUCATION_TYPE_Lower secondary',\n       'NAME_EDUCATION_TYPE_Secondary / secondary special',\n       'NAME_FAMILY_STATUS_Civil marriage', 'NAME_FAMILY_STATUS_Married',\n       'NAME_FAMILY_STATUS_Separated',\n       'NAME_FAMILY_STATUS_Single / not married', 'NAME_FAMILY_STATUS_Widow',\n       'NAME_HOUSING_TYPE_Co-op apartment',\n       'NAME_HOUSING_TYPE_House / apartment',\n       'NAME_HOUSING_TYPE_Municipal apartment',\n       'NAME_HOUSING_TYPE_Office apartment',\n       'NAME_HOUSING_TYPE_Rented apartment', 'NAME_HOUSING_TYPE_With parents',\n       'OCCUPATION_TYPE_Accountants', 'OCCUPATION_TYPE_Cleaning staff',\n       'OCCUPATION_TYPE_Cooking staff', 'OCCUPATION_TYPE_Core staff',\n       'OCCUPATION_TYPE_Drivers', 'OCCUPATION_TYPE_HR staff',\n       'OCCUPATION_TYPE_High skill tech staff', 'OCCUPATION_TYPE_IT staff',\n       'OCCUPATION_TYPE_Laborers', 'OCCUPATION_TYPE_Low-skill Laborers',\n       'OCCUPATION_TYPE_Managers', 'OCCUPATION_TYPE_Medicine staff',\n       'OCCUPATION_TYPE_Private service staff',\n       'OCCUPATION_TYPE_Realty agents', 'OCCUPATION_TYPE_Sales staff',\n       'OCCUPATION_TYPE_Secretaries', 'OCCUPATION_TYPE_Security staff',\n       'OCCUPATION_TYPE_Waiters/barmen staff'],\n      dtype='object')"
     },
     "execution_count": 208,
     "metadata": {},
     "output_type": "execute_result"
    }
   ],
   "source": [
    "df_joined.columns"
   ],
   "metadata": {
    "collapsed": false,
    "ExecuteTime": {
     "end_time": "2024-11-26T14:54:54.069617Z",
     "start_time": "2024-11-26T14:54:54.065244Z"
    }
   },
   "execution_count": 208
  },
  {
   "cell_type": "code",
   "execution_count": 209,
   "metadata": {
    "ExecuteTime": {
     "end_time": "2024-11-26T14:54:54.885439Z",
     "start_time": "2024-11-26T14:54:54.070743Z"
    }
   },
   "outputs": [
    {
     "data": {
      "text/plain": "   SK_ID_CURR  Tenure_Months  Avg_Monthly_Balance  Avg_Monthly_Utilization  \\\n0      344496       0.112994             0.003467                 0.000000   \n1      228692       0.045198             0.083030                 0.676647   \n2      281930       0.141243             0.087547                 0.302559   \n3      298803       0.022599             0.103580                 0.460726   \n4      450479       0.412429             0.006406                 0.020289   \n\n   Max_Monthly_Utilization  Pct_Txns_Fully_Paid  Months_Fully_Paid  \\\n0                 0.000000             1.000000           0.142857   \n1                 1.038296             0.111111           0.006803   \n2                 0.878619             0.307692           0.054422   \n3                 0.916242             0.000000           0.000000   \n4                 0.311094             0.878378           0.442177   \n\n   Pct_Txns_Minimum_Paid  Months_Minimum_Paid  Payment_MinPayment_Ratio_mean  \\\n0               0.000000             0.000000                            0.0   \n1               0.000000             0.000000                            0.0   \n2               0.000000             0.000000                            0.0   \n3               0.200000             0.010417                            0.0   \n4               0.027027             0.020833                            0.0   \n\n   ...  OCCUPATION_TYPE_Low-skill Laborers  OCCUPATION_TYPE_Managers  \\\n0  ...                                   0                         0   \n1  ...                                   0                         0   \n2  ...                                   0                         0   \n3  ...                                   0                         0   \n4  ...                                   0                         0   \n\n   OCCUPATION_TYPE_Medicine staff  OCCUPATION_TYPE_Private service staff  \\\n0                               0                                      1   \n1                               0                                      0   \n2                               0                                      0   \n3                               0                                      0   \n4                               0                                      0   \n\n   OCCUPATION_TYPE_Realty agents  OCCUPATION_TYPE_Sales staff  \\\n0                              0                            0   \n1                              0                            0   \n2                              0                            1   \n3                              0                            0   \n4                              0                            1   \n\n   OCCUPATION_TYPE_Secretaries  OCCUPATION_TYPE_Security staff  \\\n0                            0                               0   \n1                            0                               0   \n2                            0                               0   \n3                            0                               0   \n4                            0                               0   \n\n   OCCUPATION_TYPE_Waiters/barmen staff  W_DEFAULT  \n0                                     0        0.0  \n1                                     0        0.0  \n2                                     0        0.0  \n3                                     0        1.0  \n4                                     0        0.0  \n\n[5 rows x 82 columns]",
      "text/html": "<div>\n<style scoped>\n    .dataframe tbody tr th:only-of-type {\n        vertical-align: middle;\n    }\n\n    .dataframe tbody tr th {\n        vertical-align: top;\n    }\n\n    .dataframe thead th {\n        text-align: right;\n    }\n</style>\n<table border=\"1\" class=\"dataframe\">\n  <thead>\n    <tr style=\"text-align: right;\">\n      <th></th>\n      <th>SK_ID_CURR</th>\n      <th>Tenure_Months</th>\n      <th>Avg_Monthly_Balance</th>\n      <th>Avg_Monthly_Utilization</th>\n      <th>Max_Monthly_Utilization</th>\n      <th>Pct_Txns_Fully_Paid</th>\n      <th>Months_Fully_Paid</th>\n      <th>Pct_Txns_Minimum_Paid</th>\n      <th>Months_Minimum_Paid</th>\n      <th>Payment_MinPayment_Ratio_mean</th>\n      <th>...</th>\n      <th>OCCUPATION_TYPE_Low-skill Laborers</th>\n      <th>OCCUPATION_TYPE_Managers</th>\n      <th>OCCUPATION_TYPE_Medicine staff</th>\n      <th>OCCUPATION_TYPE_Private service staff</th>\n      <th>OCCUPATION_TYPE_Realty agents</th>\n      <th>OCCUPATION_TYPE_Sales staff</th>\n      <th>OCCUPATION_TYPE_Secretaries</th>\n      <th>OCCUPATION_TYPE_Security staff</th>\n      <th>OCCUPATION_TYPE_Waiters/barmen staff</th>\n      <th>W_DEFAULT</th>\n    </tr>\n  </thead>\n  <tbody>\n    <tr>\n      <th>0</th>\n      <td>344496</td>\n      <td>0.112994</td>\n      <td>0.003467</td>\n      <td>0.000000</td>\n      <td>0.000000</td>\n      <td>1.000000</td>\n      <td>0.142857</td>\n      <td>0.000000</td>\n      <td>0.000000</td>\n      <td>0.0</td>\n      <td>...</td>\n      <td>0</td>\n      <td>0</td>\n      <td>0</td>\n      <td>1</td>\n      <td>0</td>\n      <td>0</td>\n      <td>0</td>\n      <td>0</td>\n      <td>0</td>\n      <td>0.0</td>\n    </tr>\n    <tr>\n      <th>1</th>\n      <td>228692</td>\n      <td>0.045198</td>\n      <td>0.083030</td>\n      <td>0.676647</td>\n      <td>1.038296</td>\n      <td>0.111111</td>\n      <td>0.006803</td>\n      <td>0.000000</td>\n      <td>0.000000</td>\n      <td>0.0</td>\n      <td>...</td>\n      <td>0</td>\n      <td>0</td>\n      <td>0</td>\n      <td>0</td>\n      <td>0</td>\n      <td>0</td>\n      <td>0</td>\n      <td>0</td>\n      <td>0</td>\n      <td>0.0</td>\n    </tr>\n    <tr>\n      <th>2</th>\n      <td>281930</td>\n      <td>0.141243</td>\n      <td>0.087547</td>\n      <td>0.302559</td>\n      <td>0.878619</td>\n      <td>0.307692</td>\n      <td>0.054422</td>\n      <td>0.000000</td>\n      <td>0.000000</td>\n      <td>0.0</td>\n      <td>...</td>\n      <td>0</td>\n      <td>0</td>\n      <td>0</td>\n      <td>0</td>\n      <td>0</td>\n      <td>1</td>\n      <td>0</td>\n      <td>0</td>\n      <td>0</td>\n      <td>0.0</td>\n    </tr>\n    <tr>\n      <th>3</th>\n      <td>298803</td>\n      <td>0.022599</td>\n      <td>0.103580</td>\n      <td>0.460726</td>\n      <td>0.916242</td>\n      <td>0.000000</td>\n      <td>0.000000</td>\n      <td>0.200000</td>\n      <td>0.010417</td>\n      <td>0.0</td>\n      <td>...</td>\n      <td>0</td>\n      <td>0</td>\n      <td>0</td>\n      <td>0</td>\n      <td>0</td>\n      <td>0</td>\n      <td>0</td>\n      <td>0</td>\n      <td>0</td>\n      <td>1.0</td>\n    </tr>\n    <tr>\n      <th>4</th>\n      <td>450479</td>\n      <td>0.412429</td>\n      <td>0.006406</td>\n      <td>0.020289</td>\n      <td>0.311094</td>\n      <td>0.878378</td>\n      <td>0.442177</td>\n      <td>0.027027</td>\n      <td>0.020833</td>\n      <td>0.0</td>\n      <td>...</td>\n      <td>0</td>\n      <td>0</td>\n      <td>0</td>\n      <td>0</td>\n      <td>0</td>\n      <td>1</td>\n      <td>0</td>\n      <td>0</td>\n      <td>0</td>\n      <td>0.0</td>\n    </tr>\n  </tbody>\n</table>\n<p>5 rows × 82 columns</p>\n</div>"
     },
     "execution_count": 209,
     "metadata": {},
     "output_type": "execute_result"
    }
   ],
   "source": [
    "from imblearn.over_sampling import SMOTE\n",
    "\n",
    "smote = SMOTE(sampling_strategy='minority', random_state=42)\n",
    "X_res_smote, y_res_smote = smote.fit_resample(X_train, y_train)\n",
    "\n",
    "# Combine the resampled features and target variable into a single DataFrame\n",
    "df_smote = pd.concat([X_res_smote, y_res_smote], axis=1)\n",
    "\n",
    "df_smote.head()"
   ]
  },
  {
   "cell_type": "code",
   "execution_count": 210,
   "metadata": {
    "ExecuteTime": {
     "end_time": "2024-11-26T14:54:55.172022Z",
     "start_time": "2024-11-26T14:54:54.895125Z"
    }
   },
   "outputs": [
    {
     "name": "stdout",
     "output_type": "stream",
     "text": [
      "Ratio of minority class to majority: 1.00\n"
     ]
    },
    {
     "data": {
      "text/plain": "Text(0.5, 1.0, 'SMOTE Balanced')"
     },
     "execution_count": 210,
     "metadata": {},
     "output_type": "execute_result"
    },
    {
     "data": {
      "text/plain": "<Figure size 800x600 with 1 Axes>",
      "image/png": "[encoded data removed]"
     },
     "metadata": {},
     "output_type": "display_data"
    }
   ],
   "source": [
    "minority_ratio = df_smote['W_DEFAULT'].value_counts()[1] / \\\n",
    "    df_smote['W_DEFAULT'].value_counts()[0]\n",
    "\n",
    "print(f\"Ratio of minority class to majority: {minority_ratio:.2f}\")\n",
    "\n",
    "sns.countplot(data = df_smote, x = 'W_DEFAULT').set_title('SMOTE Balanced')"
   ]
  },
  {
   "cell_type": "code",
   "execution_count": 211,
   "metadata": {
    "ExecuteTime": {
     "end_time": "2024-11-26T14:54:55.221355Z",
     "start_time": "2024-11-26T14:54:55.173974Z"
    }
   },
   "outputs": [
    {
     "data": {
      "text/plain": "       SK_ID_CURR  Tenure_Months  Avg_Monthly_Balance  \\\n0          100011       0.412429             0.061929   \n1          100013       0.536723             0.022953   \n2          100023       0.039548             0.003467   \n3          100028       0.271186             0.012143   \n4          100036       0.062147             0.003467   \n...           ...            ...                  ...   \n88960      456242       0.039548             0.162529   \n88961      456244       0.197740             0.164581   \n88962      456246       0.039548             0.017563   \n88963      456247       0.531073             0.028379   \n88964      456250       0.062147             0.189738   \n\n       Avg_Monthly_Utilization  Max_Monthly_Utilization  Pct_Txns_Fully_Paid  \\\n0                     0.302678                 1.050000             0.554054   \n1                     0.115301                 1.024890             0.770833   \n2                     0.000000                 0.000000             1.000000   \n3                     0.035934                 0.165937             0.244898   \n4                     0.000000                 0.000000             1.000000   \n...                        ...                      ...                  ...   \n88960                 0.691240                 0.965666             0.000000   \n88961                 0.444874                 1.008061             0.527778   \n88962                 0.097309                 0.322149             0.250000   \n88963                 0.161225                 1.056679             0.684211   \n88964                 0.970018                 1.112272             0.000000   \n\n       Months_Fully_Paid  Pct_Txns_Minimum_Paid  Months_Minimum_Paid  \\\n0               0.278912               0.418919             0.322917   \n1               0.503401               0.000000             0.000000   \n2               0.054422               0.000000             0.000000   \n3               0.081633               0.142857             0.072917   \n4               0.081633               0.000000             0.000000   \n...                  ...                    ...                  ...   \n88960           0.000000               0.000000             0.000000   \n88961           0.129252               0.000000             0.000000   \n88962           0.013605               0.000000             0.000000   \n88963           0.442177               0.105263             0.104167   \n88964           0.000000               0.000000             0.000000   \n\n       Payment_MinPayment_Ratio_mean  ...  OCCUPATION_TYPE_Laborers  \\\n0                           0.502230  ...                         0   \n1                           0.865673  ...                         0   \n2                           0.000000  ...                         0   \n3                           0.000000  ...                         0   \n4                           0.000000  ...                         0   \n...                              ...  ...                       ...   \n88960                       3.936694  ...                         1   \n88961                       0.000000  ...                         0   \n88962                       7.790879  ...                         1   \n88963                       0.000000  ...                         0   \n88964                       0.170964  ...                         0   \n\n       OCCUPATION_TYPE_Low-skill Laborers  OCCUPATION_TYPE_Managers  \\\n0                                       0                         0   \n1                                       0                         0   \n2                                       0                         0   \n3                                       0                         0   \n4                                       0                         0   \n...                                   ...                       ...   \n88960                                   0                         0   \n88961                                   0                         0   \n88962                                   0                         0   \n88963                                   0                         0   \n88964                                   0                         0   \n\n       OCCUPATION_TYPE_Medicine staff  OCCUPATION_TYPE_Private service staff  \\\n0                                   0                                      0   \n1                                   0                                      0   \n2                                   0                                      0   \n3                                   0                                      0   \n4                                   0                                      1   \n...                               ...                                    ...   \n88960                               0                                      0   \n88961                               0                                      0   \n88962                               0                                      0   \n88963                               0                                      0   \n88964                               0                                      0   \n\n       OCCUPATION_TYPE_Realty agents  OCCUPATION_TYPE_Sales staff  \\\n0                                  0                            0   \n1                                  0                            0   \n2                                  0                            0   \n3                                  0                            1   \n4                                  0                            0   \n...                              ...                          ...   \n88960                              0                            0   \n88961                              0                            0   \n88962                              0                            0   \n88963                              0                            0   \n88964                              0                            0   \n\n       OCCUPATION_TYPE_Secretaries  OCCUPATION_TYPE_Security staff  \\\n0                                0                               0   \n1                                0                               0   \n2                                0                               0   \n3                                0                               0   \n4                                0                               0   \n...                            ...                             ...   \n88960                            0                               0   \n88961                            0                               0   \n88962                            0                               0   \n88963                            0                               0   \n88964                            0                               0   \n\n       OCCUPATION_TYPE_Waiters/barmen staff  \n0                                         0  \n1                                         0  \n2                                         0  \n3                                         0  \n4                                         0  \n...                                     ...  \n88960                                     0  \n88961                                     0  \n88962                                     0  \n88963                                     0  \n88964                                     0  \n\n[88965 rows x 82 columns]",
      "text/html": "<div>\n<style scoped>\n    .dataframe tbody tr th:only-of-type {\n        vertical-align: middle;\n    }\n\n    .dataframe tbody tr th {\n        vertical-align: top;\n    }\n\n    .dataframe thead th {\n        text-align: right;\n    }\n</style>\n<table border=\"1\" class=\"dataframe\">\n  <thead>\n    <tr style=\"text-align: right;\">\n      <th></th>\n      <th>SK_ID_CURR</th>\n      <th>Tenure_Months</th>\n      <th>Avg_Monthly_Balance</th>\n      <th>Avg_Monthly_Utilization</th>\n      <th>Max_Monthly_Utilization</th>\n      <th>Pct_Txns_Fully_Paid</th>\n      <th>Months_Fully_Paid</th>\n      <th>Pct_Txns_Minimum_Paid</th>\n      <th>Months_Minimum_Paid</th>\n      <th>Payment_MinPayment_Ratio_mean</th>\n      <th>...</th>\n      <th>OCCUPATION_TYPE_Laborers</th>\n      <th>OCCUPATION_TYPE_Low-skill Laborers</th>\n      <th>OCCUPATION_TYPE_Managers</th>\n      <th>OCCUPATION_TYPE_Medicine staff</th>\n      <th>OCCUPATION_TYPE_Private service staff</th>\n      <th>OCCUPATION_TYPE_Realty agents</th>\n      <th>OCCUPATION_TYPE_Sales staff</th>\n      <th>OCCUPATION_TYPE_Secretaries</th>\n      <th>OCCUPATION_TYPE_Security staff</th>\n      <th>OCCUPATION_TYPE_Waiters/barmen staff</th>\n    </tr>\n  </thead>\n  <tbody>\n    <tr>\n      <th>0</th>\n      <td>100011</td>\n      <td>0.412429</td>\n      <td>0.061929</td>\n      <td>0.302678</td>\n      <td>1.050000</td>\n      <td>0.554054</td>\n      <td>0.278912</td>\n      <td>0.418919</td>\n      <td>0.322917</td>\n      <td>0.502230</td>\n      <td>...</td>\n      <td>0</td>\n      <td>0</td>\n      <td>0</td>\n      <td>0</td>\n      <td>0</td>\n      <td>0</td>\n      <td>0</td>\n      <td>0</td>\n      <td>0</td>\n      <td>0</td>\n    </tr>\n    <tr>\n      <th>1</th>\n      <td>100013</td>\n      <td>0.536723</td>\n      <td>0.022953</td>\n      <td>0.115301</td>\n      <td>1.024890</td>\n      <td>0.770833</td>\n      <td>0.503401</td>\n      <td>0.000000</td>\n      <td>0.000000</td>\n      <td>0.865673</td>\n      <td>...</td>\n      <td>0</td>\n      <td>0</td>\n      <td>0</td>\n      <td>0</td>\n      <td>0</td>\n      <td>0</td>\n      <td>0</td>\n      <td>0</td>\n      <td>0</td>\n      <td>0</td>\n    </tr>\n    <tr>\n      <th>2</th>\n      <td>100023</td>\n      <td>0.039548</td>\n      <td>0.003467</td>\n      <td>0.000000</td>\n      <td>0.000000</td>\n      <td>1.000000</td>\n      <td>0.054422</td>\n      <td>0.000000</td>\n      <td>0.000000</td>\n      <td>0.000000</td>\n      <td>...</td>\n      <td>0</td>\n      <td>0</td>\n      <td>0</td>\n      <td>0</td>\n      <td>0</td>\n      <td>0</td>\n      <td>0</td>\n      <td>0</td>\n      <td>0</td>\n      <td>0</td>\n    </tr>\n    <tr>\n      <th>3</th>\n      <td>100028</td>\n      <td>0.271186</td>\n      <td>0.012143</td>\n      <td>0.035934</td>\n      <td>0.165937</td>\n      <td>0.244898</td>\n      <td>0.081633</td>\n      <td>0.142857</td>\n      <td>0.072917</td>\n      <td>0.000000</td>\n      <td>...</td>\n      <td>0</td>\n      <td>0</td>\n      <td>0</td>\n      <td>0</td>\n      <td>0</td>\n      <td>0</td>\n      <td>1</td>\n      <td>0</td>\n      <td>0</td>\n      <td>0</td>\n    </tr>\n    <tr>\n      <th>4</th>\n      <td>100036</td>\n      <td>0.062147</td>\n      <td>0.003467</td>\n      <td>0.000000</td>\n      <td>0.000000</td>\n      <td>1.000000</td>\n      <td>0.081633</td>\n      <td>0.000000</td>\n      <td>0.000000</td>\n      <td>0.000000</td>\n      <td>...</td>\n      <td>0</td>\n      <td>0</td>\n      <td>0</td>\n      <td>0</td>\n      <td>1</td>\n      <td>0</td>\n      <td>0</td>\n      <td>0</td>\n      <td>0</td>\n      <td>0</td>\n    </tr>\n    <tr>\n      <th>...</th>\n      <td>...</td>\n      <td>...</td>\n      <td>...</td>\n      <td>...</td>\n      <td>...</td>\n      <td>...</td>\n      <td>...</td>\n      <td>...</td>\n      <td>...</td>\n      <td>...</td>\n      <td>...</td>\n      <td>...</td>\n      <td>...</td>\n      <td>...</td>\n      <td>...</td>\n      <td>...</td>\n      <td>...</td>\n      <td>...</td>\n      <td>...</td>\n      <td>...</td>\n      <td>...</td>\n    </tr>\n    <tr>\n      <th>88960</th>\n      <td>456242</td>\n      <td>0.039548</td>\n      <td>0.162529</td>\n      <td>0.691240</td>\n      <td>0.965666</td>\n      <td>0.000000</td>\n      <td>0.000000</td>\n      <td>0.000000</td>\n      <td>0.000000</td>\n      <td>3.936694</td>\n      <td>...</td>\n      <td>1</td>\n      <td>0</td>\n      <td>0</td>\n      <td>0</td>\n      <td>0</td>\n      <td>0</td>\n      <td>0</td>\n      <td>0</td>\n      <td>0</td>\n      <td>0</td>\n    </tr>\n    <tr>\n      <th>88961</th>\n      <td>456244</td>\n      <td>0.197740</td>\n      <td>0.164581</td>\n      <td>0.444874</td>\n      <td>1.008061</td>\n      <td>0.527778</td>\n      <td>0.129252</td>\n      <td>0.000000</td>\n      <td>0.000000</td>\n      <td>0.000000</td>\n      <td>...</td>\n      <td>0</td>\n      <td>0</td>\n      <td>0</td>\n      <td>0</td>\n      <td>0</td>\n      <td>0</td>\n      <td>0</td>\n      <td>0</td>\n      <td>0</td>\n      <td>0</td>\n    </tr>\n    <tr>\n      <th>88962</th>\n      <td>456246</td>\n      <td>0.039548</td>\n      <td>0.017563</td>\n      <td>0.097309</td>\n      <td>0.322149</td>\n      <td>0.250000</td>\n      <td>0.013605</td>\n      <td>0.000000</td>\n      <td>0.000000</td>\n      <td>7.790879</td>\n      <td>...</td>\n      <td>1</td>\n      <td>0</td>\n      <td>0</td>\n      <td>0</td>\n      <td>0</td>\n      <td>0</td>\n      <td>0</td>\n      <td>0</td>\n      <td>0</td>\n      <td>0</td>\n    </tr>\n    <tr>\n      <th>88963</th>\n      <td>456247</td>\n      <td>0.531073</td>\n      <td>0.028379</td>\n      <td>0.161225</td>\n      <td>1.056679</td>\n      <td>0.684211</td>\n      <td>0.442177</td>\n      <td>0.105263</td>\n      <td>0.104167</td>\n      <td>0.000000</td>\n      <td>...</td>\n      <td>0</td>\n      <td>0</td>\n      <td>0</td>\n      <td>0</td>\n      <td>0</td>\n      <td>0</td>\n      <td>0</td>\n      <td>0</td>\n      <td>0</td>\n      <td>0</td>\n    </tr>\n    <tr>\n      <th>88964</th>\n      <td>456250</td>\n      <td>0.062147</td>\n      <td>0.189738</td>\n      <td>0.970018</td>\n      <td>1.112272</td>\n      <td>0.000000</td>\n      <td>0.000000</td>\n      <td>0.000000</td>\n      <td>0.000000</td>\n      <td>0.170964</td>\n      <td>...</td>\n      <td>0</td>\n      <td>0</td>\n      <td>0</td>\n      <td>0</td>\n      <td>0</td>\n      <td>0</td>\n      <td>0</td>\n      <td>0</td>\n      <td>0</td>\n      <td>0</td>\n    </tr>\n  </tbody>\n</table>\n<p>88965 rows × 82 columns</p>\n</div>"
     },
     "execution_count": 211,
     "metadata": {},
     "output_type": "execute_result"
    }
   ],
   "source": [
    "df_joined"
   ]
  },
  {
   "cell_type": "markdown",
   "source": [
    "XGB - ADASYN"
   ],
   "metadata": {
    "collapsed": false
   }
  },
  {
   "cell_type": "code",
   "outputs": [],
   "source": [
    "XGB = XGBClassifier(random_state=0, n_jobs=4)"
   ],
   "metadata": {
    "collapsed": false,
    "ExecuteTime": {
     "end_time": "2024-11-25T23:50:38.135015Z",
     "start_time": "2024-11-25T23:50:38.111615Z"
    }
   },
   "execution_count": 40
  },
  {
   "cell_type": "code",
   "outputs": [
    {
     "data": {
      "text/plain": "XGBClassifier(base_score=None, booster=None, callbacks=None,\n              colsample_bylevel=None, colsample_bynode=None,\n              colsample_bytree=None, device=None, early_stopping_rounds=None,\n              enable_categorical=False, eval_metric=None, feature_types=None,\n              gamma=None, grow_policy=None, importance_type=None,\n              interaction_constraints=None, learning_rate=None, max_bin=None,\n              max_cat_threshold=None, max_cat_to_onehot=None,\n              max_delta_step=None, max_depth=None, max_leaves=None,\n              min_child_weight=None, missing=nan, monotone_constraints=None,\n              multi_strategy=None, n_estimators=None, n_jobs=4,\n              num_parallel_tree=None, random_state=0, ...)",
      "text/html": "<style>#sk-container-id-1 {\n  /* Definition of color scheme common for light and dark mode */\n  --sklearn-color-text: black;\n  --sklearn-color-line: gray;\n  /* Definition of color scheme for unfitted estimators */\n  --sklearn-color-unfitted-level-0: #fff5e6;\n  --sklearn-color-unfitted-level-1: #f6e4d2;\n  --sklearn-color-unfitted-level-2: #ffe0b3;\n  --sklearn-color-unfitted-level-3: chocolate;\n  /* Definition of color scheme for fitted estimators */\n  --sklearn-color-fitted-level-0: #f0f8ff;\n  --sklearn-color-fitted-level-1: #d4ebff;\n  --sklearn-color-fitted-level-2: #b3dbfd;\n  --sklearn-color-fitted-level-3: cornflowerblue;\n\n  /* Specific color for light theme */\n  --sklearn-color-text-on-default-background: var(--sg-text-color, var(--theme-code-foreground, var(--jp-content-font-color1, black)));\n  --sklearn-color-background: var(--sg-background-color, var(--theme-background, var(--jp-layout-color0, white)));\n  --sklearn-color-border-box: var(--sg-text-color, var(--theme-code-foreground, var(--jp-content-font-color1, black)));\n  --sklearn-color-icon: #696969;\n\n  @media (prefers-color-scheme: dark) {\n    /* Redefinition of color scheme for dark theme */\n    --sklearn-color-text-on-default-background: var(--sg-text-color, var(--theme-code-foreground, var(--jp-content-font-color1, white)));\n    --sklearn-color-background: var(--sg-background-color, var(--theme-background, var(--jp-layout-color0, #111)));\n    --sklearn-color-border-box: var(--sg-text-color, var(--theme-code-foreground, var(--jp-content-font-color1, white)));\n    --sklearn-color-icon: #878787;\n  }\n}\n\n#sk-container-id-1 {\n  color: var(--sklearn-color-text);\n}\n\n#sk-container-id-1 pre {\n  padding: 0;\n}\n\n#sk-container-id-1 input.sk-hidden--visually {\n  border: 0;\n  clip: rect(1px 1px 1px 1px);\n  clip: rect(1px, 1px, 1px, 1px);\n  height: 1px;\n  margin: -1px;\n  overflow: hidden;\n  padding: 0;\n  position: absolute;\n  width: 1px;\n}\n\n#sk-container-id-1 div.sk-dashed-wrapped {\n  border: 1px dashed var(--sklearn-color-line);\n  margin: 0 0.4em 0.5em 0.4em;\n  box-sizing: border-box;\n  padding-bottom: 0.4em;\n  background-color: var(--sklearn-color-background);\n}\n\n#sk-container-id-1 div.sk-container {\n  /* jupyter's `normalize.less` sets `[hidden] { display: none; }`\n     but bootstrap.min.css set `[hidden] { display: none !important; }`\n     so we also need the `!important` here to be able to override the\n     default hidden behavior on the sphinx rendered scikit-learn.org.\n     See: https://github.com/scikit-learn/scikit-learn/issues/21755 */\n  display: inline-block !important;\n  position: relative;\n}\n\n#sk-container-id-1 div.sk-text-repr-fallback {\n  display: none;\n}\n\ndiv.sk-parallel-item,\ndiv.sk-serial,\ndiv.sk-item {\n  /* draw centered vertical line to link estimators */\n  background-image: linear-gradient(var(--sklearn-color-text-on-default-background), var(--sklearn-color-text-on-default-background));\n  background-size: 2px 100%;\n  background-repeat: no-repeat;\n  background-position: center center;\n}\n\n/* Parallel-specific style estimator block */\n\n#sk-container-id-1 div.sk-parallel-item::after {\n  content: \"\";\n  width: 100%;\n  border-bottom: 2px solid var(--sklearn-color-text-on-default-background);\n  flex-grow: 1;\n}\n\n#sk-container-id-1 div.sk-parallel {\n  display: flex;\n  align-items: stretch;\n  justify-content: center;\n  background-color: var(--sklearn-color-background);\n  position: relative;\n}\n\n#sk-container-id-1 div.sk-parallel-item {\n  display: flex;\n  flex-direction: column;\n}\n\n#sk-container-id-1 div.sk-parallel-item:first-child::after {\n  align-self: flex-end;\n  width: 50%;\n}\n\n#sk-container-id-1 div.sk-parallel-item:last-child::after {\n  align-self: flex-start;\n  width: 50%;\n}\n\n#sk-container-id-1 div.sk-parallel-item:only-child::after {\n  width: 0;\n}\n\n/* Serial-specific style estimator block */\n\n#sk-container-id-1 div.sk-serial {\n  display: flex;\n  flex-direction: column;\n  align-items: center;\n  background-color: var(--sklearn-color-background);\n  padding-right: 1em;\n  padding-left: 1em;\n}\n\n\n/* Toggleable style: style used for estimator/Pipeline/ColumnTransformer box that is\nclickable and can be expanded/collapsed.\n- Pipeline and ColumnTransformer use this feature and define the default style\n- Estimators will overwrite some part of the style using the `sk-estimator` class\n*/\n\n/* Pipeline and ColumnTransformer style (default) */\n\n#sk-container-id-1 div.sk-toggleable {\n  /* Default theme specific background. It is overwritten whether we have a\n  specific estimator or a Pipeline/ColumnTransformer */\n  background-color: var(--sklearn-color-background);\n}\n\n/* Toggleable label */\n#sk-container-id-1 label.sk-toggleable__label {\n  cursor: pointer;\n  display: block;\n  width: 100%;\n  margin-bottom: 0;\n  padding: 0.5em;\n  box-sizing: border-box;\n  text-align: center;\n}\n\n#sk-container-id-1 label.sk-toggleable__label-arrow:before {\n  /* Arrow on the left of the label */\n  content: \"▸\";\n  float: left;\n  margin-right: 0.25em;\n  color: var(--sklearn-color-icon);\n}\n\n#sk-container-id-1 label.sk-toggleable__label-arrow:hover:before {\n  color: var(--sklearn-color-text);\n}\n\n/* Toggleable content - dropdown */\n\n#sk-container-id-1 div.sk-toggleable__content {\n  max-height: 0;\n  max-width: 0;\n  overflow: hidden;\n  text-align: left;\n  /* unfitted */\n  background-color: var(--sklearn-color-unfitted-level-0);\n}\n\n#sk-container-id-1 div.sk-toggleable__content.fitted {\n  /* fitted */\n  background-color: var(--sklearn-color-fitted-level-0);\n}\n\n#sk-container-id-1 div.sk-toggleable__content pre {\n  margin: 0.2em;\n  border-radius: 0.25em;\n  color: var(--sklearn-color-text);\n  /* unfitted */\n  background-color: var(--sklearn-color-unfitted-level-0);\n}\n\n#sk-container-id-1 div.sk-toggleable__content.fitted pre {\n  /* unfitted */\n  background-color: var(--sklearn-color-fitted-level-0);\n}\n\n#sk-container-id-1 input.sk-toggleable__control:checked~div.sk-toggleable__content {\n  /* Expand drop-down */\n  max-height: 200px;\n  max-width: 100%;\n  overflow: auto;\n}\n\n#sk-container-id-1 input.sk-toggleable__control:checked~label.sk-toggleable__label-arrow:before {\n  content: \"▾\";\n}\n\n/* Pipeline/ColumnTransformer-specific style */\n\n#sk-container-id-1 div.sk-label input.sk-toggleable__control:checked~label.sk-toggleable__label {\n  color: var(--sklearn-color-text);\n  background-color: var(--sklearn-color-unfitted-level-2);\n}\n\n#sk-container-id-1 div.sk-label.fitted input.sk-toggleable__control:checked~label.sk-toggleable__label {\n  background-color: var(--sklearn-color-fitted-level-2);\n}\n\n/* Estimator-specific style */\n\n/* Colorize estimator box */\n#sk-container-id-1 div.sk-estimator input.sk-toggleable__control:checked~label.sk-toggleable__label {\n  /* unfitted */\n  background-color: var(--sklearn-color-unfitted-level-2);\n}\n\n#sk-container-id-1 div.sk-estimator.fitted input.sk-toggleable__control:checked~label.sk-toggleable__label {\n  /* fitted */\n  background-color: var(--sklearn-color-fitted-level-2);\n}\n\n#sk-container-id-1 div.sk-label label.sk-toggleable__label,\n#sk-container-id-1 div.sk-label label {\n  /* The background is the default theme color */\n  color: var(--sklearn-color-text-on-default-background);\n}\n\n/* On hover, darken the color of the background */\n#sk-container-id-1 div.sk-label:hover label.sk-toggleable__label {\n  color: var(--sklearn-color-text);\n  background-color: var(--sklearn-color-unfitted-level-2);\n}\n\n/* Label box, darken color on hover, fitted */\n#sk-container-id-1 div.sk-label.fitted:hover label.sk-toggleable__label.fitted {\n  color: var(--sklearn-color-text);\n  background-color: var(--sklearn-color-fitted-level-2);\n}\n\n/* Estimator label */\n\n#sk-container-id-1 div.sk-label label {\n  font-family: monospace;\n  font-weight: bold;\n  display: inline-block;\n  line-height: 1.2em;\n}\n\n#sk-container-id-1 div.sk-label-container {\n  text-align: center;\n}\n\n/* Estimator-specific */\n#sk-container-id-1 div.sk-estimator {\n  font-family: monospace;\n  border: 1px dotted var(--sklearn-color-border-box);\n  border-radius: 0.25em;\n  box-sizing: border-box;\n  margin-bottom: 0.5em;\n  /* unfitted */\n  background-color: var(--sklearn-color-unfitted-level-0);\n}\n\n#sk-container-id-1 div.sk-estimator.fitted {\n  /* fitted */\n  background-color: var(--sklearn-color-fitted-level-0);\n}\n\n/* on hover */\n#sk-container-id-1 div.sk-estimator:hover {\n  /* unfitted */\n  background-color: var(--sklearn-color-unfitted-level-2);\n}\n\n#sk-container-id-1 div.sk-estimator.fitted:hover {\n  /* fitted */\n  background-color: var(--sklearn-color-fitted-level-2);\n}\n\n/* Specification for estimator info (e.g. \"i\" and \"?\") */\n\n/* Common style for \"i\" and \"?\" */\n\n.sk-estimator-doc-link,\na:link.sk-estimator-doc-link,\na:visited.sk-estimator-doc-link {\n  float: right;\n  font-size: smaller;\n  line-height: 1em;\n  font-family: monospace;\n  background-color: var(--sklearn-color-background);\n  border-radius: 1em;\n  height: 1em;\n  width: 1em;\n  text-decoration: none !important;\n  margin-left: 1ex;\n  /* unfitted */\n  border: var(--sklearn-color-unfitted-level-1) 1pt solid;\n  color: var(--sklearn-color-unfitted-level-1);\n}\n\n.sk-estimator-doc-link.fitted,\na:link.sk-estimator-doc-link.fitted,\na:visited.sk-estimator-doc-link.fitted {\n  /* fitted */\n  border: var(--sklearn-color-fitted-level-1) 1pt solid;\n  color: var(--sklearn-color-fitted-level-1);\n}\n\n/* On hover */\ndiv.sk-estimator:hover .sk-estimator-doc-link:hover,\n.sk-estimator-doc-link:hover,\ndiv.sk-label-container:hover .sk-estimator-doc-link:hover,\n.sk-estimator-doc-link:hover {\n  /* unfitted */\n  background-color: var(--sklearn-color-unfitted-level-3);\n  color: var(--sklearn-color-background);\n  text-decoration: none;\n}\n\ndiv.sk-estimator.fitted:hover .sk-estimator-doc-link.fitted:hover,\n.sk-estimator-doc-link.fitted:hover,\ndiv.sk-label-container:hover .sk-estimator-doc-link.fitted:hover,\n.sk-estimator-doc-link.fitted:hover {\n  /* fitted */\n  background-color: var(--sklearn-color-fitted-level-3);\n  color: var(--sklearn-color-background);\n  text-decoration: none;\n}\n\n/* Span, style for the box shown on hovering the info icon */\n.sk-estimator-doc-link span {\n  display: none;\n  z-index: 9999;\n  position: relative;\n  font-weight: normal;\n  right: .2ex;\n  padding: .5ex;\n  margin: .5ex;\n  width: min-content;\n  min-width: 20ex;\n  max-width: 50ex;\n  color: var(--sklearn-color-text);\n  box-shadow: 2pt 2pt 4pt #999;\n  /* unfitted */\n  background: var(--sklearn-color-unfitted-level-0);\n  border: .5pt solid var(--sklearn-color-unfitted-level-3);\n}\n\n.sk-estimator-doc-link.fitted span {\n  /* fitted */\n  background: var(--sklearn-color-fitted-level-0);\n  border: var(--sklearn-color-fitted-level-3);\n}\n\n.sk-estimator-doc-link:hover span {\n  display: block;\n}\n\n/* \"?\"-specific style due to the `<a>` HTML tag */\n\n#sk-container-id-1 a.estimator_doc_link {\n  float: right;\n  font-size: 1rem;\n  line-height: 1em;\n  font-family: monospace;\n  background-color: var(--sklearn-color-background);\n  border-radius: 1rem;\n  height: 1rem;\n  width: 1rem;\n  text-decoration: none;\n  /* unfitted */\n  color: var(--sklearn-color-unfitted-level-1);\n  border: var(--sklearn-color-unfitted-level-1) 1pt solid;\n}\n\n#sk-container-id-1 a.estimator_doc_link.fitted {\n  /* fitted */\n  border: var(--sklearn-color-fitted-level-1) 1pt solid;\n  color: var(--sklearn-color-fitted-level-1);\n}\n\n/* On hover */\n#sk-container-id-1 a.estimator_doc_link:hover {\n  /* unfitted */\n  background-color: var(--sklearn-color-unfitted-level-3);\n  color: var(--sklearn-color-background);\n  text-decoration: none;\n}\n\n#sk-container-id-1 a.estimator_doc_link.fitted:hover {\n  /* fitted */\n  background-color: var(--sklearn-color-fitted-level-3);\n}\n</style><div id=\"sk-container-id-1\" class=\"sk-top-container\"><div class=\"sk-text-repr-fallback\"><pre>XGBClassifier(base_score=None, booster=None, callbacks=None,\n              colsample_bylevel=None, colsample_bynode=None,\n              colsample_bytree=None, device=None, early_stopping_rounds=None,\n              enable_categorical=False, eval_metric=None, feature_types=None,\n              gamma=None, grow_policy=None, importance_type=None,\n              interaction_constraints=None, learning_rate=None, max_bin=None,\n              max_cat_threshold=None, max_cat_to_onehot=None,\n              max_delta_step=None, max_depth=None, max_leaves=None,\n              min_child_weight=None, missing=nan, monotone_constraints=None,\n              multi_strategy=None, n_estimators=None, n_jobs=4,\n              num_parallel_tree=None, random_state=0, ...)</pre><b>In a Jupyter environment, please rerun this cell to show the HTML representation or trust the notebook. <br />On GitHub, the HTML representation is unable to render, please try loading this page with nbviewer.org.</b></div><div class=\"sk-container\" hidden><div class=\"sk-item\"><div class=\"sk-estimator fitted sk-toggleable\"><input class=\"sk-toggleable__control sk-hidden--visually\" id=\"sk-estimator-id-1\" type=\"checkbox\" checked><label for=\"sk-estimator-id-1\" class=\"sk-toggleable__label fitted sk-toggleable__label-arrow fitted\">&nbsp;XGBClassifier<span class=\"sk-estimator-doc-link fitted\">i<span>Fitted</span></span></label><div class=\"sk-toggleable__content fitted\"><pre>XGBClassifier(base_score=None, booster=None, callbacks=None,\n              colsample_bylevel=None, colsample_bynode=None,\n              colsample_bytree=None, device=None, early_stopping_rounds=None,\n              enable_categorical=False, eval_metric=None, feature_types=None,\n              gamma=None, grow_policy=None, importance_type=None,\n              interaction_constraints=None, learning_rate=None, max_bin=None,\n              max_cat_threshold=None, max_cat_to_onehot=None,\n              max_delta_step=None, max_depth=None, max_leaves=None,\n              min_child_weight=None, missing=nan, monotone_constraints=None,\n              multi_strategy=None, n_estimators=None, n_jobs=4,\n              num_parallel_tree=None, random_state=0, ...)</pre></div> </div></div></div></div>"
     },
     "execution_count": 41,
     "metadata": {},
     "output_type": "execute_result"
    }
   ],
   "source": [
    "XGB.fit(X_res, y_res)"
   ],
   "metadata": {
    "collapsed": false,
    "ExecuteTime": {
     "end_time": "2024-11-25T23:50:46.072404Z",
     "start_time": "2024-11-25T23:50:44.063037Z"
    }
   },
   "execution_count": 41
  },
  {
   "cell_type": "code",
   "outputs": [],
   "source": [
    "y_pred_XGB = XGB.predict(X_test)"
   ],
   "metadata": {
    "collapsed": false,
    "ExecuteTime": {
     "end_time": "2024-11-25T23:50:53.658546Z",
     "start_time": "2024-11-25T23:50:53.595738Z"
    }
   },
   "execution_count": 42
  },
  {
   "cell_type": "code",
   "outputs": [
    {
     "name": "stdout",
     "output_type": "stream",
     "text": [
      "Accuracy: 0.9211\n",
      "Precision: 0.3168\n",
      "Recall: 0.0635\n",
      "F1 score: 0.1057\n",
      "MCC: 0.1140\n"
     ]
    }
   ],
   "source": [
    "# Compute evaluation metrics\n",
    "accuracy = accuracy_score(y_test, y_pred_XGB)\n",
    "precision = precision_score(y_test, y_pred_XGB)\n",
    "recall = recall_score(y_test, y_pred_XGB)\n",
    "f1 = f1_score(y_test, y_pred_XGB)\n",
    "mcc = matthews_corrcoef(y_test, y_pred_XGB)\n",
    "\n",
    "# Print the results\n",
    "print(f\"Accuracy: {accuracy:.4f}\")\n",
    "print(f\"Precision: {precision:.4f}\")\n",
    "print(f\"Recall: {recall:.4f}\")\n",
    "print(f\"F1 score: {f1:.4f}\")\n",
    "print(f\"MCC: {mcc:.4f}\")"
   ],
   "metadata": {
    "collapsed": false,
    "ExecuteTime": {
     "end_time": "2024-11-25T23:50:57.685317Z",
     "start_time": "2024-11-25T23:50:57.641299Z"
    }
   },
   "execution_count": 43
  },
  {
   "cell_type": "code",
   "outputs": [
    {
     "data": {
      "text/plain": "<Figure size 800x600 with 2 Axes>",
      "image/png": "[encoded data removed]"
     },
     "metadata": {},
     "output_type": "display_data"
    }
   ],
   "source": [
    "confusion_matrix = metrics.confusion_matrix(y_test, y_pred_XGB)\n",
    "cm_display = ConfusionMatrixDisplay(confusion_matrix=confusion_matrix, display_labels=[0, 1])\n",
    "cm_display.plot()\n",
    "plt.title(\"XGBoost With ADASYN\")\n",
    "plt.show()"
   ],
   "metadata": {
    "collapsed": false,
    "ExecuteTime": {
     "end_time": "2024-11-26T05:23:49.470272Z",
     "start_time": "2024-11-26T05:23:47.116658Z"
    }
   },
   "execution_count": 75
  },
  {
   "cell_type": "markdown",
   "source": [
    "XGB with ADASYN-RFECV"
   ],
   "metadata": {
    "collapsed": false
   }
  },
  {
   "cell_type": "code",
   "outputs": [
    {
     "name": "stdout",
     "output_type": "stream",
     "text": [
      "Model training started at: 2024-11-26 19:38:43\n",
      "Fitting 5 folds for each of 60 candidates, totalling 300 fits\n"
     ]
    },
    {
     "name": "stderr",
     "output_type": "stream",
     "text": [
      "Python(10991) MallocStackLogging: can't turn off malloc stack logging because it was not enabled.\n",
      "Python(10993) MallocStackLogging: can't turn off malloc stack logging because it was not enabled.\n",
      "Python(10994) MallocStackLogging: can't turn off malloc stack logging because it was not enabled.\n",
      "Python(10995) MallocStackLogging: can't turn off malloc stack logging because it was not enabled.\n",
      "Python(10997) MallocStackLogging: can't turn off malloc stack logging because it was not enabled.\n",
      "Python(10998) MallocStackLogging: can't turn off malloc stack logging because it was not enabled.\n",
      "Python(10999) MallocStackLogging: can't turn off malloc stack logging because it was not enabled.\n",
      "Python(11000) MallocStackLogging: can't turn off malloc stack logging because it was not enabled.\n"
     ]
    },
    {
     "name": "stdout",
     "output_type": "stream",
     "text": [
      "Model training ended at: 2024-11-26 20:24:53\n",
      "Total Training Time: 2769.78 seconds\n",
      "Best Parameters:  {'learning_rate': 0.03, 'max_depth': 20, 'n_estimators': 200}\n",
      "\n",
      "Model Performance:\n",
      "Accuracy: 0.9238\n",
      "Precision: 0.3182\n",
      "Recall: 0.0321\n",
      "F1 Score: 0.0583\n",
      "MCC: 0.0811\n",
      "ROC AUC: 0.7331\n",
      "Precision-Recall AUC (PR AUC): 0.1863\n",
      "Classification Report:\n",
      "              precision    recall  f1-score   support\n",
      "\n",
      "         0.0       0.93      0.99      0.96     16485\n",
      "         1.0       0.32      0.03      0.06      1308\n",
      "\n",
      "    accuracy                           0.92     17793\n",
      "   macro avg       0.62      0.51      0.51     17793\n",
      "weighted avg       0.88      0.92      0.89     17793\n",
      "\n",
      "Confusion Matrix:\n",
      "[[16395    90]\n",
      " [ 1266    42]]\n"
     ]
    }
   ],
   "source": [
    "from sklearn.metrics import average_precision_score\n",
    "\n",
    "# Define hyperparameter grid\n",
    "param_grid = {\n",
    "    'n_estimators': [50, 100, 200, 300],\n",
    "    'learning_rate': [0.01, 0.03, 0.5, 0.8, 1],\n",
    "    'max_depth': [1, 10],\n",
    "    'scale_pos_weight': [10, 12.5, 15]\n",
    "}\n",
    "\n",
    "XGB_ADASYN_RFECV = XGBClassifier(random_state=0, n_jobs=-1)\n",
    "rfecv_XGB = RFECV(estimator=XGB_ADASYN_RFECV, step=1, cv=10, scoring='accuracy', n_jobs=-1)\n",
    "\n",
    "# Create pipeline\n",
    "pipeline = Pipeline([\n",
    "    #('feature_selection', rfecv_XGB)\n",
    "    ('classification', XGB_ADASYN_RFECV)\n",
    "])\n",
    "\n",
    "# Perform GridSearchCV\n",
    "grid_search = GridSearchCV(\n",
    "    estimator=XGB_ADASYN_RFECV,\n",
    "    param_grid=param_grid,\n",
    "    scoring='roc_auc',\n",
    "    cv=5,\n",
    "    n_jobs=-1,\n",
    "    verbose=1\n",
    ")\n",
    "\n",
    "# Record start time\n",
    "start_time = time.time()\n",
    "# Print timing\n",
    "print(f\"Model training started at: {time.strftime('%Y-%m-%d %H:%M:%S', time.localtime(start_time))}\")\n",
    "\n",
    "# Fit the model\n",
    "grid_search.fit(X_res, y_res)\n",
    "\n",
    "# Record end time\n",
    "end_time = time.time()\n",
    "\n",
    "print(f\"Model training ended at: {time.strftime('%Y-%m-%d %H:%M:%S', time.localtime(end_time))}\")\n",
    "print(f\"Total Training Time: {end_time - start_time:.2f} seconds\")\n",
    "\n",
    "# Print the best parameters\n",
    "print(\"Best Parameters: \", grid_search.best_params_)\n",
    "\n",
    "# Evaluate performance on a test set\n",
    "y_pred = grid_search.predict(X_test)\n",
    "y_prob = grid_search.predict_proba(X_test)[:, 1]  \n",
    "\n",
    "# Model performance metrics\n",
    "accuracy = accuracy_score(y_test, y_pred)\n",
    "precision = precision_score(y_test, y_pred)\n",
    "recall = recall_score(y_test, y_pred)\n",
    "f1 = f1_score(y_test, y_pred)\n",
    "mcc = matthews_corrcoef(y_test, y_pred)\n",
    "roc_auc = roc_auc_score(y_test, y_prob)\n",
    "pr_auc = average_precision_score(y_test, y_prob)\n",
    "classification_report_str = classification_report(y_test, y_pred)\n",
    "conf_matrix = metrics.confusion_matrix(y_test, y_pred)\n",
    "\n",
    "# Print results\n",
    "print(\"\\nModel Performance:\")\n",
    "print(f\"Accuracy: {accuracy:.4f}\")\n",
    "print(f\"Precision: {precision:.4f}\")\n",
    "print(f\"Recall: {recall:.4f}\")\n",
    "print(f\"F1 Score: {f1:.4f}\")\n",
    "print(f\"MCC: {mcc:.4f}\")\n",
    "print(f\"ROC AUC: {roc_auc:.4f}\")\n",
    "print(f\"Precision-Recall AUC (PR AUC): {pr_auc:.4f}\")\n",
    "print(\"Classification Report:\")\n",
    "print(classification_report_str)\n",
    "print(\"Confusion Matrix:\")\n",
    "print(conf_matrix)"
   ],
   "metadata": {
    "collapsed": false,
    "ExecuteTime": {
     "end_time": "2024-11-26T12:24:53.967476Z",
     "start_time": "2024-11-26T11:38:43.751890Z"
    }
   },
   "execution_count": 83
  },
  {
   "cell_type": "code",
   "outputs": [],
   "source": [
    "XGB_ADASYN_RFECV = XGBClassifier(random_state=0, n_jobs=-1, learning_rate=0.8, max_depth=10, n_estimators=200)"
   ],
   "metadata": {
    "collapsed": false,
    "ExecuteTime": {
     "end_time": "2024-11-26T00:28:38.100382Z",
     "start_time": "2024-11-26T00:28:38.084287Z"
    }
   },
   "execution_count": 69
  },
  {
   "cell_type": "code",
   "outputs": [],
   "source": [
    "rfecv_XGB = RFECV(estimator=XGB_ADASYN_RFECV, step=1, cv=10, scoring='accuracy', n_jobs=4)"
   ],
   "metadata": {
    "collapsed": false,
    "ExecuteTime": {
     "end_time": "2024-11-26T00:28:40.528532Z",
     "start_time": "2024-11-26T00:28:40.521693Z"
    }
   },
   "execution_count": 70
  },
  {
   "cell_type": "code",
   "outputs": [
    {
     "data": {
      "text/plain": "RFECV(cv=10,\n      estimator=XGBClassifier(base_score=None, booster=None, callbacks=None,\n                              colsample_bylevel=None, colsample_bynode=None,\n                              colsample_bytree=None, device=None,\n                              early_stopping_rounds=None,\n                              enable_categorical=False, eval_metric=None,\n                              feature_types=None, gamma=None, grow_policy=None,\n                              importance_type=None,\n                              interaction_constraints=None, learning_rate=0.8,\n                              max_bin=None, max_cat_threshold=None,\n                              max_cat_to_onehot=None, max_delta_step=None,\n                              max_depth=10, max_leaves=None,\n                              min_child_weight=None, missing=nan,\n                              monotone_constraints=None, multi_strategy=None,\n                              n_estimators=200, n_jobs=-1,\n                              num_parallel_tree=None, random_state=0, ...),\n      n_jobs=4, scoring='accuracy')",
      "text/html": "<style>#sk-container-id-4 {\n  /* Definition of color scheme common for light and dark mode */\n  --sklearn-color-text: black;\n  --sklearn-color-line: gray;\n  /* Definition of color scheme for unfitted estimators */\n  --sklearn-color-unfitted-level-0: #fff5e6;\n  --sklearn-color-unfitted-level-1: #f6e4d2;\n  --sklearn-color-unfitted-level-2: #ffe0b3;\n  --sklearn-color-unfitted-level-3: chocolate;\n  /* Definition of color scheme for fitted estimators */\n  --sklearn-color-fitted-level-0: #f0f8ff;\n  --sklearn-color-fitted-level-1: #d4ebff;\n  --sklearn-color-fitted-level-2: #b3dbfd;\n  --sklearn-color-fitted-level-3: cornflowerblue;\n\n  /* Specific color for light theme */\n  --sklearn-color-text-on-default-background: var(--sg-text-color, var(--theme-code-foreground, var(--jp-content-font-color1, black)));\n  --sklearn-color-background: var(--sg-background-color, var(--theme-background, var(--jp-layout-color0, white)));\n  --sklearn-color-border-box: var(--sg-text-color, var(--theme-code-foreground, var(--jp-content-font-color1, black)));\n  --sklearn-color-icon: #696969;\n\n  @media (prefers-color-scheme: dark) {\n    /* Redefinition of color scheme for dark theme */\n    --sklearn-color-text-on-default-background: var(--sg-text-color, var(--theme-code-foreground, var(--jp-content-font-color1, white)));\n    --sklearn-color-background: var(--sg-background-color, var(--theme-background, var(--jp-layout-color0, #111)));\n    --sklearn-color-border-box: var(--sg-text-color, var(--theme-code-foreground, var(--jp-content-font-color1, white)));\n    --sklearn-color-icon: #878787;\n  }\n}\n\n#sk-container-id-4 {\n  color: var(--sklearn-color-text);\n}\n\n#sk-container-id-4 pre {\n  padding: 0;\n}\n\n#sk-container-id-4 input.sk-hidden--visually {\n  border: 0;\n  clip: rect(1px 1px 1px 1px);\n  clip: rect(1px, 1px, 1px, 1px);\n  height: 1px;\n  margin: -1px;\n  overflow: hidden;\n  padding: 0;\n  position: absolute;\n  width: 1px;\n}\n\n#sk-container-id-4 div.sk-dashed-wrapped {\n  border: 1px dashed var(--sklearn-color-line);\n  margin: 0 0.4em 0.5em 0.4em;\n  box-sizing: border-box;\n  padding-bottom: 0.4em;\n  background-color: var(--sklearn-color-background);\n}\n\n#sk-container-id-4 div.sk-container {\n  /* jupyter's `normalize.less` sets `[hidden] { display: none; }`\n     but bootstrap.min.css set `[hidden] { display: none !important; }`\n     so we also need the `!important` here to be able to override the\n     default hidden behavior on the sphinx rendered scikit-learn.org.\n     See: https://github.com/scikit-learn/scikit-learn/issues/21755 */\n  display: inline-block !important;\n  position: relative;\n}\n\n#sk-container-id-4 div.sk-text-repr-fallback {\n  display: none;\n}\n\ndiv.sk-parallel-item,\ndiv.sk-serial,\ndiv.sk-item {\n  /* draw centered vertical line to link estimators */\n  background-image: linear-gradient(var(--sklearn-color-text-on-default-background), var(--sklearn-color-text-on-default-background));\n  background-size: 2px 100%;\n  background-repeat: no-repeat;\n  background-position: center center;\n}\n\n/* Parallel-specific style estimator block */\n\n#sk-container-id-4 div.sk-parallel-item::after {\n  content: \"\";\n  width: 100%;\n  border-bottom: 2px solid var(--sklearn-color-text-on-default-background);\n  flex-grow: 1;\n}\n\n#sk-container-id-4 div.sk-parallel {\n  display: flex;\n  align-items: stretch;\n  justify-content: center;\n  background-color: var(--sklearn-color-background);\n  position: relative;\n}\n\n#sk-container-id-4 div.sk-parallel-item {\n  display: flex;\n  flex-direction: column;\n}\n\n#sk-container-id-4 div.sk-parallel-item:first-child::after {\n  align-self: flex-end;\n  width: 50%;\n}\n\n#sk-container-id-4 div.sk-parallel-item:last-child::after {\n  align-self: flex-start;\n  width: 50%;\n}\n\n#sk-container-id-4 div.sk-parallel-item:only-child::after {\n  width: 0;\n}\n\n/* Serial-specific style estimator block */\n\n#sk-container-id-4 div.sk-serial {\n  display: flex;\n  flex-direction: column;\n  align-items: center;\n  background-color: var(--sklearn-color-background);\n  padding-right: 1em;\n  padding-left: 1em;\n}\n\n\n/* Toggleable style: style used for estimator/Pipeline/ColumnTransformer box that is\nclickable and can be expanded/collapsed.\n- Pipeline and ColumnTransformer use this feature and define the default style\n- Estimators will overwrite some part of the style using the `sk-estimator` class\n*/\n\n/* Pipeline and ColumnTransformer style (default) */\n\n#sk-container-id-4 div.sk-toggleable {\n  /* Default theme specific background. It is overwritten whether we have a\n  specific estimator or a Pipeline/ColumnTransformer */\n  background-color: var(--sklearn-color-background);\n}\n\n/* Toggleable label */\n#sk-container-id-4 label.sk-toggleable__label {\n  cursor: pointer;\n  display: block;\n  width: 100%;\n  margin-bottom: 0;\n  padding: 0.5em;\n  box-sizing: border-box;\n  text-align: center;\n}\n\n#sk-container-id-4 label.sk-toggleable__label-arrow:before {\n  /* Arrow on the left of the label */\n  content: \"▸\";\n  float: left;\n  margin-right: 0.25em;\n  color: var(--sklearn-color-icon);\n}\n\n#sk-container-id-4 label.sk-toggleable__label-arrow:hover:before {\n  color: var(--sklearn-color-text);\n}\n\n/* Toggleable content - dropdown */\n\n#sk-container-id-4 div.sk-toggleable__content {\n  max-height: 0;\n  max-width: 0;\n  overflow: hidden;\n  text-align: left;\n  /* unfitted */\n  background-color: var(--sklearn-color-unfitted-level-0);\n}\n\n#sk-container-id-4 div.sk-toggleable__content.fitted {\n  /* fitted */\n  background-color: var(--sklearn-color-fitted-level-0);\n}\n\n#sk-container-id-4 div.sk-toggleable__content pre {\n  margin: 0.2em;\n  border-radius: 0.25em;\n  color: var(--sklearn-color-text);\n  /* unfitted */\n  background-color: var(--sklearn-color-unfitted-level-0);\n}\n\n#sk-container-id-4 div.sk-toggleable__content.fitted pre {\n  /* unfitted */\n  background-color: var(--sklearn-color-fitted-level-0);\n}\n\n#sk-container-id-4 input.sk-toggleable__control:checked~div.sk-toggleable__content {\n  /* Expand drop-down */\n  max-height: 200px;\n  max-width: 100%;\n  overflow: auto;\n}\n\n#sk-container-id-4 input.sk-toggleable__control:checked~label.sk-toggleable__label-arrow:before {\n  content: \"▾\";\n}\n\n/* Pipeline/ColumnTransformer-specific style */\n\n#sk-container-id-4 div.sk-label input.sk-toggleable__control:checked~label.sk-toggleable__label {\n  color: var(--sklearn-color-text);\n  background-color: var(--sklearn-color-unfitted-level-2);\n}\n\n#sk-container-id-4 div.sk-label.fitted input.sk-toggleable__control:checked~label.sk-toggleable__label {\n  background-color: var(--sklearn-color-fitted-level-2);\n}\n\n/* Estimator-specific style */\n\n/* Colorize estimator box */\n#sk-container-id-4 div.sk-estimator input.sk-toggleable__control:checked~label.sk-toggleable__label {\n  /* unfitted */\n  background-color: var(--sklearn-color-unfitted-level-2);\n}\n\n#sk-container-id-4 div.sk-estimator.fitted input.sk-toggleable__control:checked~label.sk-toggleable__label {\n  /* fitted */\n  background-color: var(--sklearn-color-fitted-level-2);\n}\n\n#sk-container-id-4 div.sk-label label.sk-toggleable__label,\n#sk-container-id-4 div.sk-label label {\n  /* The background is the default theme color */\n  color: var(--sklearn-color-text-on-default-background);\n}\n\n/* On hover, darken the color of the background */\n#sk-container-id-4 div.sk-label:hover label.sk-toggleable__label {\n  color: var(--sklearn-color-text);\n  background-color: var(--sklearn-color-unfitted-level-2);\n}\n\n/* Label box, darken color on hover, fitted */\n#sk-container-id-4 div.sk-label.fitted:hover label.sk-toggleable__label.fitted {\n  color: var(--sklearn-color-text);\n  background-color: var(--sklearn-color-fitted-level-2);\n}\n\n/* Estimator label */\n\n#sk-container-id-4 div.sk-label label {\n  font-family: monospace;\n  font-weight: bold;\n  display: inline-block;\n  line-height: 1.2em;\n}\n\n#sk-container-id-4 div.sk-label-container {\n  text-align: center;\n}\n\n/* Estimator-specific */\n#sk-container-id-4 div.sk-estimator {\n  font-family: monospace;\n  border: 1px dotted var(--sklearn-color-border-box);\n  border-radius: 0.25em;\n  box-sizing: border-box;\n  margin-bottom: 0.5em;\n  /* unfitted */\n  background-color: var(--sklearn-color-unfitted-level-0);\n}\n\n#sk-container-id-4 div.sk-estimator.fitted {\n  /* fitted */\n  background-color: var(--sklearn-color-fitted-level-0);\n}\n\n/* on hover */\n#sk-container-id-4 div.sk-estimator:hover {\n  /* unfitted */\n  background-color: var(--sklearn-color-unfitted-level-2);\n}\n\n#sk-container-id-4 div.sk-estimator.fitted:hover {\n  /* fitted */\n  background-color: var(--sklearn-color-fitted-level-2);\n}\n\n/* Specification for estimator info (e.g. \"i\" and \"?\") */\n\n/* Common style for \"i\" and \"?\" */\n\n.sk-estimator-doc-link,\na:link.sk-estimator-doc-link,\na:visited.sk-estimator-doc-link {\n  float: right;\n  font-size: smaller;\n  line-height: 1em;\n  font-family: monospace;\n  background-color: var(--sklearn-color-background);\n  border-radius: 1em;\n  height: 1em;\n  width: 1em;\n  text-decoration: none !important;\n  margin-left: 1ex;\n  /* unfitted */\n  border: var(--sklearn-color-unfitted-level-1) 1pt solid;\n  color: var(--sklearn-color-unfitted-level-1);\n}\n\n.sk-estimator-doc-link.fitted,\na:link.sk-estimator-doc-link.fitted,\na:visited.sk-estimator-doc-link.fitted {\n  /* fitted */\n  border: var(--sklearn-color-fitted-level-1) 1pt solid;\n  color: var(--sklearn-color-fitted-level-1);\n}\n\n/* On hover */\ndiv.sk-estimator:hover .sk-estimator-doc-link:hover,\n.sk-estimator-doc-link:hover,\ndiv.sk-label-container:hover .sk-estimator-doc-link:hover,\n.sk-estimator-doc-link:hover {\n  /* unfitted */\n  background-color: var(--sklearn-color-unfitted-level-3);\n  color: var(--sklearn-color-background);\n  text-decoration: none;\n}\n\ndiv.sk-estimator.fitted:hover .sk-estimator-doc-link.fitted:hover,\n.sk-estimator-doc-link.fitted:hover,\ndiv.sk-label-container:hover .sk-estimator-doc-link.fitted:hover,\n.sk-estimator-doc-link.fitted:hover {\n  /* fitted */\n  background-color: var(--sklearn-color-fitted-level-3);\n  color: var(--sklearn-color-background);\n  text-decoration: none;\n}\n\n/* Span, style for the box shown on hovering the info icon */\n.sk-estimator-doc-link span {\n  display: none;\n  z-index: 9999;\n  position: relative;\n  font-weight: normal;\n  right: .2ex;\n  padding: .5ex;\n  margin: .5ex;\n  width: min-content;\n  min-width: 20ex;\n  max-width: 50ex;\n  color: var(--sklearn-color-text);\n  box-shadow: 2pt 2pt 4pt #999;\n  /* unfitted */\n  background: var(--sklearn-color-unfitted-level-0);\n  border: .5pt solid var(--sklearn-color-unfitted-level-3);\n}\n\n.sk-estimator-doc-link.fitted span {\n  /* fitted */\n  background: var(--sklearn-color-fitted-level-0);\n  border: var(--sklearn-color-fitted-level-3);\n}\n\n.sk-estimator-doc-link:hover span {\n  display: block;\n}\n\n/* \"?\"-specific style due to the `<a>` HTML tag */\n\n#sk-container-id-4 a.estimator_doc_link {\n  float: right;\n  font-size: 1rem;\n  line-height: 1em;\n  font-family: monospace;\n  background-color: var(--sklearn-color-background);\n  border-radius: 1rem;\n  height: 1rem;\n  width: 1rem;\n  text-decoration: none;\n  /* unfitted */\n  color: var(--sklearn-color-unfitted-level-1);\n  border: var(--sklearn-color-unfitted-level-1) 1pt solid;\n}\n\n#sk-container-id-4 a.estimator_doc_link.fitted {\n  /* fitted */\n  border: var(--sklearn-color-fitted-level-1) 1pt solid;\n  color: var(--sklearn-color-fitted-level-1);\n}\n\n/* On hover */\n#sk-container-id-4 a.estimator_doc_link:hover {\n  /* unfitted */\n  background-color: var(--sklearn-color-unfitted-level-3);\n  color: var(--sklearn-color-background);\n  text-decoration: none;\n}\n\n#sk-container-id-4 a.estimator_doc_link.fitted:hover {\n  /* fitted */\n  background-color: var(--sklearn-color-fitted-level-3);\n}\n</style><div id=\"sk-container-id-4\" class=\"sk-top-container\"><div class=\"sk-text-repr-fallback\"><pre>RFECV(cv=10,\n      estimator=XGBClassifier(base_score=None, booster=None, callbacks=None,\n                              colsample_bylevel=None, colsample_bynode=None,\n                              colsample_bytree=None, device=None,\n                              early_stopping_rounds=None,\n                              enable_categorical=False, eval_metric=None,\n                              feature_types=None, gamma=None, grow_policy=None,\n                              importance_type=None,\n                              interaction_constraints=None, learning_rate=0.8,\n                              max_bin=None, max_cat_threshold=None,\n                              max_cat_to_onehot=None, max_delta_step=None,\n                              max_depth=10, max_leaves=None,\n                              min_child_weight=None, missing=nan,\n                              monotone_constraints=None, multi_strategy=None,\n                              n_estimators=200, n_jobs=-1,\n                              num_parallel_tree=None, random_state=0, ...),\n      n_jobs=4, scoring=&#x27;accuracy&#x27;)</pre><b>In a Jupyter environment, please rerun this cell to show the HTML representation or trust the notebook. <br />On GitHub, the HTML representation is unable to render, please try loading this page with nbviewer.org.</b></div><div class=\"sk-container\" hidden><div class=\"sk-item sk-dashed-wrapped\"><div class=\"sk-label-container\"><div class=\"sk-label fitted sk-toggleable\"><input class=\"sk-toggleable__control sk-hidden--visually\" id=\"sk-estimator-id-8\" type=\"checkbox\" ><label for=\"sk-estimator-id-8\" class=\"sk-toggleable__label fitted sk-toggleable__label-arrow fitted\">&nbsp;&nbsp;RFECV<a class=\"sk-estimator-doc-link fitted\" rel=\"noreferrer\" target=\"_blank\" href=\"https://scikit-learn.org/1.5/modules/generated/sklearn.feature_selection.RFECV.html\">?<span>Documentation for RFECV</span></a><span class=\"sk-estimator-doc-link fitted\">i<span>Fitted</span></span></label><div class=\"sk-toggleable__content fitted\"><pre>RFECV(cv=10,\n      estimator=XGBClassifier(base_score=None, booster=None, callbacks=None,\n                              colsample_bylevel=None, colsample_bynode=None,\n                              colsample_bytree=None, device=None,\n                              early_stopping_rounds=None,\n                              enable_categorical=False, eval_metric=None,\n                              feature_types=None, gamma=None, grow_policy=None,\n                              importance_type=None,\n                              interaction_constraints=None, learning_rate=0.8,\n                              max_bin=None, max_cat_threshold=None,\n                              max_cat_to_onehot=None, max_delta_step=None,\n                              max_depth=10, max_leaves=None,\n                              min_child_weight=None, missing=nan,\n                              monotone_constraints=None, multi_strategy=None,\n                              n_estimators=200, n_jobs=-1,\n                              num_parallel_tree=None, random_state=0, ...),\n      n_jobs=4, scoring=&#x27;accuracy&#x27;)</pre></div> </div></div><div class=\"sk-parallel\"><div class=\"sk-parallel-item\"><div class=\"sk-item\"><div class=\"sk-label-container\"><div class=\"sk-label fitted sk-toggleable\"><input class=\"sk-toggleable__control sk-hidden--visually\" id=\"sk-estimator-id-9\" type=\"checkbox\" ><label for=\"sk-estimator-id-9\" class=\"sk-toggleable__label fitted sk-toggleable__label-arrow fitted\">estimator: XGBClassifier</label><div class=\"sk-toggleable__content fitted\"><pre>XGBClassifier(base_score=None, booster=None, callbacks=None,\n              colsample_bylevel=None, colsample_bynode=None,\n              colsample_bytree=None, device=None, early_stopping_rounds=None,\n              enable_categorical=False, eval_metric=None, feature_types=None,\n              gamma=None, grow_policy=None, importance_type=None,\n              interaction_constraints=None, learning_rate=0.8, max_bin=None,\n              max_cat_threshold=None, max_cat_to_onehot=None,\n              max_delta_step=None, max_depth=10, max_leaves=None,\n              min_child_weight=None, missing=nan, monotone_constraints=None,\n              multi_strategy=None, n_estimators=200, n_jobs=-1,\n              num_parallel_tree=None, random_state=0, ...)</pre></div> </div></div><div class=\"sk-serial\"><div class=\"sk-item\"><div class=\"sk-estimator fitted sk-toggleable\"><input class=\"sk-toggleable__control sk-hidden--visually\" id=\"sk-estimator-id-10\" type=\"checkbox\" ><label for=\"sk-estimator-id-10\" class=\"sk-toggleable__label fitted sk-toggleable__label-arrow fitted\">XGBClassifier</label><div class=\"sk-toggleable__content fitted\"><pre>XGBClassifier(base_score=None, booster=None, callbacks=None,\n              colsample_bylevel=None, colsample_bynode=None,\n              colsample_bytree=None, device=None, early_stopping_rounds=None,\n              enable_categorical=False, eval_metric=None, feature_types=None,\n              gamma=None, grow_policy=None, importance_type=None,\n              interaction_constraints=None, learning_rate=0.8, max_bin=None,\n              max_cat_threshold=None, max_cat_to_onehot=None,\n              max_delta_step=None, max_depth=10, max_leaves=None,\n              min_child_weight=None, missing=nan, monotone_constraints=None,\n              multi_strategy=None, n_estimators=200, n_jobs=-1,\n              num_parallel_tree=None, random_state=0, ...)</pre></div> </div></div></div></div></div></div></div></div></div>"
     },
     "execution_count": 71,
     "metadata": {},
     "output_type": "execute_result"
    }
   ],
   "source": [
    "rfecv_XGB.fit(X_res, y_res)"
   ],
   "metadata": {
    "collapsed": false,
    "ExecuteTime": {
     "end_time": "2024-11-26T00:50:43.814307Z",
     "start_time": "2024-11-26T00:28:42.623825Z"
    }
   },
   "execution_count": 71
  },
  {
   "cell_type": "code",
   "outputs": [
    {
     "name": "stdout",
     "output_type": "stream",
     "text": [
      "Optimal Number of Features, XGB: 64\n"
     ]
    }
   ],
   "source": [
    "print(\"Optimal Number of Features, XGB:\", rfecv_XGB.n_features_)"
   ],
   "metadata": {
    "collapsed": false,
    "ExecuteTime": {
     "end_time": "2024-11-26T00:10:12.556775Z",
     "start_time": "2024-11-26T00:10:12.544090Z"
    }
   },
   "execution_count": 57
  },
  {
   "cell_type": "code",
   "outputs": [
    {
     "name": "stdout",
     "output_type": "stream",
     "text": [
      "\n",
      "Model Performance:\n",
      "Accuracy: 0.9224\n",
      "Precision: 0.3460\n",
      "Recall: 0.0627\n",
      "F1 Score: 0.1061\n",
      "MCC: 0.1213\n",
      "ROC AUC: 0.7248\n",
      "Precision-Recall AUC (PR AUC): 0.1897\n",
      "Classification Report:\n",
      "              precision    recall  f1-score   support\n",
      "\n",
      "         0.0       0.93      0.99      0.96     16485\n",
      "         1.0       0.35      0.06      0.11      1308\n",
      "\n",
      "    accuracy                           0.92     17793\n",
      "   macro avg       0.64      0.53      0.53     17793\n",
      "weighted avg       0.89      0.92      0.90     17793\n",
      "\n",
      "Confusion Matrix:\n",
      "[[16330   155]\n",
      " [ 1226    82]]\n"
     ]
    }
   ],
   "source": [
    "# Evaluate performance on a test set\n",
    "y_pred_rfecv = rfecv_XGB.predict(X_test)\n",
    "y_prob_rfecv = rfecv_XGB.predict_proba(X_test)[:, 1]  \n",
    "\n",
    "# Model performance metrics\n",
    "accuracy = accuracy_score(y_test, y_pred_rfecv)\n",
    "precision = precision_score(y_test, y_pred_rfecv)\n",
    "recall = recall_score(y_test, y_pred_rfecv)\n",
    "f1 = f1_score(y_test, y_pred_rfecv)\n",
    "mcc = matthews_corrcoef(y_test, y_pred_rfecv)\n",
    "roc_auc = roc_auc_score(y_test, y_prob_rfecv)\n",
    "pr_auc = average_precision_score(y_test, y_prob_rfecv)\n",
    "classification_report_str = classification_report(y_test, y_pred_rfecv)\n",
    "conf_matrix = confusion_matrix(y_test, y_pred_rfecv)\n",
    "\n",
    "# Print results\n",
    "print(\"\\nModel Performance:\")\n",
    "print(f\"Accuracy: {accuracy:.4f}\")\n",
    "print(f\"Precision: {precision:.4f}\")\n",
    "print(f\"Recall: {recall:.4f}\")\n",
    "print(f\"F1 Score: {f1:.4f}\")\n",
    "print(f\"MCC: {mcc:.4f}\")\n",
    "print(f\"ROC AUC: {roc_auc:.4f}\")\n",
    "print(f\"Precision-Recall AUC (PR AUC): {pr_auc:.4f}\")\n",
    "print(\"Classification Report:\")\n",
    "print(classification_report_str)\n",
    "print(\"Confusion Matrix:\")\n",
    "print(conf_matrix)"
   ],
   "metadata": {
    "collapsed": false,
    "ExecuteTime": {
     "end_time": "2024-11-26T00:11:03.060235Z",
     "start_time": "2024-11-26T00:11:02.934762Z"
    }
   },
   "execution_count": 58
  },
  {
   "cell_type": "code",
   "outputs": [
    {
     "data": {
      "text/plain": "Text(0.5, 1.0, 'XGB with ADASYN-RFECV')"
     },
     "execution_count": 59,
     "metadata": {},
     "output_type": "execute_result"
    },
    {
     "data": {
      "text/plain": "<Figure size 800x600 with 2 Axes>",
      "image/png": "[encoded data removed]"
     },
     "metadata": {},
     "output_type": "display_data"
    }
   ],
   "source": [
    "confusion_matrix = metrics.confusion_matrix(y_test, y_pred_rfecv)\n",
    "cm_display = metrics.ConfusionMatrixDisplay(confusion_matrix = confusion_matrix, display_labels = [0, 1])\n",
    "cm_display.plot()\n",
    "cm_display.ax_.set_title('XGB with ADASYN-RFECV')"
   ],
   "metadata": {
    "collapsed": false,
    "ExecuteTime": {
     "end_time": "2024-11-26T00:11:30.830556Z",
     "start_time": "2024-11-26T00:11:30.638432Z"
    }
   },
   "execution_count": 59
  },
  {
   "cell_type": "code",
   "outputs": [],
   "source": [
    "cv = KFold(n_splits=10, random_state=0, shuffle=True)\n",
    "\n",
    "y_pred_XGB = cross_val_predict(XGB, X_res, y_res, cv=cv)"
   ],
   "metadata": {
    "collapsed": false,
    "ExecuteTime": {
     "end_time": "2024-11-25T15:31:07.019500Z",
     "start_time": "2024-11-25T15:30:44.937339Z"
    }
   },
   "execution_count": 52
  },
  {
   "cell_type": "code",
   "outputs": [
    {
     "name": "stdout",
     "output_type": "stream",
     "text": [
      "...............\n",
      "XGB:\n",
      "Accuracy: 0.9211\n",
      "Precision: 0.3168\n",
      "Recall: 0.0635\n",
      "F1 score: 0.1057\n",
      "MCC: 0.1140\n",
      "roc_auc: 0.5263\n",
      "pr_auc: 0.0889\n",
      "              precision    recall  f1-score   support\n",
      "\n",
      "         0.0       0.93      0.99      0.96     16485\n",
      "         1.0       0.32      0.06      0.11      1308\n",
      "\n",
      "    accuracy                           0.92     17793\n",
      "   macro avg       0.62      0.53      0.53     17793\n",
      "weighted avg       0.89      0.92      0.90     17793\n"
     ]
    }
   ],
   "source": [
    "print('...............')\n",
    "print('XGB:')\n",
    "accuracy = accuracy_score(y_test, y_pred_XGB)\n",
    "print('Accuracy: %.4f' % accuracy)\n",
    "precision = precision_score(y_test, y_pred_XGB)\n",
    "print('Precision: %.4f' % precision)\n",
    "recall = recall_score(y_test, y_pred_XGB)\n",
    "print('Recall: %.4f' % recall)\n",
    "f1 = f1_score(y_test, y_pred_XGB)\n",
    "print('F1 score: %.4f' % f1)\n",
    "MCC = matthews_corrcoef(y_test, y_pred_XGB)\n",
    "print('MCC: %.4f' % (MCC))\n",
    "roc_auc = roc_auc_score(y_test, y_pred_XGB)\n",
    "print('roc_auc: %.4f' % (roc_auc))\n",
    "pr_auc = average_precision_score(y_test, y_pred_XGB)\n",
    "print('pr_auc: %.4f' % (pr_auc))\n",
    "classification_report_str = classification_report(y_test, y_pred_XGB)\n",
    "print(classification_report_str)"
   ],
   "metadata": {
    "collapsed": false,
    "ExecuteTime": {
     "end_time": "2024-11-26T00:11:59.266895Z",
     "start_time": "2024-11-26T00:11:59.212864Z"
    }
   },
   "execution_count": 60
  },
  {
   "cell_type": "markdown",
   "source": [
    "XGB with SMOTE - RFECV"
   ],
   "metadata": {
    "collapsed": false
   }
  },
  {
   "cell_type": "code",
   "outputs": [
    {
     "data": {
      "text/plain": "RFECV(cv=10,\n      estimator=XGBClassifier(base_score=None, booster=None, callbacks=None,\n                              colsample_bylevel=None, colsample_bynode=None,\n                              colsample_bytree=None, device=None,\n                              early_stopping_rounds=None,\n                              enable_categorical=False, eval_metric=None,\n                              feature_types=None, gamma=None, grow_policy=None,\n                              importance_type=None,\n                              interaction_constraints=None, learning_rate=None,\n                              max_bin=None, max_cat_threshold=None,\n                              max_cat_to_onehot=None, max_delta_step=None,\n                              max_depth=None, max_leaves=None,\n                              min_child_weight=None, missing=nan,\n                              monotone_constraints=None, multi_strategy=None,\n                              n_estimators=None, n_jobs=4,\n                              num_parallel_tree=None, random_state=0, ...),\n      n_jobs=4, scoring='accuracy')",
      "text/html": "<style>#sk-container-id-3 {\n  /* Definition of color scheme common for light and dark mode */\n  --sklearn-color-text: black;\n  --sklearn-color-line: gray;\n  /* Definition of color scheme for unfitted estimators */\n  --sklearn-color-unfitted-level-0: #fff5e6;\n  --sklearn-color-unfitted-level-1: #f6e4d2;\n  --sklearn-color-unfitted-level-2: #ffe0b3;\n  --sklearn-color-unfitted-level-3: chocolate;\n  /* Definition of color scheme for fitted estimators */\n  --sklearn-color-fitted-level-0: #f0f8ff;\n  --sklearn-color-fitted-level-1: #d4ebff;\n  --sklearn-color-fitted-level-2: #b3dbfd;\n  --sklearn-color-fitted-level-3: cornflowerblue;\n\n  /* Specific color for light theme */\n  --sklearn-color-text-on-default-background: var(--sg-text-color, var(--theme-code-foreground, var(--jp-content-font-color1, black)));\n  --sklearn-color-background: var(--sg-background-color, var(--theme-background, var(--jp-layout-color0, white)));\n  --sklearn-color-border-box: var(--sg-text-color, var(--theme-code-foreground, var(--jp-content-font-color1, black)));\n  --sklearn-color-icon: #696969;\n\n  @media (prefers-color-scheme: dark) {\n    /* Redefinition of color scheme for dark theme */\n    --sklearn-color-text-on-default-background: var(--sg-text-color, var(--theme-code-foreground, var(--jp-content-font-color1, white)));\n    --sklearn-color-background: var(--sg-background-color, var(--theme-background, var(--jp-layout-color0, #111)));\n    --sklearn-color-border-box: var(--sg-text-color, var(--theme-code-foreground, var(--jp-content-font-color1, white)));\n    --sklearn-color-icon: #878787;\n  }\n}\n\n#sk-container-id-3 {\n  color: var(--sklearn-color-text);\n}\n\n#sk-container-id-3 pre {\n  padding: 0;\n}\n\n#sk-container-id-3 input.sk-hidden--visually {\n  border: 0;\n  clip: rect(1px 1px 1px 1px);\n  clip: rect(1px, 1px, 1px, 1px);\n  height: 1px;\n  margin: -1px;\n  overflow: hidden;\n  padding: 0;\n  position: absolute;\n  width: 1px;\n}\n\n#sk-container-id-3 div.sk-dashed-wrapped {\n  border: 1px dashed var(--sklearn-color-line);\n  margin: 0 0.4em 0.5em 0.4em;\n  box-sizing: border-box;\n  padding-bottom: 0.4em;\n  background-color: var(--sklearn-color-background);\n}\n\n#sk-container-id-3 div.sk-container {\n  /* jupyter's `normalize.less` sets `[hidden] { display: none; }`\n     but bootstrap.min.css set `[hidden] { display: none !important; }`\n     so we also need the `!important` here to be able to override the\n     default hidden behavior on the sphinx rendered scikit-learn.org.\n     See: https://github.com/scikit-learn/scikit-learn/issues/21755 */\n  display: inline-block !important;\n  position: relative;\n}\n\n#sk-container-id-3 div.sk-text-repr-fallback {\n  display: none;\n}\n\ndiv.sk-parallel-item,\ndiv.sk-serial,\ndiv.sk-item {\n  /* draw centered vertical line to link estimators */\n  background-image: linear-gradient(var(--sklearn-color-text-on-default-background), var(--sklearn-color-text-on-default-background));\n  background-size: 2px 100%;\n  background-repeat: no-repeat;\n  background-position: center center;\n}\n\n/* Parallel-specific style estimator block */\n\n#sk-container-id-3 div.sk-parallel-item::after {\n  content: \"\";\n  width: 100%;\n  border-bottom: 2px solid var(--sklearn-color-text-on-default-background);\n  flex-grow: 1;\n}\n\n#sk-container-id-3 div.sk-parallel {\n  display: flex;\n  align-items: stretch;\n  justify-content: center;\n  background-color: var(--sklearn-color-background);\n  position: relative;\n}\n\n#sk-container-id-3 div.sk-parallel-item {\n  display: flex;\n  flex-direction: column;\n}\n\n#sk-container-id-3 div.sk-parallel-item:first-child::after {\n  align-self: flex-end;\n  width: 50%;\n}\n\n#sk-container-id-3 div.sk-parallel-item:last-child::after {\n  align-self: flex-start;\n  width: 50%;\n}\n\n#sk-container-id-3 div.sk-parallel-item:only-child::after {\n  width: 0;\n}\n\n/* Serial-specific style estimator block */\n\n#sk-container-id-3 div.sk-serial {\n  display: flex;\n  flex-direction: column;\n  align-items: center;\n  background-color: var(--sklearn-color-background);\n  padding-right: 1em;\n  padding-left: 1em;\n}\n\n\n/* Toggleable style: style used for estimator/Pipeline/ColumnTransformer box that is\nclickable and can be expanded/collapsed.\n- Pipeline and ColumnTransformer use this feature and define the default style\n- Estimators will overwrite some part of the style using the `sk-estimator` class\n*/\n\n/* Pipeline and ColumnTransformer style (default) */\n\n#sk-container-id-3 div.sk-toggleable {\n  /* Default theme specific background. It is overwritten whether we have a\n  specific estimator or a Pipeline/ColumnTransformer */\n  background-color: var(--sklearn-color-background);\n}\n\n/* Toggleable label */\n#sk-container-id-3 label.sk-toggleable__label {\n  cursor: pointer;\n  display: block;\n  width: 100%;\n  margin-bottom: 0;\n  padding: 0.5em;\n  box-sizing: border-box;\n  text-align: center;\n}\n\n#sk-container-id-3 label.sk-toggleable__label-arrow:before {\n  /* Arrow on the left of the label */\n  content: \"▸\";\n  float: left;\n  margin-right: 0.25em;\n  color: var(--sklearn-color-icon);\n}\n\n#sk-container-id-3 label.sk-toggleable__label-arrow:hover:before {\n  color: var(--sklearn-color-text);\n}\n\n/* Toggleable content - dropdown */\n\n#sk-container-id-3 div.sk-toggleable__content {\n  max-height: 0;\n  max-width: 0;\n  overflow: hidden;\n  text-align: left;\n  /* unfitted */\n  background-color: var(--sklearn-color-unfitted-level-0);\n}\n\n#sk-container-id-3 div.sk-toggleable__content.fitted {\n  /* fitted */\n  background-color: var(--sklearn-color-fitted-level-0);\n}\n\n#sk-container-id-3 div.sk-toggleable__content pre {\n  margin: 0.2em;\n  border-radius: 0.25em;\n  color: var(--sklearn-color-text);\n  /* unfitted */\n  background-color: var(--sklearn-color-unfitted-level-0);\n}\n\n#sk-container-id-3 div.sk-toggleable__content.fitted pre {\n  /* unfitted */\n  background-color: var(--sklearn-color-fitted-level-0);\n}\n\n#sk-container-id-3 input.sk-toggleable__control:checked~div.sk-toggleable__content {\n  /* Expand drop-down */\n  max-height: 200px;\n  max-width: 100%;\n  overflow: auto;\n}\n\n#sk-container-id-3 input.sk-toggleable__control:checked~label.sk-toggleable__label-arrow:before {\n  content: \"▾\";\n}\n\n/* Pipeline/ColumnTransformer-specific style */\n\n#sk-container-id-3 div.sk-label input.sk-toggleable__control:checked~label.sk-toggleable__label {\n  color: var(--sklearn-color-text);\n  background-color: var(--sklearn-color-unfitted-level-2);\n}\n\n#sk-container-id-3 div.sk-label.fitted input.sk-toggleable__control:checked~label.sk-toggleable__label {\n  background-color: var(--sklearn-color-fitted-level-2);\n}\n\n/* Estimator-specific style */\n\n/* Colorize estimator box */\n#sk-container-id-3 div.sk-estimator input.sk-toggleable__control:checked~label.sk-toggleable__label {\n  /* unfitted */\n  background-color: var(--sklearn-color-unfitted-level-2);\n}\n\n#sk-container-id-3 div.sk-estimator.fitted input.sk-toggleable__control:checked~label.sk-toggleable__label {\n  /* fitted */\n  background-color: var(--sklearn-color-fitted-level-2);\n}\n\n#sk-container-id-3 div.sk-label label.sk-toggleable__label,\n#sk-container-id-3 div.sk-label label {\n  /* The background is the default theme color */\n  color: var(--sklearn-color-text-on-default-background);\n}\n\n/* On hover, darken the color of the background */\n#sk-container-id-3 div.sk-label:hover label.sk-toggleable__label {\n  color: var(--sklearn-color-text);\n  background-color: var(--sklearn-color-unfitted-level-2);\n}\n\n/* Label box, darken color on hover, fitted */\n#sk-container-id-3 div.sk-label.fitted:hover label.sk-toggleable__label.fitted {\n  color: var(--sklearn-color-text);\n  background-color: var(--sklearn-color-fitted-level-2);\n}\n\n/* Estimator label */\n\n#sk-container-id-3 div.sk-label label {\n  font-family: monospace;\n  font-weight: bold;\n  display: inline-block;\n  line-height: 1.2em;\n}\n\n#sk-container-id-3 div.sk-label-container {\n  text-align: center;\n}\n\n/* Estimator-specific */\n#sk-container-id-3 div.sk-estimator {\n  font-family: monospace;\n  border: 1px dotted var(--sklearn-color-border-box);\n  border-radius: 0.25em;\n  box-sizing: border-box;\n  margin-bottom: 0.5em;\n  /* unfitted */\n  background-color: var(--sklearn-color-unfitted-level-0);\n}\n\n#sk-container-id-3 div.sk-estimator.fitted {\n  /* fitted */\n  background-color: var(--sklearn-color-fitted-level-0);\n}\n\n/* on hover */\n#sk-container-id-3 div.sk-estimator:hover {\n  /* unfitted */\n  background-color: var(--sklearn-color-unfitted-level-2);\n}\n\n#sk-container-id-3 div.sk-estimator.fitted:hover {\n  /* fitted */\n  background-color: var(--sklearn-color-fitted-level-2);\n}\n\n/* Specification for estimator info (e.g. \"i\" and \"?\") */\n\n/* Common style for \"i\" and \"?\" */\n\n.sk-estimator-doc-link,\na:link.sk-estimator-doc-link,\na:visited.sk-estimator-doc-link {\n  float: right;\n  font-size: smaller;\n  line-height: 1em;\n  font-family: monospace;\n  background-color: var(--sklearn-color-background);\n  border-radius: 1em;\n  height: 1em;\n  width: 1em;\n  text-decoration: none !important;\n  margin-left: 1ex;\n  /* unfitted */\n  border: var(--sklearn-color-unfitted-level-1) 1pt solid;\n  color: var(--sklearn-color-unfitted-level-1);\n}\n\n.sk-estimator-doc-link.fitted,\na:link.sk-estimator-doc-link.fitted,\na:visited.sk-estimator-doc-link.fitted {\n  /* fitted */\n  border: var(--sklearn-color-fitted-level-1) 1pt solid;\n  color: var(--sklearn-color-fitted-level-1);\n}\n\n/* On hover */\ndiv.sk-estimator:hover .sk-estimator-doc-link:hover,\n.sk-estimator-doc-link:hover,\ndiv.sk-label-container:hover .sk-estimator-doc-link:hover,\n.sk-estimator-doc-link:hover {\n  /* unfitted */\n  background-color: var(--sklearn-color-unfitted-level-3);\n  color: var(--sklearn-color-background);\n  text-decoration: none;\n}\n\ndiv.sk-estimator.fitted:hover .sk-estimator-doc-link.fitted:hover,\n.sk-estimator-doc-link.fitted:hover,\ndiv.sk-label-container:hover .sk-estimator-doc-link.fitted:hover,\n.sk-estimator-doc-link.fitted:hover {\n  /* fitted */\n  background-color: var(--sklearn-color-fitted-level-3);\n  color: var(--sklearn-color-background);\n  text-decoration: none;\n}\n\n/* Span, style for the box shown on hovering the info icon */\n.sk-estimator-doc-link span {\n  display: none;\n  z-index: 9999;\n  position: relative;\n  font-weight: normal;\n  right: .2ex;\n  padding: .5ex;\n  margin: .5ex;\n  width: min-content;\n  min-width: 20ex;\n  max-width: 50ex;\n  color: var(--sklearn-color-text);\n  box-shadow: 2pt 2pt 4pt #999;\n  /* unfitted */\n  background: var(--sklearn-color-unfitted-level-0);\n  border: .5pt solid var(--sklearn-color-unfitted-level-3);\n}\n\n.sk-estimator-doc-link.fitted span {\n  /* fitted */\n  background: var(--sklearn-color-fitted-level-0);\n  border: var(--sklearn-color-fitted-level-3);\n}\n\n.sk-estimator-doc-link:hover span {\n  display: block;\n}\n\n/* \"?\"-specific style due to the `<a>` HTML tag */\n\n#sk-container-id-3 a.estimator_doc_link {\n  float: right;\n  font-size: 1rem;\n  line-height: 1em;\n  font-family: monospace;\n  background-color: var(--sklearn-color-background);\n  border-radius: 1rem;\n  height: 1rem;\n  width: 1rem;\n  text-decoration: none;\n  /* unfitted */\n  color: var(--sklearn-color-unfitted-level-1);\n  border: var(--sklearn-color-unfitted-level-1) 1pt solid;\n}\n\n#sk-container-id-3 a.estimator_doc_link.fitted {\n  /* fitted */\n  border: var(--sklearn-color-fitted-level-1) 1pt solid;\n  color: var(--sklearn-color-fitted-level-1);\n}\n\n/* On hover */\n#sk-container-id-3 a.estimator_doc_link:hover {\n  /* unfitted */\n  background-color: var(--sklearn-color-unfitted-level-3);\n  color: var(--sklearn-color-background);\n  text-decoration: none;\n}\n\n#sk-container-id-3 a.estimator_doc_link.fitted:hover {\n  /* fitted */\n  background-color: var(--sklearn-color-fitted-level-3);\n}\n</style><div id=\"sk-container-id-3\" class=\"sk-top-container\"><div class=\"sk-text-repr-fallback\"><pre>RFECV(cv=10,\n      estimator=XGBClassifier(base_score=None, booster=None, callbacks=None,\n                              colsample_bylevel=None, colsample_bynode=None,\n                              colsample_bytree=None, device=None,\n                              early_stopping_rounds=None,\n                              enable_categorical=False, eval_metric=None,\n                              feature_types=None, gamma=None, grow_policy=None,\n                              importance_type=None,\n                              interaction_constraints=None, learning_rate=None,\n                              max_bin=None, max_cat_threshold=None,\n                              max_cat_to_onehot=None, max_delta_step=None,\n                              max_depth=None, max_leaves=None,\n                              min_child_weight=None, missing=nan,\n                              monotone_constraints=None, multi_strategy=None,\n                              n_estimators=None, n_jobs=4,\n                              num_parallel_tree=None, random_state=0, ...),\n      n_jobs=4, scoring=&#x27;accuracy&#x27;)</pre><b>In a Jupyter environment, please rerun this cell to show the HTML representation or trust the notebook. <br />On GitHub, the HTML representation is unable to render, please try loading this page with nbviewer.org.</b></div><div class=\"sk-container\" hidden><div class=\"sk-item sk-dashed-wrapped\"><div class=\"sk-label-container\"><div class=\"sk-label fitted sk-toggleable\"><input class=\"sk-toggleable__control sk-hidden--visually\" id=\"sk-estimator-id-5\" type=\"checkbox\" ><label for=\"sk-estimator-id-5\" class=\"sk-toggleable__label fitted sk-toggleable__label-arrow fitted\">&nbsp;&nbsp;RFECV<a class=\"sk-estimator-doc-link fitted\" rel=\"noreferrer\" target=\"_blank\" href=\"https://scikit-learn.org/1.5/modules/generated/sklearn.feature_selection.RFECV.html\">?<span>Documentation for RFECV</span></a><span class=\"sk-estimator-doc-link fitted\">i<span>Fitted</span></span></label><div class=\"sk-toggleable__content fitted\"><pre>RFECV(cv=10,\n      estimator=XGBClassifier(base_score=None, booster=None, callbacks=None,\n                              colsample_bylevel=None, colsample_bynode=None,\n                              colsample_bytree=None, device=None,\n                              early_stopping_rounds=None,\n                              enable_categorical=False, eval_metric=None,\n                              feature_types=None, gamma=None, grow_policy=None,\n                              importance_type=None,\n                              interaction_constraints=None, learning_rate=None,\n                              max_bin=None, max_cat_threshold=None,\n                              max_cat_to_onehot=None, max_delta_step=None,\n                              max_depth=None, max_leaves=None,\n                              min_child_weight=None, missing=nan,\n                              monotone_constraints=None, multi_strategy=None,\n                              n_estimators=None, n_jobs=4,\n                              num_parallel_tree=None, random_state=0, ...),\n      n_jobs=4, scoring=&#x27;accuracy&#x27;)</pre></div> </div></div><div class=\"sk-parallel\"><div class=\"sk-parallel-item\"><div class=\"sk-item\"><div class=\"sk-label-container\"><div class=\"sk-label fitted sk-toggleable\"><input class=\"sk-toggleable__control sk-hidden--visually\" id=\"sk-estimator-id-6\" type=\"checkbox\" ><label for=\"sk-estimator-id-6\" class=\"sk-toggleable__label fitted sk-toggleable__label-arrow fitted\">estimator: XGBClassifier</label><div class=\"sk-toggleable__content fitted\"><pre>XGBClassifier(base_score=None, booster=None, callbacks=None,\n              colsample_bylevel=None, colsample_bynode=None,\n              colsample_bytree=None, device=None, early_stopping_rounds=None,\n              enable_categorical=False, eval_metric=None, feature_types=None,\n              gamma=None, grow_policy=None, importance_type=None,\n              interaction_constraints=None, learning_rate=None, max_bin=None,\n              max_cat_threshold=None, max_cat_to_onehot=None,\n              max_delta_step=None, max_depth=None, max_leaves=None,\n              min_child_weight=None, missing=nan, monotone_constraints=None,\n              multi_strategy=None, n_estimators=None, n_jobs=4,\n              num_parallel_tree=None, random_state=0, ...)</pre></div> </div></div><div class=\"sk-serial\"><div class=\"sk-item\"><div class=\"sk-estimator fitted sk-toggleable\"><input class=\"sk-toggleable__control sk-hidden--visually\" id=\"sk-estimator-id-7\" type=\"checkbox\" ><label for=\"sk-estimator-id-7\" class=\"sk-toggleable__label fitted sk-toggleable__label-arrow fitted\">XGBClassifier</label><div class=\"sk-toggleable__content fitted\"><pre>XGBClassifier(base_score=None, booster=None, callbacks=None,\n              colsample_bylevel=None, colsample_bynode=None,\n              colsample_bytree=None, device=None, early_stopping_rounds=None,\n              enable_categorical=False, eval_metric=None, feature_types=None,\n              gamma=None, grow_policy=None, importance_type=None,\n              interaction_constraints=None, learning_rate=None, max_bin=None,\n              max_cat_threshold=None, max_cat_to_onehot=None,\n              max_delta_step=None, max_depth=None, max_leaves=None,\n              min_child_weight=None, missing=nan, monotone_constraints=None,\n              multi_strategy=None, n_estimators=None, n_jobs=4,\n              num_parallel_tree=None, random_state=0, ...)</pre></div> </div></div></div></div></div></div></div></div></div>"
     },
     "execution_count": 65,
     "metadata": {},
     "output_type": "execute_result"
    }
   ],
   "source": [
    "rfecv_XGB_SMOTE = RFECV(estimator=XGB, step=1, cv=10, scoring='accuracy', n_jobs=4)\n",
    "#X_res_smote, y_res_smote\n",
    "\n",
    "rfecv_XGB_SMOTE.fit(X_res_smote, y_res_smote)"
   ],
   "metadata": {
    "collapsed": false,
    "ExecuteTime": {
     "end_time": "2024-11-26T00:23:21.696883Z",
     "start_time": "2024-11-26T00:16:59.286072Z"
    }
   },
   "execution_count": 65
  },
  {
   "cell_type": "code",
   "outputs": [
    {
     "name": "stdout",
     "output_type": "stream",
     "text": [
      "Optimal Number of Features, XGB: 79\n"
     ]
    }
   ],
   "source": [
    "print(\"Optimal Number of Features, XGB:\", rfecv_XGB_SMOTE.n_features_)"
   ],
   "metadata": {
    "collapsed": false,
    "ExecuteTime": {
     "end_time": "2024-11-26T01:00:59.940697Z",
     "start_time": "2024-11-26T01:00:59.881909Z"
    }
   },
   "execution_count": 72
  },
  {
   "cell_type": "code",
   "outputs": [
    {
     "name": "stdout",
     "output_type": "stream",
     "text": [
      "\n",
      "Model Performance:\n",
      "Accuracy: 0.9215\n",
      "Precision: 0.3154\n",
      "Recall: 0.0581\n",
      "F1 Score: 0.0981\n",
      "MCC: 0.1086\n",
      "ROC AUC: 0.7207\n",
      "Precision-Recall AUC (PR AUC): 0.1827\n",
      "Classification Report:\n",
      "              precision    recall  f1-score   support\n",
      "\n",
      "         0.0       0.93      0.99      0.96     16485\n",
      "         1.0       0.32      0.06      0.10      1308\n",
      "\n",
      "    accuracy                           0.92     17793\n",
      "   macro avg       0.62      0.52      0.53     17793\n",
      "weighted avg       0.88      0.92      0.90     17793\n"
     ]
    }
   ],
   "source": [
    "# Evaluate performance on a test set\n",
    "y_pred_SMOTE = rfecv_XGB_SMOTE.predict(X_test)\n",
    "y_prob_SMOTE = rfecv_XGB_SMOTE.predict_proba(X_test)[:, 1]  \n",
    "\n",
    "# Model performance metrics\n",
    "accuracy = accuracy_score(y_test, y_pred_SMOTE)\n",
    "precision = precision_score(y_test, y_pred_SMOTE)\n",
    "recall = recall_score(y_test, y_pred_SMOTE)\n",
    "f1 = f1_score(y_test, y_pred_SMOTE)\n",
    "mcc = matthews_corrcoef(y_test, y_pred_SMOTE)\n",
    "roc_auc = roc_auc_score(y_test, y_prob_SMOTE)\n",
    "pr_auc = average_precision_score(y_test, y_prob_SMOTE)\n",
    "classification_report_str = classification_report(y_test, y_pred_SMOTE)\n",
    "\n",
    "# Print results\n",
    "print(\"\\nModel Performance:\")\n",
    "print(f\"Accuracy: {accuracy:.4f}\")\n",
    "print(f\"Precision: {precision:.4f}\")\n",
    "print(f\"Recall: {recall:.4f}\")\n",
    "print(f\"F1 Score: {f1:.4f}\")\n",
    "print(f\"MCC: {mcc:.4f}\")\n",
    "print(f\"ROC AUC: {roc_auc:.4f}\")\n",
    "print(f\"Precision-Recall AUC (PR AUC): {pr_auc:.4f}\")\n",
    "print(\"Classification Report:\")\n",
    "print(classification_report_str)"
   ],
   "metadata": {
    "collapsed": false,
    "ExecuteTime": {
     "end_time": "2024-11-26T01:01:04.650627Z",
     "start_time": "2024-11-26T01:01:04.254231Z"
    }
   },
   "execution_count": 73
  },
  {
   "cell_type": "code",
   "outputs": [
    {
     "data": {
      "text/plain": "Text(0.5, 1.0, 'XGB with SMOTE-RFECV')"
     },
     "execution_count": 74,
     "metadata": {},
     "output_type": "execute_result"
    },
    {
     "data": {
      "text/plain": "<Figure size 800x600 with 2 Axes>",
      "image/png": "[encoded data removed]"
     },
     "metadata": {},
     "output_type": "display_data"
    }
   ],
   "source": [
    "confusion_matrix = metrics.confusion_matrix(y_test, y_pred_SMOTE)\n",
    "cm_display = metrics.ConfusionMatrixDisplay(confusion_matrix = confusion_matrix, display_labels = [0, 1])\n",
    "cm_display.plot()\n",
    "cm_display.ax_.set_title('XGB with SMOTE-RFECV')"
   ],
   "metadata": {
    "collapsed": false,
    "ExecuteTime": {
     "end_time": "2024-11-26T01:01:14.526031Z",
     "start_time": "2024-11-26T01:01:14.285165Z"
    }
   },
   "execution_count": 74
  },
  {
   "cell_type": "code",
   "outputs": [],
   "source": [
    "cv = KFold(n_splits=10, random_state=0, shuffle=True)\n",
    "\n",
    "y_pred_XGB_smote = cross_val_predict(XGB, X_res_smote, y_res_smote, cv=cv)"
   ],
   "metadata": {
    "collapsed": false,
    "ExecuteTime": {
     "end_time": "2024-11-25T13:49:55.869448Z",
     "start_time": "2024-11-25T13:49:44.598056Z"
    }
   },
   "execution_count": 105
  },
  {
   "cell_type": "code",
   "outputs": [
    {
     "name": "stdout",
     "output_type": "stream",
     "text": [
      "...............\n",
      "XGB: SMOTE\n",
      "Accuracy: 0.9582\n",
      "Precision: 0.9896\n",
      "Recall: 0.9261\n",
      "F1 score: 0.9568\n",
      "MCC: 0.9183\n"
     ]
    }
   ],
   "source": [
    "print('...............')\n",
    "print('XGB: SMOTE')\n",
    "# accuracy: (tp + tn) / (p + n)\n",
    "accuracy = accuracy_score(y_res_smote, y_pred_XGB_smote)\n",
    "print('Accuracy: %.4f' % accuracy)\n",
    "# precision tp / (tp + fp)\n",
    "precision = precision_score(y_res_smote, y_pred_XGB_smote)\n",
    "print('Precision: %.4f' % precision)\n",
    "# recall: tp / (tp + fn)\n",
    "recall = recall_score(y_res_smote, y_pred_XGB_smote)\n",
    "print('Recall: %.4f' % recall)\n",
    "# f1: 2 tp / (2 tp + fp + fn)\n",
    "f1 = f1_score(y_res_smote, y_pred_XGB_smote)\n",
    "print('F1 score: %.4f' % f1)\n",
    "MCC = matthews_corrcoef(y_res_smote, y_pred_XGB_smote)\n",
    "print('MCC: %.4f' % (MCC))"
   ],
   "metadata": {
    "collapsed": false,
    "ExecuteTime": {
     "end_time": "2024-11-25T13:50:33.966262Z",
     "start_time": "2024-11-25T13:50:33.831564Z"
    }
   },
   "execution_count": 108
  },
  {
   "cell_type": "code",
   "outputs": [],
   "source": [
    "from sklearn.inspection import permutation_importance\n",
    "import numpy as np\n",
    "import pandas as pd\n",
    "\n",
    "# Function to generate counterfactual for a single instance\n",
    "def generate_counterfactual(instance, model, feature_names, target_value, step=0.05, max_iter=100):\n",
    "    \"\"\"\n",
    "    Generate a counterfactual for a given instance.\n",
    "    Parameters:\n",
    "    - instance: The original feature vector as a Pandas Series\n",
    "    - model: Trained model\n",
    "    - feature_names: List of feature names\n",
    "    - target_value: Desired prediction value\n",
    "    - step: Incremental step for feature adjustments\n",
    "    - max_iter: Maximum number of iterations\n",
    "    \"\"\"\n",
    "    counterfactual = instance.copy()\n",
    "    original_prediction = model.predict([counterfactual.values])[0]\n",
    "\n",
    "    if original_prediction == target_value:\n",
    "        return counterfactual, 0  # Already the desired outcome\n",
    "\n",
    "    for _ in range(max_iter):\n",
    "        for feature in feature_names:\n",
    "            # Adjust the feature slightly\n",
    "            counterfactual[feature] += step * np.sign(target_value - original_prediction)\n",
    "            prediction = model.predict([counterfactual.values])[0]\n",
    "            \n",
    "            if prediction == target_value:\n",
    "                return counterfactual, _ + 1  # Return after finding a valid counterfactual\n",
    "\n",
    "    return None, max_iter  # Return None if no counterfactual found within max_iter"
   ],
   "metadata": {
    "collapsed": false,
    "ExecuteTime": {
     "end_time": "2024-11-26T00:16:16.128139Z",
     "start_time": "2024-11-26T00:16:16.084763Z"
    }
   },
   "execution_count": 62
  },
  {
   "cell_type": "code",
   "outputs": [],
   "source": [
    "feature_names = X_res.columns  # Assuming X_res is your feature set after ADASYN-RFECV\n",
    "target_value = 0  # Desired target value"
   ],
   "metadata": {
    "collapsed": false
   },
   "execution_count": 63
  },
  {
   "cell_type": "code",
   "outputs": [
    {
     "ename": "NameError",
     "evalue": "name 'X_test_selected_XGB_df' is not defined",
     "output_type": "error",
     "traceback": [
      "\u001B[0;31m---------------------------------------------------------------------------\u001B[0m",
      "\u001B[0;31mNameError\u001B[0m                                 Traceback (most recent call last)",
      "Cell \u001B[0;32mIn[64], line 2\u001B[0m\n\u001B[1;32m      1\u001B[0m \u001B[38;5;66;03m# Ensure predictions are for the test set only\u001B[39;00m\n\u001B[0;32m----> 2\u001B[0m y_pred_XGB_test \u001B[38;5;241m=\u001B[39m rfecv_XGB\u001B[38;5;241m.\u001B[39mpredict(\u001B[43mX_test_selected_XGB_df\u001B[49m)\n\u001B[1;32m      4\u001B[0m \u001B[38;5;66;03m# Select misclassified instances\u001B[39;00m\n\u001B[1;32m      5\u001B[0m misclassified_indices \u001B[38;5;241m=\u001B[39m np\u001B[38;5;241m.\u001B[39mwhere(y_test \u001B[38;5;241m!=\u001B[39m y_pred_XGB_test)[\u001B[38;5;241m0\u001B[39m]  \u001B[38;5;66;03m# Get indices of misclassified samples\u001B[39;00m\n",
      "\u001B[0;31mNameError\u001B[0m: name 'X_test_selected_XGB_df' is not defined"
     ]
    }
   ],
   "source": [
    "# Ensure predictions are for the test set only\n",
    "y_pred_XGB_test = rfecv_XGB.predict(X_test_selected_XGB_df)\n",
    "\n",
    "# Select misclassified instances\n",
    "misclassified_indices = np.where(y_test != y_pred_XGB_test)[0]  # Get indices of misclassified samples\n",
    "misclassified = X_test_selected_XGB_df.iloc[misclassified_indices]  # Subset the DataFrame\n",
    "\n",
    "# Generate counterfactuals\n",
    "counterfactuals = []"
   ],
   "metadata": {
    "collapsed": false
   },
   "execution_count": 64
  },
  {
   "cell_type": "code",
   "outputs": [
    {
     "ename": "ValueError",
     "evalue": "('Lengths must match to compare', (17793,), (132324,))",
     "output_type": "error",
     "traceback": [
      "\u001B[0;31m---------------------------------------------------------------------------\u001B[0m",
      "\u001B[0;31mValueError\u001B[0m                                Traceback (most recent call last)",
      "Cell \u001B[0;32mIn[157], line 1\u001B[0m\n\u001B[0;32m----> 1\u001B[0m misclassified \u001B[38;5;241m=\u001B[39m X_test_selected_XGB[(\u001B[43my_test\u001B[49m\u001B[43m \u001B[49m\u001B[38;5;241;43m!=\u001B[39;49m\u001B[43m \u001B[49m\u001B[43my_pred_XGB\u001B[49m)]  \u001B[38;5;66;03m# Select misclassified instances\u001B[39;00m\n\u001B[1;32m      2\u001B[0m counterfactuals \u001B[38;5;241m=\u001B[39m []\n\u001B[1;32m      4\u001B[0m \u001B[38;5;28;01mfor\u001B[39;00m idx, instance \u001B[38;5;129;01min\u001B[39;00m misclassified\u001B[38;5;241m.\u001B[39miterrows():\n",
      "File \u001B[0;32m/Library/Frameworks/Python.framework/Versions/3.12/lib/python3.12/site-packages/pandas/core/ops/common.py:76\u001B[0m, in \u001B[0;36m_unpack_zerodim_and_defer.<locals>.new_method\u001B[0;34m(self, other)\u001B[0m\n\u001B[1;32m     72\u001B[0m             \u001B[38;5;28;01mreturn\u001B[39;00m \u001B[38;5;28mNotImplemented\u001B[39m\n\u001B[1;32m     74\u001B[0m other \u001B[38;5;241m=\u001B[39m item_from_zerodim(other)\n\u001B[0;32m---> 76\u001B[0m \u001B[38;5;28;01mreturn\u001B[39;00m \u001B[43mmethod\u001B[49m\u001B[43m(\u001B[49m\u001B[38;5;28;43mself\u001B[39;49m\u001B[43m,\u001B[49m\u001B[43m \u001B[49m\u001B[43mother\u001B[49m\u001B[43m)\u001B[49m\n",
      "File \u001B[0;32m/Library/Frameworks/Python.framework/Versions/3.12/lib/python3.12/site-packages/pandas/core/arraylike.py:44\u001B[0m, in \u001B[0;36mOpsMixin.__ne__\u001B[0;34m(self, other)\u001B[0m\n\u001B[1;32m     42\u001B[0m \u001B[38;5;129m@unpack_zerodim_and_defer\u001B[39m(\u001B[38;5;124m\"\u001B[39m\u001B[38;5;124m__ne__\u001B[39m\u001B[38;5;124m\"\u001B[39m)\n\u001B[1;32m     43\u001B[0m \u001B[38;5;28;01mdef\u001B[39;00m \u001B[38;5;21m__ne__\u001B[39m(\u001B[38;5;28mself\u001B[39m, other):\n\u001B[0;32m---> 44\u001B[0m     \u001B[38;5;28;01mreturn\u001B[39;00m \u001B[38;5;28;43mself\u001B[39;49m\u001B[38;5;241;43m.\u001B[39;49m\u001B[43m_cmp_method\u001B[49m\u001B[43m(\u001B[49m\u001B[43mother\u001B[49m\u001B[43m,\u001B[49m\u001B[43m \u001B[49m\u001B[43moperator\u001B[49m\u001B[38;5;241;43m.\u001B[39;49m\u001B[43mne\u001B[49m\u001B[43m)\u001B[49m\n",
      "File \u001B[0;32m/Library/Frameworks/Python.framework/Versions/3.12/lib/python3.12/site-packages/pandas/core/series.py:6119\u001B[0m, in \u001B[0;36mSeries._cmp_method\u001B[0;34m(self, other, op)\u001B[0m\n\u001B[1;32m   6116\u001B[0m lvalues \u001B[38;5;241m=\u001B[39m \u001B[38;5;28mself\u001B[39m\u001B[38;5;241m.\u001B[39m_values\n\u001B[1;32m   6117\u001B[0m rvalues \u001B[38;5;241m=\u001B[39m extract_array(other, extract_numpy\u001B[38;5;241m=\u001B[39m\u001B[38;5;28;01mTrue\u001B[39;00m, extract_range\u001B[38;5;241m=\u001B[39m\u001B[38;5;28;01mTrue\u001B[39;00m)\n\u001B[0;32m-> 6119\u001B[0m res_values \u001B[38;5;241m=\u001B[39m \u001B[43mops\u001B[49m\u001B[38;5;241;43m.\u001B[39;49m\u001B[43mcomparison_op\u001B[49m\u001B[43m(\u001B[49m\u001B[43mlvalues\u001B[49m\u001B[43m,\u001B[49m\u001B[43m \u001B[49m\u001B[43mrvalues\u001B[49m\u001B[43m,\u001B[49m\u001B[43m \u001B[49m\u001B[43mop\u001B[49m\u001B[43m)\u001B[49m\n\u001B[1;32m   6121\u001B[0m \u001B[38;5;28;01mreturn\u001B[39;00m \u001B[38;5;28mself\u001B[39m\u001B[38;5;241m.\u001B[39m_construct_result(res_values, name\u001B[38;5;241m=\u001B[39mres_name)\n",
      "File \u001B[0;32m/Library/Frameworks/Python.framework/Versions/3.12/lib/python3.12/site-packages/pandas/core/ops/array_ops.py:321\u001B[0m, in \u001B[0;36mcomparison_op\u001B[0;34m(left, right, op)\u001B[0m\n\u001B[1;32m    316\u001B[0m \u001B[38;5;28;01mif\u001B[39;00m \u001B[38;5;28misinstance\u001B[39m(rvalues, (np\u001B[38;5;241m.\u001B[39mndarray, ABCExtensionArray)):\n\u001B[1;32m    317\u001B[0m     \u001B[38;5;66;03m# TODO: make this treatment consistent across ops and classes.\u001B[39;00m\n\u001B[1;32m    318\u001B[0m     \u001B[38;5;66;03m#  We are not catching all listlikes here (e.g. frozenset, tuple)\u001B[39;00m\n\u001B[1;32m    319\u001B[0m     \u001B[38;5;66;03m#  The ambiguous case is object-dtype.  See GH#27803\u001B[39;00m\n\u001B[1;32m    320\u001B[0m     \u001B[38;5;28;01mif\u001B[39;00m \u001B[38;5;28mlen\u001B[39m(lvalues) \u001B[38;5;241m!=\u001B[39m \u001B[38;5;28mlen\u001B[39m(rvalues):\n\u001B[0;32m--> 321\u001B[0m         \u001B[38;5;28;01mraise\u001B[39;00m \u001B[38;5;167;01mValueError\u001B[39;00m(\n\u001B[1;32m    322\u001B[0m             \u001B[38;5;124m\"\u001B[39m\u001B[38;5;124mLengths must match to compare\u001B[39m\u001B[38;5;124m\"\u001B[39m, lvalues\u001B[38;5;241m.\u001B[39mshape, rvalues\u001B[38;5;241m.\u001B[39mshape\n\u001B[1;32m    323\u001B[0m         )\n\u001B[1;32m    325\u001B[0m \u001B[38;5;28;01mif\u001B[39;00m should_extension_dispatch(lvalues, rvalues) \u001B[38;5;129;01mor\u001B[39;00m (\n\u001B[1;32m    326\u001B[0m     (\u001B[38;5;28misinstance\u001B[39m(rvalues, (Timedelta, BaseOffset, Timestamp)) \u001B[38;5;129;01mor\u001B[39;00m right \u001B[38;5;129;01mis\u001B[39;00m NaT)\n\u001B[1;32m    327\u001B[0m     \u001B[38;5;129;01mand\u001B[39;00m lvalues\u001B[38;5;241m.\u001B[39mdtype \u001B[38;5;241m!=\u001B[39m \u001B[38;5;28mobject\u001B[39m\n\u001B[1;32m    328\u001B[0m ):\n\u001B[1;32m    329\u001B[0m     \u001B[38;5;66;03m# Call the method on lvalues\u001B[39;00m\n\u001B[1;32m    330\u001B[0m     res_values \u001B[38;5;241m=\u001B[39m op(lvalues, rvalues)\n",
      "\u001B[0;31mValueError\u001B[0m: ('Lengths must match to compare', (17793,), (132324,))"
     ]
    }
   ],
   "source": [
    "misclassified = X_test_selected_XGB[(y_test != y_pred_XGB)]  # Select misclassified instances\n",
    "counterfactuals = []\n",
    "\n",
    "for idx, instance in misclassified.iterrows():\n",
    "    cf, steps = generate_counterfactual(instance, XGB, feature_names, target_value)\n",
    "    if cf is not None:\n",
    "        counterfactuals.append((idx, cf, steps))\n",
    "\n",
    "# Convert counterfactuals to DataFrame for analysis\n",
    "counterfactuals_df = pd.DataFrame(counterfactuals, columns=['Index', 'Counterfactual', 'Steps'])\n",
    "\n",
    "# Analyze or save the counterfactual results\n",
    "print(counterfactuals_df)"
   ],
   "metadata": {
    "collapsed": false
   },
   "execution_count": 157
  },
  {
   "cell_type": "code",
   "outputs": [],
   "source": [],
   "metadata": {
    "collapsed": false
   },
   "execution_count": null
  }
 ],
 "metadata": {
  "kernelspec": {
   "display_name": ".venv",
   "language": "python",
   "name": "python3"
  },
  "language_info": {
   "codemirror_mode": {
    "name": "ipython",
    "version": 3
   },
   "file_extension": ".py",
   "mimetype": "text/x-python",
   "name": "python",
   "nbconvert_exporter": "python",
   "pygments_lexer": "ipython3",
   "version": "3.11.1"
  }
 },
 "nbformat": 4,
 "nbformat_minor": 2
}
