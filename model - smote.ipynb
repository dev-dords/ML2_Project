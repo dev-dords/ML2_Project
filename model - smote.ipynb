{
 "cells": [
  {
   "cell_type": "code",
   "execution_count": 10,
   "id": "initial_id",
   "metadata": {
    "collapsed": true,
    "ExecuteTime": {
     "end_time": "2024-11-26T12:31:05.444006Z",
     "start_time": "2024-11-26T12:31:05.410147Z"
    }
   },
   "outputs": [],
   "source": [
    "# Import modules\n",
    "from sklearn.feature_selection import RFECV\n",
    "\n",
    "import pandas as pd\n",
    "import numpy as np\n",
    "import matplotlib.pyplot as plt\n",
    "import seaborn as sns\n",
    "import matplotlib.ticker as ticker\n",
    "plt.rcParams['figure.figsize'] = (8,6)\n",
    "\n",
    "from collections import Counter\n",
    "from sklearn.model_selection import KFold\n",
    "from sklearn.model_selection import cross_val_score\n",
    "import time\n",
    "from sklearn.model_selection import RepeatedKFold, cross_validate, train_test_split\n",
    "from sklearn.metrics import make_scorer, precision_score, recall_score, f1_score, roc_auc_score, matthews_corrcoef, classification_report, confusion_matrix, accuracy_score, ConfusionMatrixDisplay\n",
    "\n",
    "from sklearn.model_selection import cross_val_predict\n",
    "from sklearn.tree import DecisionTreeClassifier\n",
    "from sklearn.linear_model import LogisticRegression\n",
    "from sklearn.neighbors import KNeighborsClassifier\n",
    "from sklearn.ensemble import RandomForestClassifier\n",
    "from xgboost import XGBClassifier\n",
    "from lightgbm import LGBMClassifier\n",
    "from sklearn.neural_network import MLPClassifier\n",
    "\n",
    "from sklearn.naive_bayes import GaussianNB\n",
    "\n",
    "from sklearn import metrics\n",
    "from sklearn.pipeline import Pipeline\n",
    "\n",
    "from sklearn.model_selection import GridSearchCV\n"
   ]
  },
  {
   "cell_type": "code",
   "outputs": [],
   "source": [
    "# Suppress warnings\n",
    "import warnings\n",
    "warnings.filterwarnings('ignore')"
   ],
   "metadata": {
    "collapsed": false,
    "ExecuteTime": {
     "end_time": "2024-11-26T05:22:56.239908Z",
     "start_time": "2024-11-26T05:22:56.233885Z"
    }
   },
   "id": "1d7768d1f549f4a6",
   "execution_count": 2
  },
  {
   "cell_type": "code",
   "outputs": [],
   "source": [
    "# Load the dataset to pandas\n",
    "df_joined = pd.read_csv('data/df_joined.csv')"
   ],
   "metadata": {
    "collapsed": false,
    "ExecuteTime": {
     "end_time": "2024-11-26T12:29:24.433150Z",
     "start_time": "2024-11-26T12:29:23.828044Z"
    }
   },
   "id": "1306a60f60f66d5",
   "execution_count": 5
  },
  {
   "cell_type": "code",
   "outputs": [
    {
     "data": {
      "text/plain": "       SK_ID_CURR  Tenure_Months  Avg_Monthly_Balance  \\\n0          100011       0.412429             0.061929   \n1          100013       0.536723             0.022953   \n2          100023       0.039548             0.003467   \n3          100028       0.271186             0.012143   \n4          100036       0.062147             0.003467   \n...           ...            ...                  ...   \n88960      456242       0.039548             0.162529   \n88961      456244       0.197740             0.164581   \n88962      456246       0.039548             0.017563   \n88963      456247       0.531073             0.028379   \n88964      456250       0.062147             0.189738   \n\n       Avg_Monthly_Utilization  Max_Monthly_Utilization  Pct_Txns_Fully_Paid  \\\n0                     0.302678                 1.050000             0.554054   \n1                     0.115301                 1.024890             0.770833   \n2                     0.000000                 0.000000             1.000000   \n3                     0.035934                 0.165937             0.244898   \n4                     0.000000                 0.000000             1.000000   \n...                        ...                      ...                  ...   \n88960                 0.691240                 0.965666             0.000000   \n88961                 0.444874                 1.008061             0.527778   \n88962                 0.097309                 0.322149             0.250000   \n88963                 0.161225                 1.056679             0.684211   \n88964                 0.970018                 1.112272             0.000000   \n\n       Months_Fully_Paid  Pct_Txns_Minimum_Paid  Months_Minimum_Paid  \\\n0               0.278912               0.418919             0.322917   \n1               0.503401               0.000000             0.000000   \n2               0.054422               0.000000             0.000000   \n3               0.081633               0.142857             0.072917   \n4               0.081633               0.000000             0.000000   \n...                  ...                    ...                  ...   \n88960           0.000000               0.000000             0.000000   \n88961           0.129252               0.000000             0.000000   \n88962           0.013605               0.000000             0.000000   \n88963           0.442177               0.105263             0.104167   \n88964           0.000000               0.000000             0.000000   \n\n       Payment_MinPayment_Ratio_mean  ...  OCCUPATION_TYPE_Laborers  \\\n0                           0.502230  ...                         0   \n1                           0.865673  ...                         0   \n2                           0.000000  ...                         0   \n3                           0.000000  ...                         0   \n4                           0.000000  ...                         0   \n...                              ...  ...                       ...   \n88960                       3.936694  ...                         1   \n88961                       0.000000  ...                         0   \n88962                       7.790879  ...                         1   \n88963                       0.000000  ...                         0   \n88964                       0.170964  ...                         0   \n\n       OCCUPATION_TYPE_Low-skill Laborers  OCCUPATION_TYPE_Managers  \\\n0                                       0                         0   \n1                                       0                         0   \n2                                       0                         0   \n3                                       0                         0   \n4                                       0                         0   \n...                                   ...                       ...   \n88960                                   0                         0   \n88961                                   0                         0   \n88962                                   0                         0   \n88963                                   0                         0   \n88964                                   0                         0   \n\n       OCCUPATION_TYPE_Medicine staff  OCCUPATION_TYPE_Private service staff  \\\n0                                   0                                      0   \n1                                   0                                      0   \n2                                   0                                      0   \n3                                   0                                      0   \n4                                   0                                      1   \n...                               ...                                    ...   \n88960                               0                                      0   \n88961                               0                                      0   \n88962                               0                                      0   \n88963                               0                                      0   \n88964                               0                                      0   \n\n       OCCUPATION_TYPE_Realty agents  OCCUPATION_TYPE_Sales staff  \\\n0                                  0                            0   \n1                                  0                            0   \n2                                  0                            0   \n3                                  0                            1   \n4                                  0                            0   \n...                              ...                          ...   \n88960                              0                            0   \n88961                              0                            0   \n88962                              0                            0   \n88963                              0                            0   \n88964                              0                            0   \n\n       OCCUPATION_TYPE_Secretaries  OCCUPATION_TYPE_Security staff  \\\n0                                0                               0   \n1                                0                               0   \n2                                0                               0   \n3                                0                               0   \n4                                0                               0   \n...                            ...                             ...   \n88960                            0                               0   \n88961                            0                               0   \n88962                            0                               0   \n88963                            0                               0   \n88964                            0                               0   \n\n       OCCUPATION_TYPE_Waiters/barmen staff  \n0                                         0  \n1                                         0  \n2                                         0  \n3                                         0  \n4                                         0  \n...                                     ...  \n88960                                     0  \n88961                                     0  \n88962                                     0  \n88963                                     0  \n88964                                     0  \n\n[88965 rows x 82 columns]",
      "text/html": "<div>\n<style scoped>\n    .dataframe tbody tr th:only-of-type {\n        vertical-align: middle;\n    }\n\n    .dataframe tbody tr th {\n        vertical-align: top;\n    }\n\n    .dataframe thead th {\n        text-align: right;\n    }\n</style>\n<table border=\"1\" class=\"dataframe\">\n  <thead>\n    <tr style=\"text-align: right;\">\n      <th></th>\n      <th>SK_ID_CURR</th>\n      <th>Tenure_Months</th>\n      <th>Avg_Monthly_Balance</th>\n      <th>Avg_Monthly_Utilization</th>\n      <th>Max_Monthly_Utilization</th>\n      <th>Pct_Txns_Fully_Paid</th>\n      <th>Months_Fully_Paid</th>\n      <th>Pct_Txns_Minimum_Paid</th>\n      <th>Months_Minimum_Paid</th>\n      <th>Payment_MinPayment_Ratio_mean</th>\n      <th>...</th>\n      <th>OCCUPATION_TYPE_Laborers</th>\n      <th>OCCUPATION_TYPE_Low-skill Laborers</th>\n      <th>OCCUPATION_TYPE_Managers</th>\n      <th>OCCUPATION_TYPE_Medicine staff</th>\n      <th>OCCUPATION_TYPE_Private service staff</th>\n      <th>OCCUPATION_TYPE_Realty agents</th>\n      <th>OCCUPATION_TYPE_Sales staff</th>\n      <th>OCCUPATION_TYPE_Secretaries</th>\n      <th>OCCUPATION_TYPE_Security staff</th>\n      <th>OCCUPATION_TYPE_Waiters/barmen staff</th>\n    </tr>\n  </thead>\n  <tbody>\n    <tr>\n      <th>0</th>\n      <td>100011</td>\n      <td>0.412429</td>\n      <td>0.061929</td>\n      <td>0.302678</td>\n      <td>1.050000</td>\n      <td>0.554054</td>\n      <td>0.278912</td>\n      <td>0.418919</td>\n      <td>0.322917</td>\n      <td>0.502230</td>\n      <td>...</td>\n      <td>0</td>\n      <td>0</td>\n      <td>0</td>\n      <td>0</td>\n      <td>0</td>\n      <td>0</td>\n      <td>0</td>\n      <td>0</td>\n      <td>0</td>\n      <td>0</td>\n    </tr>\n    <tr>\n      <th>1</th>\n      <td>100013</td>\n      <td>0.536723</td>\n      <td>0.022953</td>\n      <td>0.115301</td>\n      <td>1.024890</td>\n      <td>0.770833</td>\n      <td>0.503401</td>\n      <td>0.000000</td>\n      <td>0.000000</td>\n      <td>0.865673</td>\n      <td>...</td>\n      <td>0</td>\n      <td>0</td>\n      <td>0</td>\n      <td>0</td>\n      <td>0</td>\n      <td>0</td>\n      <td>0</td>\n      <td>0</td>\n      <td>0</td>\n      <td>0</td>\n    </tr>\n    <tr>\n      <th>2</th>\n      <td>100023</td>\n      <td>0.039548</td>\n      <td>0.003467</td>\n      <td>0.000000</td>\n      <td>0.000000</td>\n      <td>1.000000</td>\n      <td>0.054422</td>\n      <td>0.000000</td>\n      <td>0.000000</td>\n      <td>0.000000</td>\n      <td>...</td>\n      <td>0</td>\n      <td>0</td>\n      <td>0</td>\n      <td>0</td>\n      <td>0</td>\n      <td>0</td>\n      <td>0</td>\n      <td>0</td>\n      <td>0</td>\n      <td>0</td>\n    </tr>\n    <tr>\n      <th>3</th>\n      <td>100028</td>\n      <td>0.271186</td>\n      <td>0.012143</td>\n      <td>0.035934</td>\n      <td>0.165937</td>\n      <td>0.244898</td>\n      <td>0.081633</td>\n      <td>0.142857</td>\n      <td>0.072917</td>\n      <td>0.000000</td>\n      <td>...</td>\n      <td>0</td>\n      <td>0</td>\n      <td>0</td>\n      <td>0</td>\n      <td>0</td>\n      <td>0</td>\n      <td>1</td>\n      <td>0</td>\n      <td>0</td>\n      <td>0</td>\n    </tr>\n    <tr>\n      <th>4</th>\n      <td>100036</td>\n      <td>0.062147</td>\n      <td>0.003467</td>\n      <td>0.000000</td>\n      <td>0.000000</td>\n      <td>1.000000</td>\n      <td>0.081633</td>\n      <td>0.000000</td>\n      <td>0.000000</td>\n      <td>0.000000</td>\n      <td>...</td>\n      <td>0</td>\n      <td>0</td>\n      <td>0</td>\n      <td>0</td>\n      <td>1</td>\n      <td>0</td>\n      <td>0</td>\n      <td>0</td>\n      <td>0</td>\n      <td>0</td>\n    </tr>\n    <tr>\n      <th>...</th>\n      <td>...</td>\n      <td>...</td>\n      <td>...</td>\n      <td>...</td>\n      <td>...</td>\n      <td>...</td>\n      <td>...</td>\n      <td>...</td>\n      <td>...</td>\n      <td>...</td>\n      <td>...</td>\n      <td>...</td>\n      <td>...</td>\n      <td>...</td>\n      <td>...</td>\n      <td>...</td>\n      <td>...</td>\n      <td>...</td>\n      <td>...</td>\n      <td>...</td>\n      <td>...</td>\n    </tr>\n    <tr>\n      <th>88960</th>\n      <td>456242</td>\n      <td>0.039548</td>\n      <td>0.162529</td>\n      <td>0.691240</td>\n      <td>0.965666</td>\n      <td>0.000000</td>\n      <td>0.000000</td>\n      <td>0.000000</td>\n      <td>0.000000</td>\n      <td>3.936694</td>\n      <td>...</td>\n      <td>1</td>\n      <td>0</td>\n      <td>0</td>\n      <td>0</td>\n      <td>0</td>\n      <td>0</td>\n      <td>0</td>\n      <td>0</td>\n      <td>0</td>\n      <td>0</td>\n    </tr>\n    <tr>\n      <th>88961</th>\n      <td>456244</td>\n      <td>0.197740</td>\n      <td>0.164581</td>\n      <td>0.444874</td>\n      <td>1.008061</td>\n      <td>0.527778</td>\n      <td>0.129252</td>\n      <td>0.000000</td>\n      <td>0.000000</td>\n      <td>0.000000</td>\n      <td>...</td>\n      <td>0</td>\n      <td>0</td>\n      <td>0</td>\n      <td>0</td>\n      <td>0</td>\n      <td>0</td>\n      <td>0</td>\n      <td>0</td>\n      <td>0</td>\n      <td>0</td>\n    </tr>\n    <tr>\n      <th>88962</th>\n      <td>456246</td>\n      <td>0.039548</td>\n      <td>0.017563</td>\n      <td>0.097309</td>\n      <td>0.322149</td>\n      <td>0.250000</td>\n      <td>0.013605</td>\n      <td>0.000000</td>\n      <td>0.000000</td>\n      <td>7.790879</td>\n      <td>...</td>\n      <td>1</td>\n      <td>0</td>\n      <td>0</td>\n      <td>0</td>\n      <td>0</td>\n      <td>0</td>\n      <td>0</td>\n      <td>0</td>\n      <td>0</td>\n      <td>0</td>\n    </tr>\n    <tr>\n      <th>88963</th>\n      <td>456247</td>\n      <td>0.531073</td>\n      <td>0.028379</td>\n      <td>0.161225</td>\n      <td>1.056679</td>\n      <td>0.684211</td>\n      <td>0.442177</td>\n      <td>0.105263</td>\n      <td>0.104167</td>\n      <td>0.000000</td>\n      <td>...</td>\n      <td>0</td>\n      <td>0</td>\n      <td>0</td>\n      <td>0</td>\n      <td>0</td>\n      <td>0</td>\n      <td>0</td>\n      <td>0</td>\n      <td>0</td>\n      <td>0</td>\n    </tr>\n    <tr>\n      <th>88964</th>\n      <td>456250</td>\n      <td>0.062147</td>\n      <td>0.189738</td>\n      <td>0.970018</td>\n      <td>1.112272</td>\n      <td>0.000000</td>\n      <td>0.000000</td>\n      <td>0.000000</td>\n      <td>0.000000</td>\n      <td>0.170964</td>\n      <td>...</td>\n      <td>0</td>\n      <td>0</td>\n      <td>0</td>\n      <td>0</td>\n      <td>0</td>\n      <td>0</td>\n      <td>0</td>\n      <td>0</td>\n      <td>0</td>\n      <td>0</td>\n    </tr>\n  </tbody>\n</table>\n<p>88965 rows × 82 columns</p>\n</div>"
     },
     "execution_count": 6,
     "metadata": {},
     "output_type": "execute_result"
    }
   ],
   "source": [
    "df_joined"
   ],
   "metadata": {
    "collapsed": false,
    "ExecuteTime": {
     "end_time": "2024-11-26T12:29:25.170992Z",
     "start_time": "2024-11-26T12:29:25.142682Z"
    }
   },
   "id": "fa205194eca2b99f",
   "execution_count": 6
  },
  {
   "cell_type": "code",
   "outputs": [],
   "source": [
    "from imblearn.over_sampling import ADASYN\n",
    "from sklearn.model_selection import train_test_split\n",
    "\n",
    "from sklearn.preprocessing import MinMaxScaler\n",
    "\n",
    "# Initialize the scaler\n",
    "scaler = MinMaxScaler()\n",
    "df_joined[['Avg_Monthly_Balance','Months_Fully_Paid', \n",
    "           'Months_Minimum_Paid', 'Months_Minimum_Paid', \n",
    "           'AMT_INCOME_TOTAL', 'DAYS_EMPLOYED', 'OWN_CAR_AGE',\n",
    "           'Age_Years','Employed_Months', 'AMT_LESS_TOTAL',\n",
    "           'AMT_LESS_MAX', 'DAYS_LATE_MAX', 'SK_DPD_DEF',\n",
    "           'AMT_CREDIT_SUM_TOTAL', 'AMT_CREDIT_SUM_DEBT_TOTAL',\n",
    "           'AMT_CREDIT_SUM_LIMIT_TOTAL', 'AMT_CREDIT_SUM_OVERDUE_TOTAL','Tenure_Months']] = scaler.fit_transform(df_joined[['Avg_Monthly_Balance','Months_Fully_Paid', \n",
    "           'Months_Minimum_Paid', 'Months_Minimum_Paid', \n",
    "           'AMT_INCOME_TOTAL', 'DAYS_EMPLOYED', 'OWN_CAR_AGE',\n",
    "           'Age_Years','Employed_Months', 'AMT_LESS_TOTAL',\n",
    "           'AMT_LESS_MAX', 'DAYS_LATE_MAX', 'SK_DPD_DEF',\n",
    "           'AMT_CREDIT_SUM_TOTAL', 'AMT_CREDIT_SUM_DEBT_TOTAL',\n",
    "           'AMT_CREDIT_SUM_LIMIT_TOTAL', 'AMT_CREDIT_SUM_OVERDUE_TOTAL','Tenure_Months']])\n",
    "\n",
    "# Convert non-numeric columns later to flatten\n",
    "X = df_joined.drop(columns=['W_DEFAULT'])\n",
    "y = df_joined['W_DEFAULT']\n",
    "\n",
    "# Split the data into training and testing sets\n",
    "X_train, X_test, y_train, y_test = train_test_split(X, y, test_size=0.2, random_state=42)"
   ],
   "metadata": {
    "collapsed": false,
    "ExecuteTime": {
     "end_time": "2024-11-26T12:29:26.250151Z",
     "start_time": "2024-11-26T12:29:25.959388Z"
    }
   },
   "id": "30ed485b577c0f0",
   "execution_count": 7
  },
  {
   "cell_type": "code",
   "outputs": [
    {
     "name": "stderr",
     "output_type": "stream",
     "text": [
      "Python(11416) MallocStackLogging: can't turn off malloc stack logging because it was not enabled.\n"
     ]
    },
    {
     "data": {
      "text/plain": "   SK_ID_CURR  Tenure_Months  Avg_Monthly_Balance  Avg_Monthly_Utilization  \\\n0      344496       0.112994             0.003467                 0.000000   \n1      228692       0.045198             0.083030                 0.676647   \n2      281930       0.141243             0.087547                 0.302559   \n3      298803       0.022599             0.103580                 0.460726   \n4      450479       0.412429             0.006406                 0.020289   \n\n   Max_Monthly_Utilization  Pct_Txns_Fully_Paid  Months_Fully_Paid  \\\n0                 0.000000             1.000000           0.142857   \n1                 1.038296             0.111111           0.006803   \n2                 0.878619             0.307692           0.054422   \n3                 0.916242             0.000000           0.000000   \n4                 0.311094             0.878378           0.442177   \n\n   Pct_Txns_Minimum_Paid  Months_Minimum_Paid  Payment_MinPayment_Ratio_mean  \\\n0               0.000000             0.000000                            0.0   \n1               0.000000             0.000000                            0.0   \n2               0.000000             0.000000                            0.0   \n3               0.200000             0.010417                            0.0   \n4               0.027027             0.020833                            0.0   \n\n   ...  OCCUPATION_TYPE_Low-skill Laborers  OCCUPATION_TYPE_Managers  \\\n0  ...                                   0                         0   \n1  ...                                   0                         0   \n2  ...                                   0                         0   \n3  ...                                   0                         0   \n4  ...                                   0                         0   \n\n   OCCUPATION_TYPE_Medicine staff  OCCUPATION_TYPE_Private service staff  \\\n0                               0                                      1   \n1                               0                                      0   \n2                               0                                      0   \n3                               0                                      0   \n4                               0                                      0   \n\n   OCCUPATION_TYPE_Realty agents  OCCUPATION_TYPE_Sales staff  \\\n0                              0                            0   \n1                              0                            0   \n2                              0                            1   \n3                              0                            0   \n4                              0                            1   \n\n   OCCUPATION_TYPE_Secretaries  OCCUPATION_TYPE_Security staff  \\\n0                            0                               0   \n1                            0                               0   \n2                            0                               0   \n3                            0                               0   \n4                            0                               0   \n\n   OCCUPATION_TYPE_Waiters/barmen staff  W_DEFAULT  \n0                                     0        0.0  \n1                                     0        0.0  \n2                                     0        0.0  \n3                                     0        1.0  \n4                                     0        0.0  \n\n[5 rows x 82 columns]",
      "text/html": "<div>\n<style scoped>\n    .dataframe tbody tr th:only-of-type {\n        vertical-align: middle;\n    }\n\n    .dataframe tbody tr th {\n        vertical-align: top;\n    }\n\n    .dataframe thead th {\n        text-align: right;\n    }\n</style>\n<table border=\"1\" class=\"dataframe\">\n  <thead>\n    <tr style=\"text-align: right;\">\n      <th></th>\n      <th>SK_ID_CURR</th>\n      <th>Tenure_Months</th>\n      <th>Avg_Monthly_Balance</th>\n      <th>Avg_Monthly_Utilization</th>\n      <th>Max_Monthly_Utilization</th>\n      <th>Pct_Txns_Fully_Paid</th>\n      <th>Months_Fully_Paid</th>\n      <th>Pct_Txns_Minimum_Paid</th>\n      <th>Months_Minimum_Paid</th>\n      <th>Payment_MinPayment_Ratio_mean</th>\n      <th>...</th>\n      <th>OCCUPATION_TYPE_Low-skill Laborers</th>\n      <th>OCCUPATION_TYPE_Managers</th>\n      <th>OCCUPATION_TYPE_Medicine staff</th>\n      <th>OCCUPATION_TYPE_Private service staff</th>\n      <th>OCCUPATION_TYPE_Realty agents</th>\n      <th>OCCUPATION_TYPE_Sales staff</th>\n      <th>OCCUPATION_TYPE_Secretaries</th>\n      <th>OCCUPATION_TYPE_Security staff</th>\n      <th>OCCUPATION_TYPE_Waiters/barmen staff</th>\n      <th>W_DEFAULT</th>\n    </tr>\n  </thead>\n  <tbody>\n    <tr>\n      <th>0</th>\n      <td>344496</td>\n      <td>0.112994</td>\n      <td>0.003467</td>\n      <td>0.000000</td>\n      <td>0.000000</td>\n      <td>1.000000</td>\n      <td>0.142857</td>\n      <td>0.000000</td>\n      <td>0.000000</td>\n      <td>0.0</td>\n      <td>...</td>\n      <td>0</td>\n      <td>0</td>\n      <td>0</td>\n      <td>1</td>\n      <td>0</td>\n      <td>0</td>\n      <td>0</td>\n      <td>0</td>\n      <td>0</td>\n      <td>0.0</td>\n    </tr>\n    <tr>\n      <th>1</th>\n      <td>228692</td>\n      <td>0.045198</td>\n      <td>0.083030</td>\n      <td>0.676647</td>\n      <td>1.038296</td>\n      <td>0.111111</td>\n      <td>0.006803</td>\n      <td>0.000000</td>\n      <td>0.000000</td>\n      <td>0.0</td>\n      <td>...</td>\n      <td>0</td>\n      <td>0</td>\n      <td>0</td>\n      <td>0</td>\n      <td>0</td>\n      <td>0</td>\n      <td>0</td>\n      <td>0</td>\n      <td>0</td>\n      <td>0.0</td>\n    </tr>\n    <tr>\n      <th>2</th>\n      <td>281930</td>\n      <td>0.141243</td>\n      <td>0.087547</td>\n      <td>0.302559</td>\n      <td>0.878619</td>\n      <td>0.307692</td>\n      <td>0.054422</td>\n      <td>0.000000</td>\n      <td>0.000000</td>\n      <td>0.0</td>\n      <td>...</td>\n      <td>0</td>\n      <td>0</td>\n      <td>0</td>\n      <td>0</td>\n      <td>0</td>\n      <td>1</td>\n      <td>0</td>\n      <td>0</td>\n      <td>0</td>\n      <td>0.0</td>\n    </tr>\n    <tr>\n      <th>3</th>\n      <td>298803</td>\n      <td>0.022599</td>\n      <td>0.103580</td>\n      <td>0.460726</td>\n      <td>0.916242</td>\n      <td>0.000000</td>\n      <td>0.000000</td>\n      <td>0.200000</td>\n      <td>0.010417</td>\n      <td>0.0</td>\n      <td>...</td>\n      <td>0</td>\n      <td>0</td>\n      <td>0</td>\n      <td>0</td>\n      <td>0</td>\n      <td>0</td>\n      <td>0</td>\n      <td>0</td>\n      <td>0</td>\n      <td>1.0</td>\n    </tr>\n    <tr>\n      <th>4</th>\n      <td>450479</td>\n      <td>0.412429</td>\n      <td>0.006406</td>\n      <td>0.020289</td>\n      <td>0.311094</td>\n      <td>0.878378</td>\n      <td>0.442177</td>\n      <td>0.027027</td>\n      <td>0.020833</td>\n      <td>0.0</td>\n      <td>...</td>\n      <td>0</td>\n      <td>0</td>\n      <td>0</td>\n      <td>0</td>\n      <td>0</td>\n      <td>1</td>\n      <td>0</td>\n      <td>0</td>\n      <td>0</td>\n      <td>0.0</td>\n    </tr>\n  </tbody>\n</table>\n<p>5 rows × 82 columns</p>\n</div>"
     },
     "execution_count": 8,
     "metadata": {},
     "output_type": "execute_result"
    }
   ],
   "source": [
    "from imblearn.over_sampling import SMOTE\n",
    "\n",
    "smote = SMOTE(sampling_strategy='minority', random_state=42)\n",
    "X_res_smote, y_res_smote = smote.fit_resample(X_train, y_train)\n",
    "\n",
    "# Combine the resampled features and target variable into a single DataFrame\n",
    "df_smote = pd.concat([X_res_smote, y_res_smote], axis=1)\n",
    "\n",
    "df_smote.head()"
   ],
   "metadata": {
    "collapsed": false,
    "ExecuteTime": {
     "end_time": "2024-11-26T12:29:45.378173Z",
     "start_time": "2024-11-26T12:29:44.729085Z"
    }
   },
   "id": "5c68ff67154267ce",
   "execution_count": 8
  },
  {
   "cell_type": "code",
   "outputs": [
    {
     "name": "stdout",
     "output_type": "stream",
     "text": [
      "Ratio of minority class to majority: 1.00\n"
     ]
    },
    {
     "data": {
      "text/plain": "Text(0.5, 1.0, 'SMOTE Balanced')"
     },
     "execution_count": 9,
     "metadata": {},
     "output_type": "execute_result"
    },
    {
     "data": {
      "text/plain": "<Figure size 640x480 with 1 Axes>",
      "image/png": "[encoded data removed]"
     },
     "metadata": {},
     "output_type": "display_data"
    }
   ],
   "source": [
    "minority_ratio = df_smote['W_DEFAULT'].value_counts()[1] / \\\n",
    "    df_smote['W_DEFAULT'].value_counts()[0]\n",
    "\n",
    "print(f\"Ratio of minority class to majority: {minority_ratio:.2f}\")\n",
    "\n",
    "sns.countplot(data = df_smote, x = 'W_DEFAULT').set_title('SMOTE Balanced')"
   ],
   "metadata": {
    "collapsed": false,
    "ExecuteTime": {
     "end_time": "2024-11-26T12:29:47.234219Z",
     "start_time": "2024-11-26T12:29:46.906143Z"
    }
   },
   "id": "441107a0a532e479",
   "execution_count": 9
  },
  {
   "cell_type": "code",
   "outputs": [
    {
     "name": "stdout",
     "output_type": "stream",
     "text": [
      "Model training started at: 2024-11-26 21:40:05\n",
      "Fitting 5 folds for each of 160 candidates, totalling 800 fits\n"
     ]
    },
    {
     "name": "stderr",
     "output_type": "stream",
     "text": [
      "Python(12371) MallocStackLogging: can't turn off malloc stack logging because it was not enabled.\n",
      "Python(12372) MallocStackLogging: can't turn off malloc stack logging because it was not enabled.\n",
      "Python(12373) MallocStackLogging: can't turn off malloc stack logging because it was not enabled.\n",
      "Python(12374) MallocStackLogging: can't turn off malloc stack logging because it was not enabled.\n",
      "Python(12375) MallocStackLogging: can't turn off malloc stack logging because it was not enabled.\n",
      "Python(12376) MallocStackLogging: can't turn off malloc stack logging because it was not enabled.\n",
      "Python(12377) MallocStackLogging: can't turn off malloc stack logging because it was not enabled.\n",
      "Python(12378) MallocStackLogging: can't turn off malloc stack logging because it was not enabled.\n"
     ]
    },
    {
     "name": "stdout",
     "output_type": "stream",
     "text": [
      "Model training ended at: 2024-11-26 22:02:26\n",
      "Total Training Time: 1341.09 seconds\n",
      "Best Parameters:  {'learning_rate': 0.5, 'max_depth': 10, 'min_child_weight': 1, 'n_estimators': 300, 'scale_pos_weight': 15}\n",
      "\n",
      "Model Performance:\n",
      "Accuracy: 0.9117\n",
      "Precision: 0.2708\n",
      "Recall: 0.1193\n",
      "F1 Score: 0.1656\n",
      "MCC: 0.1383\n",
      "ROC AUC: 0.7028\n",
      "Precision-Recall AUC (PR AUC): 0.1740\n",
      "Classification Report:\n",
      "              precision    recall  f1-score   support\n",
      "\n",
      "         0.0       0.93      0.97      0.95     16485\n",
      "         1.0       0.27      0.12      0.17      1308\n",
      "\n",
      "    accuracy                           0.91     17793\n",
      "   macro avg       0.60      0.55      0.56     17793\n",
      "weighted avg       0.88      0.91      0.90     17793\n",
      "\n",
      "Confusion Matrix:\n",
      "[[16065   420]\n",
      " [ 1152   156]]\n"
     ]
    }
   ],
   "source": [
    "from sklearn.metrics import average_precision_score\n",
    "\n",
    "# Define hyperparameter grid\n",
    "param_grid = {\n",
    "    'n_estimators': [50, 100, 200, 300],\n",
    "    'learning_rate': [0.01, 0.03, 0.5, 0.8, 1],\n",
    "    'max_depth': [1, 10],\n",
    "    'min_child_weight': [1, 3],\n",
    "    'scale_pos_weight': [15, 20]\n",
    "}\n",
    "\n",
    "XGB_SMOTE_RFECV = XGBClassifier(random_state=0, n_jobs=-1)\n",
    "rfecv_XGB = RFECV(estimator=XGB_SMOTE_RFECV, step=1, cv=10, scoring='accuracy', n_jobs=-1)\n",
    "\n",
    "# Create pipeline\n",
    "pipeline = Pipeline([\n",
    "    #('feature_selection', rfecv_XGB)\n",
    "    ('classification', XGB_SMOTE_RFECV)\n",
    "])\n",
    "\n",
    "# Perform GridSearchCV\n",
    "grid_search = GridSearchCV(\n",
    "    estimator=XGB_SMOTE_RFECV,\n",
    "    param_grid=param_grid,\n",
    "    scoring='f1',\n",
    "    cv=5,\n",
    "    n_jobs=-1,\n",
    "    verbose=1\n",
    ")\n",
    "\n",
    "# Record start time\n",
    "start_time = time.time()\n",
    "# Print timing\n",
    "print(f\"Model training started at: {time.strftime('%Y-%m-%d %H:%M:%S', time.localtime(start_time))}\")\n",
    "\n",
    "# Fit the model\n",
    "grid_search.fit(X_res_smote, y_res_smote)\n",
    "\n",
    "# Record end time\n",
    "end_time = time.time()\n",
    "\n",
    "print(f\"Model training ended at: {time.strftime('%Y-%m-%d %H:%M:%S', time.localtime(end_time))}\")\n",
    "print(f\"Total Training Time: {end_time - start_time:.2f} seconds\")\n",
    "\n",
    "# Print the best parameters\n",
    "print(\"Best Parameters: \", grid_search.best_params_)\n",
    "\n",
    "# Evaluate performance on a test set\n",
    "y_pred = grid_search.predict(X_test)\n",
    "y_probs = grid_search.predict_proba(X_test)[:, 1]\n",
    "y_pred_threshold = (y_probs >= 0.3).astype(int)  # Adjust threshold to 0.3\n",
    "\n",
    "# Model performance metrics\n",
    "accuracy = accuracy_score(y_test, y_pred)\n",
    "precision = precision_score(y_test, y_pred)\n",
    "recall = recall_score(y_test, y_pred)\n",
    "f1 = f1_score(y_test, y_pred)\n",
    "mcc = matthews_corrcoef(y_test, y_pred)\n",
    "roc_auc = roc_auc_score(y_test, y_prob)\n",
    "pr_auc = average_precision_score(y_test, y_prob)\n",
    "classification_report_str = classification_report(y_test, y_pred)\n",
    "conf_matrix = metrics.confusion_matrix(y_test, y_pred)\n",
    "\n",
    "# Print results\n",
    "print(\"\\nModel Performance:\")\n",
    "print(f\"Accuracy: {accuracy:.4f}\")\n",
    "print(f\"Precision: {precision:.4f}\")\n",
    "print(f\"Recall: {recall:.4f}\")\n",
    "print(f\"F1 Score: {f1:.4f}\")\n",
    "print(f\"MCC: {mcc:.4f}\")\n",
    "print(f\"ROC AUC: {roc_auc:.4f}\")\n",
    "print(f\"Precision-Recall AUC (PR AUC): {pr_auc:.4f}\")\n",
    "print(\"Classification Report:\")\n",
    "print(classification_report_str)\n",
    "print(\"Confusion Matrix:\")\n",
    "print(conf_matrix)"
   ],
   "metadata": {
    "collapsed": false,
    "ExecuteTime": {
     "end_time": "2024-11-26T14:02:26.866282Z",
     "start_time": "2024-11-26T13:40:05.506737Z"
    }
   },
   "id": "3ab12d25803c667f",
   "execution_count": 24
  },
  {
   "cell_type": "code",
   "outputs": [
    {
     "data": {
      "text/plain": "<Figure size 800x600 with 1 Axes>",
      "image/png": "[encoded data removed]"
     },
     "metadata": {},
     "output_type": "display_data"
    }
   ],
   "source": [
    "from sklearn.metrics import precision_recall_curve\n",
    "import matplotlib.pyplot as plt\n",
    "\n",
    "y_probs = grid_search.predict_proba(X_test)[:, 1]\n",
    "precision, recall, thresholds = precision_recall_curve(y_test, y_probs)\n",
    "\n",
    "plt.plot(recall, precision)\n",
    "plt.xlabel('Recall')\n",
    "plt.ylabel('Precision')\n",
    "plt.title('Precision-Recall Curve')\n",
    "plt.show()"
   ],
   "metadata": {
    "collapsed": false,
    "ExecuteTime": {
     "end_time": "2024-11-26T14:17:23.489264Z",
     "start_time": "2024-11-26T14:17:23.087812Z"
    }
   },
   "id": "40507fa8abaadeaa",
   "execution_count": 27
  },
  {
   "cell_type": "code",
   "outputs": [
    {
     "name": "stdout",
     "output_type": "stream",
     "text": [
      "Model training started at: 2024-11-26 22:21:55\n",
      "Fitting 5 folds for each of 12 candidates, totalling 60 fits\n"
     ]
    },
    {
     "name": "stderr",
     "output_type": "stream",
     "text": [
      "Python(12919) MallocStackLogging: can't turn off malloc stack logging because it was not enabled.\n",
      "Python(12920) MallocStackLogging: can't turn off malloc stack logging because it was not enabled.\n",
      "Python(12921) MallocStackLogging: can't turn off malloc stack logging because it was not enabled.\n",
      "Python(12922) MallocStackLogging: can't turn off malloc stack logging because it was not enabled.\n",
      "Python(12923) MallocStackLogging: can't turn off malloc stack logging because it was not enabled.\n",
      "Python(12924) MallocStackLogging: can't turn off malloc stack logging because it was not enabled.\n",
      "Python(12925) MallocStackLogging: can't turn off malloc stack logging because it was not enabled.\n",
      "Python(12926) MallocStackLogging: can't turn off malloc stack logging because it was not enabled.\n"
     ]
    },
    {
     "name": "stdout",
     "output_type": "stream",
     "text": [
      "Model training ended at: 2024-11-26 22:23:56\n",
      "Total Training Time: 121.06 seconds\n",
      "Best Parameters:  {'gamma': 0, 'learning_rate': 0.5, 'max_depth': 10, 'min_child_weight': 1, 'n_estimators': 300, 'reg_alpha': 0, 'scale_pos_weight': 15}\n",
      "\n",
      "Model Performance:\n",
      "Accuracy: 0.9117\n",
      "Precision: 0.2708\n",
      "Recall: 0.1193\n",
      "F1 Score: 0.1656\n",
      "MCC: 0.1383\n",
      "ROC AUC: 0.7028\n",
      "Precision-Recall AUC (PR AUC): 0.1740\n",
      "Classification Report:\n",
      "              precision    recall  f1-score   support\n",
      "\n",
      "         0.0       0.93      0.97      0.95     16485\n",
      "         1.0       0.27      0.12      0.17      1308\n",
      "\n",
      "    accuracy                           0.91     17793\n",
      "   macro avg       0.60      0.55      0.56     17793\n",
      "weighted avg       0.88      0.91      0.90     17793\n",
      "\n",
      "Confusion Matrix:\n",
      "[[16065   420]\n",
      " [ 1152   156]]\n"
     ]
    }
   ],
   "source": [
    "from sklearn.metrics import average_precision_score\n",
    "\n",
    "# Define hyperparameter grid\n",
    "#Best Parameters:  {'learning_rate': 0.5, 'max_depth': 10, 'min_child_weight': 1, 'n_estimators': 300, 'scale_pos_weight': 15}\n",
    "param_grid = {\n",
    "    'n_estimators': [300],\n",
    "    'learning_rate': [0.5],\n",
    "    'max_depth': [10],\n",
    "    'min_child_weight': [1],\n",
    "    'scale_pos_weight': [15],\n",
    "    'gamma': [0, 0.1, 0.2],\n",
    "    'reg_alpha': [0, 1, 5, 10]\n",
    "}\n",
    "\n",
    "XGB_SMOTE_RFECV = XGBClassifier(random_state=0, n_jobs=-1)\n",
    "rfecv_XGB = RFECV(estimator=XGB_SMOTE_RFECV, step=1, cv=10, scoring='accuracy', n_jobs=-1)\n",
    "\n",
    "# Create pipeline\n",
    "pipeline = Pipeline([\n",
    "    #('feature_selection', rfecv_XGB)\n",
    "    ('classification', XGB_SMOTE_RFECV)\n",
    "])\n",
    "\n",
    "# Perform GridSearchCV\n",
    "grid_search = GridSearchCV(\n",
    "    estimator=XGB_SMOTE_RFECV,\n",
    "    param_grid=param_grid,\n",
    "    scoring='f1',\n",
    "    cv=5,\n",
    "    n_jobs=-1,\n",
    "    verbose=1\n",
    ")\n",
    "\n",
    "# Record start time\n",
    "start_time = time.time()\n",
    "# Print timing\n",
    "print(f\"Model training started at: {time.strftime('%Y-%m-%d %H:%M:%S', time.localtime(start_time))}\")\n",
    "\n",
    "# Fit the model\n",
    "grid_search.fit(X_res_smote, y_res_smote)\n",
    "\n",
    "# Record end time\n",
    "end_time = time.time()\n",
    "\n",
    "print(f\"Model training ended at: {time.strftime('%Y-%m-%d %H:%M:%S', time.localtime(end_time))}\")\n",
    "print(f\"Total Training Time: {end_time - start_time:.2f} seconds\")\n",
    "\n",
    "# Print the best parameters\n",
    "print(\"Best Parameters: \", grid_search.best_params_)\n",
    "\n",
    "# Evaluate performance on a test set\n",
    "y_pred = grid_search.predict(X_test)\n",
    "y_probs = grid_search.predict_proba(X_test)[:, 1]\n",
    "y_pred_threshold = (y_probs >= 0.3).astype(int)  # Adjust threshold to 0.3\n",
    "\n",
    "# Model performance metrics\n",
    "accuracy = accuracy_score(y_test, y_pred)\n",
    "precision = precision_score(y_test, y_pred)\n",
    "recall = recall_score(y_test, y_pred)\n",
    "f1 = f1_score(y_test, y_pred)\n",
    "mcc = matthews_corrcoef(y_test, y_pred)\n",
    "roc_auc = roc_auc_score(y_test, y_prob)\n",
    "pr_auc = average_precision_score(y_test, y_prob)\n",
    "classification_report_str = classification_report(y_test, y_pred)\n",
    "conf_matrix = metrics.confusion_matrix(y_test, y_pred)\n",
    "\n",
    "# Print results\n",
    "print(\"\\nModel Performance:\")\n",
    "print(f\"Accuracy: {accuracy:.4f}\")\n",
    "print(f\"Precision: {precision:.4f}\")\n",
    "print(f\"Recall: {recall:.4f}\")\n",
    "print(f\"F1 Score: {f1:.4f}\")\n",
    "print(f\"MCC: {mcc:.4f}\")\n",
    "print(f\"ROC AUC: {roc_auc:.4f}\")\n",
    "print(f\"Precision-Recall AUC (PR AUC): {pr_auc:.4f}\")\n",
    "print(\"Classification Report:\")\n",
    "print(classification_report_str)\n",
    "print(\"Confusion Matrix:\")\n",
    "print(conf_matrix)"
   ],
   "metadata": {
    "collapsed": false,
    "ExecuteTime": {
     "end_time": "2024-11-26T14:23:56.815562Z",
     "start_time": "2024-11-26T14:21:55.541098Z"
    }
   },
   "id": "3979020975f09cb4",
   "execution_count": 28
  },
  {
   "cell_type": "code",
   "outputs": [],
   "source": [],
   "metadata": {
    "collapsed": false
   },
   "id": "7c486d3d57446930"
  }
 ],
 "metadata": {
  "kernelspec": {
   "display_name": "Python 3",
   "language": "python",
   "name": "python3"
  },
  "language_info": {
   "codemirror_mode": {
    "name": "ipython",
    "version": 2
   },
   "file_extension": ".py",
   "mimetype": "text/x-python",
   "name": "python",
   "nbconvert_exporter": "python",
   "pygments_lexer": "ipython2",
   "version": "2.7.6"
  }
 },
 "nbformat": 4,
 "nbformat_minor": 5
}
